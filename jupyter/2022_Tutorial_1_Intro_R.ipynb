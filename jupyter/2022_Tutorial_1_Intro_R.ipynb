{
  "cells": [
    {
      "cell_type": "markdown",
      "metadata": {
        "collapsed": false,
        "id": "g-1EX1EjUnB_"
      },
      "source": [
        "# Tutorial 1: Introduction to R\n",
        "### Summer School in Statistics for Astronomers XVII, June 2022  \n",
        "### Instructor: Eric Feigelson (Center for Astrostatistics, Penn State University)"
      ]
    },
    {
      "cell_type": "markdown",
      "metadata": {
        "collapsed": false,
        "id": "_FCJFBrqUnCG"
      },
      "source": [
        "R is a powerful software environment for data analysis, graphics, and especially statistical analysis. It is available free to the public at www.r-project.org with easily installed binaries for Linux, MacOS and Windows.  This notebook provides an introduction to R designed for students and researchers in astronomy.  No previous experience is needed, although some familiarity with scripting languages like Matlab or IDL is helpful.  "
      ]
    },
    {
      "cell_type": "markdown",
      "metadata": {
        "collapsed": false,
        "id": "f4ZwVqeEUnCH"
      },
      "source": [
        "### Running the Jupyter notebooks \n",
        "\n",
        "During the Summer School, we are running these Jupyter notebooks in Google's Colaboratory environment [here](https://colab.research.google.com/drive/1iz6ILnVGt8Qc6UR1l7oTPou4l6WSrw9S?usp=sharing).  To run them here, click the **Connect** button in the upper-right section of the page.  When you encounter a Jupyter cell with an R script, click the black circle with arrow button to run the code. You are encouraged to investigate options and learn further by editing the script; again click the black circle to run the cell. \n",
        "\n",
        "You can also run them in Python on your local computer; Python's *anaconda* distribution and *conda* package management system automatically include Jupyter Notebooks as an application accessed through the *Anaconda Navigator*.  However, it is possible that your Anaconda release did not automatically include the R kernel for Jupyter.  You can tell whether it is present if the R logo (blue R in front of gray ellipse) is shown at the top-right of the Jupyter page.  If it is missing, then the code cells below will fail upon execution. To install the R kernel within Python, type: **conda install -c r r-irkernel**.  Alternatively, you can make R available to Jupyter from an R console by typing: **install.packages('IRkernel')  ;  IRkernel::installspec()**.  For further discussion of the relationship between Python, R, Jupyter and other notebook environments, see [here](https://www.datacamp.com/community/blog/jupyter-notebook-r). "
      ]
    },
    {
      "cell_type": "markdown",
      "metadata": {
        "collapsed": false,
        "id": "W9c2hitGUnCH"
      },
      "source": [
        "Some basic operational information:\n",
        "- R is driven by the command line in the R console.  Double-click the R icon or (in Linux) type 'R' in the terminal to open the console. \n",
        "- R has >100,000 'functions' that perform various tasks. Each function uses () brackets to list arguments and parameters.  \n",
        "- Every function has a 'help(fn)' page telling how it is used, what operation is run, and what output it produces with references and examples that can be cut-and-paste into an R console. It is essential for both novice and experienced R programmers to read help files.\n",
        "- A hash mark ( # ) denotes comments in an R script.  A semi-colon ( ; ) has the same action as a carriage return\n",
        "- The commands in the Summer School tutorials can be run interactively in Jupyter, or cut-and-pasted into a separate R console."
      ]
    },
    {
      "cell_type": "markdown",
      "metadata": {
        "id": "96opTdEahmMu"
      },
      "source": [
        "****\n",
        "\n",
        "**In Section I** we examine and set up our software environment. *sessionInfo()* tells the operating system, and basic pre-installed packages. Try this both in Google Colaboratory and on your local R console.  *getwd()* and *setwd()* are commonly used functions at the beginning of a session -- *wd* stands for 'working directory'.  Google Colaboratory does not allow changing directories, but you will want to create a directory for our Summer School work on your local computer.  *library()* pops up a new window listing the CRAN packages currently available to you.  Remember there are ~19000 more!  Finally, we run *citation()* that gives the citation to R for publications. Every CRAN package has a corresponding *citation(package)* that should be used for publications."
      ]
    },
    {
      "cell_type": "code",
      "execution_count": 1,
      "metadata": {
        "colab": {
          "base_uri": "https://localhost:8080/",
          "height": 481
        },
        "collapsed": true,
        "id": "rrFK4kPWUnCI",
        "outputId": "6c0d5910-f902-4e57-d152-6d1191fbaa8c",
        "vscode": {
          "languageId": "r"
        }
      },
      "outputs": [
        {
          "data": {
            "text/plain": [
              "R version 4.2.1 (2022-06-23)\n",
              "Platform: x86_64-pc-linux-gnu (64-bit)\n",
              "Running under: Ubuntu 18.04.6 LTS\n",
              "\n",
              "Matrix products: default\n",
              "BLAS:   /usr/lib/x86_64-linux-gnu/openblas/libblas.so.3\n",
              "LAPACK: /usr/lib/x86_64-linux-gnu/libopenblasp-r0.2.20.so\n",
              "\n",
              "locale:\n",
              " [1] LC_CTYPE=en_US.UTF-8       LC_NUMERIC=C              \n",
              " [3] LC_TIME=en_US.UTF-8        LC_COLLATE=en_US.UTF-8    \n",
              " [5] LC_MONETARY=en_US.UTF-8    LC_MESSAGES=en_US.UTF-8   \n",
              " [7] LC_PAPER=en_US.UTF-8       LC_NAME=C                 \n",
              " [9] LC_ADDRESS=C               LC_TELEPHONE=C            \n",
              "[11] LC_MEASUREMENT=en_US.UTF-8 LC_IDENTIFICATION=C       \n",
              "\n",
              "attached base packages:\n",
              "[1] stats     graphics  grDevices utils     datasets  methods   base     \n",
              "\n",
              "loaded via a namespace (and not attached):\n",
              " [1] fansi_1.0.3     crayon_1.5.2    digest_0.6.29   utf8_1.2.2     \n",
              " [5] IRdisplay_1.1   repr_1.1.4      lifecycle_1.0.3 jsonlite_1.8.2 \n",
              " [9] evaluate_0.17   pillar_1.8.1    rlang_1.0.6     cli_3.4.1      \n",
              "[13] uuid_1.1-0      vctrs_0.4.2     IRkernel_1.3    tools_4.2.1    \n",
              "[17] glue_1.6.2      fastmap_1.1.0   compiler_4.2.1  base64enc_0.1-3\n",
              "[21] pbdZMQ_0.3-7    htmltools_0.5.3"
            ]
          },
          "metadata": {},
          "output_type": "display_data"
        }
      ],
      "source": [
        "# I.  Set up your session\n",
        "\n",
        "sessionInfo()  "
      ]
    },
    {
      "cell_type": "code",
      "execution_count": 2,
      "metadata": {
        "colab": {
          "base_uri": "https://localhost:8080/",
          "height": 34
        },
        "id": "NJJBawVQjKaP",
        "outputId": "a911c334-0b0e-4a43-c2ad-82851f1cc0f6",
        "vscode": {
          "languageId": "r"
        }
      },
      "outputs": [
        {
          "data": {
            "text/html": [
              "'/content'"
            ],
            "text/latex": [
              "'/content'"
            ],
            "text/markdown": [
              "'/content'"
            ],
            "text/plain": [
              "[1] \"/content\""
            ]
          },
          "metadata": {},
          "output_type": "display_data"
        }
      ],
      "source": [
        "getwd()                     # find working directory.  \n",
        "#setwd('/Users/ericfeigelson/Desktop/Rdir')  # set working directory if you run \n",
        "                                             # locally on your computer\n",
        "#getwd()                     # see the working directory has changed"
      ]
    },
    {
      "cell_type": "code",
      "execution_count": 3,
      "metadata": {
        "colab": {
          "base_uri": "https://localhost:8080/",
          "height": 392
        },
        "id": "RV6FEm_xUnCJ",
        "outputId": "9266b63e-b3b1-4a40-e9a3-d3bc47c6b554",
        "vscode": {
          "languageId": "r"
        }
      },
      "outputs": [
        {
          "data": {
            "text/plain": [
              "\n",
              "To cite R in publications use:\n",
              "\n",
              "  R Core Team (2022). R: A language and environment for statistical\n",
              "  computing. R Foundation for Statistical Computing, Vienna, Austria.\n",
              "  URL https://www.R-project.org/.\n",
              "\n",
              "A BibTeX entry for LaTeX users is\n",
              "\n",
              "  @Manual{,\n",
              "    title = {R: A Language and Environment for Statistical Computing},\n",
              "    author = {{R Core Team}},\n",
              "    organization = {R Foundation for Statistical Computing},\n",
              "    address = {Vienna, Austria},\n",
              "    year = {2022},\n",
              "    url = {https://www.R-project.org/},\n",
              "  }\n",
              "\n",
              "We have invested a lot of time and effort in creating R, please cite it\n",
              "when using it for data analysis. See also ‘citation(\"pkgname\")’ for\n",
              "citing R packages.\n"
            ]
          },
          "metadata": {},
          "output_type": "display_data"
        }
      ],
      "source": [
        "library()                   # see packages installed on your computer\n",
        "                            # ~30 are installed automatically with R\n",
        "citation()                  # quote this citation in any publication using R"
      ]
    },
    {
      "cell_type": "markdown",
      "metadata": {
        "id": "7WdmwwGSjWE_"
      },
      "source": [
        "****\n",
        "\n",
        "**Section II** creates a simple R object -- a vector of four integers -- and functions that tell its characteristics.  *ls()* is useful to see what objects are in your current session.  The *str* function is very useful for seeing the structure of complex R objects produced by advanced statistical functions. Note that the content of an object is displayed on the console by just stating its name; no *print* or *show* command is needed. The *cat* function gives a more elegant way to display on the console. \n",
        "\n",
        "*write* and *save* bring R objects out of your session onto your disk in ASCII and binary formats respectively. CRAN package *FITSio* provides output in astronomers' FITS format.   \n",
        "\n",
        "R vectors and arrays start at index 1, unlike Python where the first element has index 0.  This incompatibility can complicate programs that entangle the two languages.  It is very useful to [link text](https://)"
      ]
    },
    {
      "cell_type": "code",
      "execution_count": 4,
      "metadata": {
        "colab": {
          "base_uri": "https://localhost:8080/",
          "height": 175
        },
        "id": "cqdb23DtUnCJ",
        "outputId": "8b245594-b390-459c-b122-78925fd615c6",
        "vscode": {
          "languageId": "r"
        }
      },
      "outputs": [
        {
          "data": {
            "text/html": [
              "4"
            ],
            "text/latex": [
              "4"
            ],
            "text/markdown": [
              "4"
            ],
            "text/plain": [
              "[1] 4"
            ]
          },
          "metadata": {},
          "output_type": "display_data"
        },
        {
          "data": {
            "text/html": [
              "227"
            ],
            "text/latex": [
              "227"
            ],
            "text/markdown": [
              "227"
            ],
            "text/plain": [
              "[1] 227"
            ]
          },
          "metadata": {},
          "output_type": "display_data"
        },
        {
          "data": {
            "text/html": [
              "51"
            ],
            "text/latex": [
              "51"
            ],
            "text/markdown": [
              "51"
            ],
            "text/plain": [
              "[1] 51"
            ]
          },
          "metadata": {},
          "output_type": "display_data"
        },
        {
          "data": {
            "text/html": [
              "18.5325"
            ],
            "text/latex": [
              "18.5325"
            ],
            "text/markdown": [
              "18.5325"
            ],
            "text/plain": [
              "[1] 18.5325"
            ]
          },
          "metadata": {},
          "output_type": "display_data"
        },
        {
          "data": {
            "text/html": [
              "'a'"
            ],
            "text/latex": [
              "'a'"
            ],
            "text/markdown": [
              "'a'"
            ],
            "text/plain": [
              "[1] \"a\""
            ]
          },
          "metadata": {},
          "output_type": "display_data"
        },
        {
          "data": {
            "text/html": [
              "'numeric'"
            ],
            "text/latex": [
              "'numeric'"
            ],
            "text/markdown": [
              "'numeric'"
            ],
            "text/plain": [
              "[1] \"numeric\""
            ]
          },
          "metadata": {},
          "output_type": "display_data"
        },
        {
          "name": "stdout",
          "output_type": "stream",
          "text": [
            " num [1:4] 33 44 92 58\n"
          ]
        },
        {
          "data": {
            "text/plain": [
              "   Min. 1st Qu.  Median    Mean 3rd Qu.    Max. \n",
              "  33.00   41.25   51.00   56.75   66.50   92.00 "
            ]
          },
          "metadata": {},
          "output_type": "display_data"
        }
      ],
      "source": [
        "# II. Create and characterize a vector\n",
        "\n",
        "a <- c(33, 44, 92, 58)      # combine numbers into a vector\n",
        "length(a)\n",
        "sum(a)\n",
        "median(a)  ;  mad(a)\n",
        "ls()                        # list names of objects in your environment\n",
        "class(a)                    # state the `class' of an R object (described in III below)\n",
        "str(a)                      # state the structure of an R object\n",
        "summary(a)                  # many R objects have a built-in 'summary' function"
      ]
    },
    {
      "cell_type": "code",
      "execution_count": 5,
      "metadata": {
        "colab": {
          "base_uri": "https://localhost:8080/",
          "height": 52
        },
        "id": "I3ZS9Gf-UnCK",
        "outputId": "e493f67f-7155-4528-e7c7-a5149e88ae21",
        "vscode": {
          "languageId": "r"
        }
      },
      "outputs": [
        {
          "data": {
            "text/html": [
              "<style>\n",
              ".list-inline {list-style: none; margin:0; padding: 0}\n",
              ".list-inline>li {display: inline-block}\n",
              ".list-inline>li:not(:last-child)::after {content: \"\\00b7\"; padding: 0 .5ex}\n",
              "</style>\n",
              "<ol class=list-inline><li>33</li><li>44</li><li>92</li><li>58</li></ol>\n"
            ],
            "text/latex": [
              "\\begin{enumerate*}\n",
              "\\item 33\n",
              "\\item 44\n",
              "\\item 92\n",
              "\\item 58\n",
              "\\end{enumerate*}\n"
            ],
            "text/markdown": [
              "1. 33\n",
              "2. 44\n",
              "3. 92\n",
              "4. 58\n",
              "\n",
              "\n"
            ],
            "text/plain": [
              "[1] 33 44 92 58"
            ]
          },
          "metadata": {},
          "output_type": "display_data"
        },
        {
          "name": "stdout",
          "output_type": "stream",
          "text": [
            "Sum of  4  elements in the vector a =  227 \n"
          ]
        }
      ],
      "source": [
        "a                           # display the contents of an R object on the console\n",
        "# Annotated write to console. The \\n symbol is a carriage return.\n",
        "cat('Sum of ', length(a), ' elements in the vector a = ', sum(a), '\\n')\n",
        "\n",
        "write(file='output', a)     # write an ASCII file into the working directory\n",
        "save(file='output_bin', a)  # write a binary file\n",
        "save(file='output_bin', a)  # error because 'Save' is not a known function.\n",
        "                            # R syntax is case sensitive."
      ]
    },
    {
      "cell_type": "code",
      "execution_count": 6,
      "metadata": {
        "colab": {
          "base_uri": "https://localhost:8080/",
          "height": 121
        },
        "id": "1rmy1In3UnCL",
        "outputId": "a056e2a3-d524-4a52-a2c2-ac45a8f77c8f",
        "vscode": {
          "languageId": "r"
        }
      },
      "outputs": [
        {
          "data": {
            "text/html": [
              "<style>\n",
              ".list-inline {list-style: none; margin:0; padding: 0}\n",
              ".list-inline>li {display: inline-block}\n",
              ".list-inline>li:not(:last-child)::after {content: \"\\00b7\"; padding: 0 .5ex}\n",
              "</style>\n",
              "<ol class=list-inline><li>33</li><li>44</li><li>92</li><li>58</li></ol>\n"
            ],
            "text/latex": [
              "\\begin{enumerate*}\n",
              "\\item 33\n",
              "\\item 44\n",
              "\\item 92\n",
              "\\item 58\n",
              "\\end{enumerate*}\n"
            ],
            "text/markdown": [
              "1. 33\n",
              "2. 44\n",
              "3. 92\n",
              "4. 58\n",
              "\n",
              "\n"
            ],
            "text/plain": [
              "[1] 33 44 92 58"
            ]
          },
          "metadata": {},
          "output_type": "display_data"
        },
        {
          "data": {
            "text/html": [
              "92"
            ],
            "text/latex": [
              "92"
            ],
            "text/markdown": [
              "92"
            ],
            "text/plain": [
              "[1] 92"
            ]
          },
          "metadata": {},
          "output_type": "display_data"
        },
        {
          "data": {
            "text/html": [
              "<style>\n",
              ".list-inline {list-style: none; margin:0; padding: 0}\n",
              ".list-inline>li {display: inline-block}\n",
              ".list-inline>li:not(:last-child)::after {content: \"\\00b7\"; padding: 0 .5ex}\n",
              "</style>\n",
              "<ol class=list-inline><li>FALSE</li><li>TRUE</li><li>TRUE</li><li>TRUE</li></ol>\n"
            ],
            "text/latex": [
              "\\begin{enumerate*}\n",
              "\\item FALSE\n",
              "\\item TRUE\n",
              "\\item TRUE\n",
              "\\item TRUE\n",
              "\\end{enumerate*}\n"
            ],
            "text/markdown": [
              "1. FALSE\n",
              "2. TRUE\n",
              "3. TRUE\n",
              "4. TRUE\n",
              "\n",
              "\n"
            ],
            "text/plain": [
              "[1] FALSE  TRUE  TRUE  TRUE"
            ]
          },
          "metadata": {},
          "output_type": "display_data"
        },
        {
          "data": {
            "text/html": [
              "194"
            ],
            "text/latex": [
              "194"
            ],
            "text/markdown": [
              "194"
            ],
            "text/plain": [
              "[1] 194"
            ]
          },
          "metadata": {},
          "output_type": "display_data"
        },
        {
          "data": {
            "text/html": [
              "3"
            ],
            "text/latex": [
              "3"
            ],
            "text/markdown": [
              "3"
            ],
            "text/plain": [
              "[1] 3"
            ]
          },
          "metadata": {},
          "output_type": "display_data"
        },
        {
          "data": {
            "text/html": [
              "2"
            ],
            "text/latex": [
              "2"
            ],
            "text/markdown": [
              "2"
            ],
            "text/plain": [
              "[1] 2"
            ]
          },
          "metadata": {},
          "output_type": "display_data"
        }
      ],
      "source": [
        "# Manipulation of vector indices\n",
        "\n",
        "a[1:4]          # show all four elements of the vector\n",
        "a[3]            # note that R vectors start with index 1 not 0, unlike Python\n",
        "a > 40          # logical operation\n",
        "sum(a[a>40])    # note the self-referential use of vector/array indices here\n",
        "which.max(a)    # R has many built-in functions for vectors and arrays\n",
        "match(44, a)"
      ]
    },
    {
      "cell_type": "markdown",
      "metadata": {
        "collapsed": false,
        "id": "4WDGHRRNUnCL"
      },
      "source": [
        "****\n",
        "\n",
        "**Section III** highlights classes and packages.  Base-R places objects into several: numeric, character, logical, vector, matrix, factor, data.frame, list, and dozens of others designed by advanced R functions and CRAN packages. *plot, print, summary* functions are adapted to class objects; see e.g. *methods(summary)*.  \n",
        "\n",
        "Two particularly important classes are the 'data frame' used for tabular data and the 'list' used as a bucket with heterogeneous content.  The data frame is a 2-dimensional array with associated column names. The list class allows a hierarchical structure of R objects such as scalars, vectors, arrays, and attributes.  Here we make a hierarchical list, use 'str' (structure) to show its contents, and access an element of the list using the $ delimiter. "
      ]
    },
    {
      "cell_type": "code",
      "execution_count": 7,
      "metadata": {
        "colab": {
          "base_uri": "https://localhost:8080/",
          "height": 416
        },
        "id": "KiC-8vHEUnCM",
        "outputId": "1cb07d0e-4b32-4cc4-d3df-c7f52483f706",
        "vscode": {
          "languageId": "r"
        }
      },
      "outputs": [
        {
          "data": {
            "text/html": [
              "'data.frame'"
            ],
            "text/latex": [
              "'data.frame'"
            ],
            "text/markdown": [
              "'data.frame'"
            ],
            "text/plain": [
              "[1] \"data.frame\""
            ]
          },
          "metadata": {},
          "output_type": "display_data"
        },
        {
          "data": {
            "text/html": [
              "<table class=\"dataframe\">\n",
              "<caption>A data.frame: 4 × 3</caption>\n",
              "<thead>\n",
              "\t<tr><th scope=col>ID</th><th scope=col>a</th><th scope=col>a_cubed</th></tr>\n",
              "\t<tr><th scope=col>&lt;dbl&gt;</th><th scope=col>&lt;dbl&gt;</th><th scope=col>&lt;dbl&gt;</th></tr>\n",
              "</thead>\n",
              "<tbody>\n",
              "\t<tr><td>1</td><td>33</td><td> 35937</td></tr>\n",
              "\t<tr><td>2</td><td>44</td><td> 85184</td></tr>\n",
              "\t<tr><td>3</td><td>92</td><td>778688</td></tr>\n",
              "\t<tr><td>4</td><td>58</td><td>195112</td></tr>\n",
              "</tbody>\n",
              "</table>\n"
            ],
            "text/latex": [
              "A data.frame: 4 × 3\n",
              "\\begin{tabular}{lll}\n",
              " ID & a & a\\_cubed\\\\\n",
              " <dbl> & <dbl> & <dbl>\\\\\n",
              "\\hline\n",
              "\t 1 & 33 &  35937\\\\\n",
              "\t 2 & 44 &  85184\\\\\n",
              "\t 3 & 92 & 778688\\\\\n",
              "\t 4 & 58 & 195112\\\\\n",
              "\\end{tabular}\n"
            ],
            "text/markdown": [
              "\n",
              "A data.frame: 4 × 3\n",
              "\n",
              "| ID &lt;dbl&gt; | a &lt;dbl&gt; | a_cubed &lt;dbl&gt; |\n",
              "|---|---|---|\n",
              "| 1 | 33 |  35937 |\n",
              "| 2 | 44 |  85184 |\n",
              "| 3 | 92 | 778688 |\n",
              "| 4 | 58 | 195112 |\n",
              "\n"
            ],
            "text/plain": [
              "  ID a  a_cubed\n",
              "1 1  33  35937 \n",
              "2 2  44  85184 \n",
              "3 3  92 778688 \n",
              "4 4  58 195112 "
            ]
          },
          "metadata": {},
          "output_type": "display_data"
        },
        {
          "data": {
            "text/html": [
              "<table class=\"dataframe\">\n",
              "<caption>A data.frame: 3 × 2</caption>\n",
              "<thead>\n",
              "\t<tr><th></th><th scope=col>a</th><th scope=col>a_cubed</th></tr>\n",
              "\t<tr><th></th><th scope=col>&lt;dbl&gt;</th><th scope=col>&lt;dbl&gt;</th></tr>\n",
              "</thead>\n",
              "<tbody>\n",
              "\t<tr><th scope=row>1</th><td>33</td><td> 35937</td></tr>\n",
              "\t<tr><th scope=row>2</th><td>44</td><td> 85184</td></tr>\n",
              "\t<tr><th scope=row>3</th><td>92</td><td>778688</td></tr>\n",
              "</tbody>\n",
              "</table>\n"
            ],
            "text/latex": [
              "A data.frame: 3 × 2\n",
              "\\begin{tabular}{r|ll}\n",
              "  & a & a\\_cubed\\\\\n",
              "  & <dbl> & <dbl>\\\\\n",
              "\\hline\n",
              "\t1 & 33 &  35937\\\\\n",
              "\t2 & 44 &  85184\\\\\n",
              "\t3 & 92 & 778688\\\\\n",
              "\\end{tabular}\n"
            ],
            "text/markdown": [
              "\n",
              "A data.frame: 3 × 2\n",
              "\n",
              "| <!--/--> | a &lt;dbl&gt; | a_cubed &lt;dbl&gt; |\n",
              "|---|---|---|\n",
              "| 1 | 33 |  35937 |\n",
              "| 2 | 44 |  85184 |\n",
              "| 3 | 92 | 778688 |\n",
              "\n"
            ],
            "text/plain": [
              "  a  a_cubed\n",
              "1 33  35937 \n",
              "2 44  85184 \n",
              "3 92 778688 "
            ]
          },
          "metadata": {},
          "output_type": "display_data"
        }
      ],
      "source": [
        "# III.  R classes and packages\n",
        "\n",
        "# Make and write a data.frame, a 2D array with column names\n",
        "\n",
        "d <- data.frame(cbind(seq(1:4), a, a^3))  # Bind columns into data frame\n",
        "class(d)\n",
        "names(d) <- c('ID', 'a', 'a_cubed') # Column names for data frame                                         \n",
        "d2 <- d[-4,-1]                            # Remove 4th row and 1st column\n",
        "d ; d2\n",
        "write.table(d, file='d.txt', quote=FALSE, row.names=FALSE)"
      ]
    },
    {
      "cell_type": "code",
      "execution_count": 8,
      "metadata": {
        "colab": {
          "base_uri": "https://localhost:8080/",
          "height": 195
        },
        "id": "AEItDAn_UnCM",
        "outputId": "4e3758b2-022c-45eb-98a6-5c3787c76419",
        "vscode": {
          "languageId": "r"
        }
      },
      "outputs": [
        {
          "name": "stdout",
          "output_type": "stream",
          "text": [
            "List of 3\n",
            " $ star       : chr [1:2] \"Sirius\" \"Procyon\"\n",
            " $ SpTy       : chr [1:3] \"O\" \"B\" \"A\"\n",
            " $ Hubble_km.s: num 68\n",
            "List of 3\n",
            " $ star       : chr [1:2] \"Sirius\" \"Procyon\"\n",
            " $ SpTy       :List of 1\n",
            "  ..$ subtype: num [1:10] 0.1 0.2 0.3 0.4 0.5 0.6 0.7 0.8 0.9 1\n",
            " $ Hubble_km.s: num 68\n"
          ]
        },
        {
          "data": {
            "text/html": [
              "<style>\n",
              ".list-inline {list-style: none; margin:0; padding: 0}\n",
              ".list-inline>li {display: inline-block}\n",
              ".list-inline>li:not(:last-child)::after {content: \"\\00b7\"; padding: 0 .5ex}\n",
              "</style>\n",
              "<ol class=list-inline><li>0.1</li><li>0.2</li><li>0.3</li></ol>\n"
            ],
            "text/latex": [
              "\\begin{enumerate*}\n",
              "\\item 0.1\n",
              "\\item 0.2\n",
              "\\item 0.3\n",
              "\\end{enumerate*}\n"
            ],
            "text/markdown": [
              "1. 0.1\n",
              "2. 0.2\n",
              "3. 0.3\n",
              "\n",
              "\n"
            ],
            "text/plain": [
              "[1] 0.1 0.2 0.3"
            ]
          },
          "metadata": {},
          "output_type": "display_data"
        }
      ],
      "source": [
        "# Make and show a list.\n",
        "\n",
        "b_list <- list(star=c('Sirius', 'Procyon'), SpTy=c('O','B','A'), Hubble_km.s=68)\n",
        "str(b_list)\n",
        "b_list[['SpTy']] = list(subtype=seq(0.1:0.9, by=0.1))\n",
        "str(b_list)\n",
        "b_list$SpTy$subtype[1:3]"
      ]
    },
    {
      "cell_type": "markdown",
      "metadata": {
        "collapsed": false,
        "id": "tOey_6CGUnCM"
      },
      "source": [
        "The 19,000+ CRAN packages are obtained on-the-fly as you need them. The *install.packages()* function, needed only once in the lifetime of your computer, downloads the chosen package from *https://cloud.r-project.org* or a mirror site.  But the *library()* command is frequently needed to bring the package into the current R session.  \n",
        "\n",
        "There is no useful index of the 19,000+ CRAN packages and their many functions. The collection expanded exponentially during the 2000s and is continues to grow by several packages every day.  Expert volunteers in ~40 statistical areas update lists of CRAN packages in their area; these are accesses on the Web at [CRAN Task Views](https://cran.r-project.org/web/views/). Task Views of particular interest to astronomers include _Bayesian_, _Cluster_, _HighPerformanceComputing_, _MachineLearning_, _Multivariate_, _Optimization_, _Robust_, _Spatial_, _Survival_, and _TimeSeries_. \n",
        "\n",
        "Astronomy-specific packages (e.g. stellar evolutionary tracks, celestial mechanics) are listed in the _ChemPhys_ CRAN Task View. The package _FITSio_ reads astronomical FITS formatted files and headers, converting them into an R list. The package _astrolibR_ is a collection of long-established functionalities useful in astronomical research, translated from the _IDL Astronomy Library_.\n",
        "\n",
        "Unfortunately, the Google Colaboratory does not allow installation of new packages by the user.  So portions of our notebooks are best run by cut-and-paste into an R console on your local computer."
      ]
    },
    {
      "cell_type": "markdown",
      "metadata": {
        "collapsed": false,
        "id": "Uz6Wyl8CUnCN"
      },
      "source": [
        "This is a good moment to examine some R help files.  Try *help(sum)*, *help(cbind)*, and *help(mad)* for functions we have already used.  All R users, both novice and expert, are constantly looking at help files to learn what functions do, the syntax of their use, and related functions. \n",
        "\n",
        "R help files give essential information on all functions in a standard format:  \n",
        "1. The top lines give the package where the function resides and a brief description.  \n",
        "2. _Usage_ gives the list of inputs for the function.  Input parameters with an _=_ have a default and do not need to be specified by the user.  \n",
        "3. _Arguments_ describes these input parameters.  \n",
        "4. _Details_ summarizes the functionality including formulae and algorithms. \n",
        "5. _Value_ gives the output of the function.  Typically the program specifies _outfn <- fn(x,y,z, option='special')_ so the full list of output values are available for use, such as _plot(outfn\\$x, outfn\\$y)_. \n",
        "6. _References_ to published literature where the function is described.\n",
        "7. _See also_ links to R functions with related purpose to the current function.\n",
        "8. _Examples_ show usage of the function, often with a built-in dataset.  Examples in R help files can always be cut-and-pasted into any R console.  "
      ]
    },
    {
      "cell_type": "markdown",
      "metadata": {
        "collapsed": false,
        "id": "3O-QjliYUnCT"
      },
      "source": [
        "# XI.  Resources for further study of R\n",
        "\n",
        "We give here a miscellaneous collection of commands and resources useful for learning more about R as a programming language.  \n",
        "\n",
        "* There are >700 books with 'R' in the title, most presenting both methodology and code tutorials.  A new book on R is published every ~10 days.  Two are devoted specifically to astronomy:\n",
        "  * [_Modern Statistical Methods for Astronomy with R Applications_](https://doi.org/10.1017/CBO9781139015653), 2012 E. D. Feigelson & G. J. Babu, Cambridge Univ Press\n",
        "  * [_Bayesian Models for Astrophysical Data Using R, JAGS, Python, and Stan_](https://doi.org/10.1017/CBO9781316459515), 2018, J. M. Hilbe, R. S. de Souza & E. E. O. Ishida, Cambridge Univ Press\n",
        "\n",
        "* Two high-quality introductions to R:\n",
        "  * From the R Core Team: https://cran.r-project.org/doc/manuals/R-intro.html\n",
        "  * From Carnegie-Mellon University: http://www.stat.cmu.edu/~cshalizi/statcomp/14/\n",
        "\n",
        "* There are vast informal online learning resources about R programming: \n",
        "  *  [R-bloggers](https://www.r-bloggers.com) aggregates entries from ~1100 blogs.  \n",
        "  * [Stack Overflow] has ~400,000 questions and answers about R programming.\n",
        "  * CRAN packages are often described in two open-access journals: [Journal of Statistical Software](https://www.jstatsoft.org/index) and [The R Journal](https://journal.r-project.org).  These articles often appear as _vignettes_ within the R environment.  \n",
        "\n"
      ]
    },
    {
      "cell_type": "code",
      "execution_count": 9,
      "metadata": {
        "colab": {
          "base_uri": "https://localhost:8080/",
          "height": 631
        },
        "id": "SIAhSLscUnCU",
        "outputId": "9d7f5a84-7d3f-408c-aae9-e886e45a58b5",
        "vscode": {
          "languageId": "r"
        }
      },
      "outputs": [
        {
          "data": {
            "text/html": [
              "<style>\n",
              ".list-inline {list-style: none; margin:0; padding: 0}\n",
              ".list-inline>li {display: inline-block}\n",
              ".list-inline>li:not(:last-child)::after {content: \"\\00b7\"; padding: 0 .5ex}\n",
              "</style>\n",
              "<ol class=list-inline><li>'a'</li><li>'b_list'</li><li>'d'</li><li>'d2'</li></ol>\n"
            ],
            "text/latex": [
              "\\begin{enumerate*}\n",
              "\\item 'a'\n",
              "\\item 'b\\_list'\n",
              "\\item 'd'\n",
              "\\item 'd2'\n",
              "\\end{enumerate*}\n"
            ],
            "text/markdown": [
              "1. 'a'\n",
              "2. 'b_list'\n",
              "3. 'd'\n",
              "4. 'd2'\n",
              "\n",
              "\n"
            ],
            "text/plain": [
              "[1] \"a\"      \"b_list\" \"d\"      \"d2\"    "
            ]
          },
          "metadata": {},
          "output_type": "display_data"
        },
        {
          "name": "stdout",
          "output_type": "stream",
          "text": [
            "Do nothing Num =  1 \n",
            " Num =  2 \n",
            " Num =  3 \n",
            " Num =  4 \n",
            " Num =  5 \n",
            " Num =  6 \n",
            " Num =  7 \n",
            " Num =  8 \n",
            " Num =  9 \n",
            " Num =  10 \n"
          ]
        },
        {
          "data": {
            "text/html": [
              "<style>\n",
              ".dl-inline {width: auto; margin:0; padding: 0}\n",
              ".dl-inline>dt, .dl-inline>dd {float: none; width: auto; display: inline-block}\n",
              ".dl-inline>dt::after {content: \":\\0020\"; padding-right: .5ex}\n",
              ".dl-inline>dt:not(:first-of-type) {padding-left: .5ex}\n",
              "</style><dl class=dl-inline><dt>sysname</dt><dd>'Linux'</dd><dt>release</dt><dd>'5.10.133+'</dd><dt>version</dt><dd>'#1 SMP Fri Aug 26 08:44:51 UTC 2022'</dd><dt>nodename</dt><dd>'e3af511044f1'</dd><dt>machine</dt><dd>'x86_64'</dd><dt>login</dt><dd>'unknown'</dd><dt>user</dt><dd>'root'</dd><dt>effective_user</dt><dd>'root'</dd></dl>\n"
            ],
            "text/latex": [
              "\\begin{description*}\n",
              "\\item[sysname] 'Linux'\n",
              "\\item[release] '5.10.133+'\n",
              "\\item[version] '\\#1 SMP Fri Aug 26 08:44:51 UTC 2022'\n",
              "\\item[nodename] 'e3af511044f1'\n",
              "\\item[machine] 'x86\\_64'\n",
              "\\item[login] 'unknown'\n",
              "\\item[user] 'root'\n",
              "\\item[effective\\textbackslash{}\\_user] 'root'\n",
              "\\end{description*}\n"
            ],
            "text/markdown": [
              "sysname\n",
              ":   'Linux'release\n",
              ":   '5.10.133+'version\n",
              ":   '#1 SMP Fri Aug 26 08:44:51 UTC 2022'nodename\n",
              ":   'e3af511044f1'machine\n",
              ":   'x86_64'login\n",
              ":   'unknown'user\n",
              ":   'root'effective_user\n",
              ":   'root'\n",
              "\n"
            ],
            "text/plain": [
              "                              sysname                               release \n",
              "                              \"Linux\"                           \"5.10.133+\" \n",
              "                              version                              nodename \n",
              "\"#1 SMP Fri Aug 26 08:44:51 UTC 2022\"                        \"e3af511044f1\" \n",
              "                              machine                                 login \n",
              "                             \"x86_64\"                             \"unknown\" \n",
              "                                 user                        effective_user \n",
              "                               \"root\"                                \"root\" "
            ]
          },
          "metadata": {},
          "output_type": "display_data"
        },
        {
          "data": {
            "text/plain": [
              "   user  system elapsed \n",
              "  0.102   0.013   0.116 "
            ]
          },
          "metadata": {},
          "output_type": "display_data"
        },
        {
          "data": {
            "text/html": [
              "'NGC1068.J.FITS'"
            ],
            "text/latex": [
              "'NGC1068.J.FITS'"
            ],
            "text/markdown": [
              "'NGC1068.J.FITS'"
            ],
            "text/plain": [
              "[1] \"NGC1068.J.FITS\""
            ]
          },
          "metadata": {},
          "output_type": "display_data"
        },
        {
          "name": "stderr",
          "output_type": "stream",
          "text": [
            "Installing package into ‘/usr/local/lib/R/site-library’\n",
            "(as ‘lib’ is unspecified)\n",
            "\n",
            "Installing package into ‘/usr/local/lib/R/site-library’\n",
            "(as ‘lib’ is unspecified)\n",
            "\n",
            "Warning message:\n",
            "“package ‘astrolibR’ is not available for this version of R\n",
            "\n",
            "A version of this package for your version of R might be available elsewhere,\n",
            "see the ideas at\n",
            "https://cran.r-project.org/doc/manuals/r-patched/R-admin.html#Installing-packages”\n"
          ]
        },
        {
          "ename": "ERROR",
          "evalue": "ignored",
          "output_type": "error",
          "traceback": [
            "Error in library(astrolibR): there is no package called ‘astrolibR’\nTraceback:\n",
            "1. library(astrolibR)"
          ]
        }
      ],
      "source": [
        "# A list of the ~30 important CRAN packages embedded in the base-R environment\n",
        "library()\n",
        "\n",
        "# A full list of ~400 functions in R's `base' package\n",
        "library(help = \"base\")\n",
        "\n",
        "# Statistics in base R (~400 functions, tens-of-thousands more in CRAN and elsewhere in R)\n",
        "library(help='stats')\n",
        "\n",
        "# List current contents of your session environment\n",
        "ls()\n",
        "\n",
        "# Programming utilities including:\n",
        "#    Use `source' to bring in external R scripts\n",
        "#    Use `edit' to edit an R object\n",
        "#    Use 'environment' to segregate a collection of objects\n",
        "#    Functions `debug', `trace' and `browser' assist with code testing\n",
        "#    Function 'process.events' allows low-level handling of R commands\n",
        "library(help = 'utils')\n",
        "\n",
        "# Loops:  for( i in 1:100) { ... }\n",
        "# Program flow control:  if/else, ifelse, switch, while, repeat, next, break, stop\n",
        "foo <- 2\n",
        "if(foo == 1) cat('Hello world!') else cat('Do nothing')\n",
        "for(i in 1:10) { cat(' Num = ', i, '\\n') }\n",
        "\n",
        "# Graphics and devices in base R (other packages in CRAN)\n",
        "library(help='graphics')\n",
        "library(help='grDevices')\n",
        "\n",
        "# Parallel computing control in base R \n",
        "# CRAN has dozens of other high performance computing packages\n",
        "library(help='parallel')\n",
        "\n",
        "# Run an R script residing on disk\n",
        "help(source)\n",
        "\n",
        "# Save R objects (or your full environment) onto disk\n",
        "help(save) ; help(load)\n",
        "\n",
        "# Save or load history of R commands\n",
        "help(savehistory)  ;  help(loadhistory)\n",
        "\n",
        "# Connections, pipes, sockets, URLs, clipboard, compression, etc.\n",
        "help(connections)\n",
        " \n",
        "# Interact with host computer \n",
        "Sys.info()\n",
        "system('ls -l')\n",
        "system.time(fft(seq(0,1,length.out=1000000)))\t# A million fast Fourier transforms\n",
        "\n",
        "# Construct composite strings using 'paste'\n",
        "# Extract postions of a string using `substring'\n",
        "band_ir <- 'J'\n",
        "paste('NGC1068',band_ir,'FITS', sep='.')\n",
        "\n",
        "# FITS format reader/writer\n",
        "install.packages('FITSio') ; library(FITSio)\n",
        "\n",
        "# IDL Astro Library translated into R\n",
        "install.packages('astrolibR') ; library(astrolibR)\n",
        "\n",
        "# R/CRAN functions are public domain and can be wrapped from Python\n",
        "# programs using package rpy2.  Example:\n",
        "### pip install rpy2\n",
        "### import rpy2\n",
        "### import rpy2.robjects as robjects\n",
        "### R = robjects.r\n",
        "### ranGauss = R.rnorm(100)\n",
        "### print ranGauss\n",
        "\n",
        "# Python code can be wrapped into R using CRAN package 'reticulate' (among others)\n",
        "# R has similar interfaces to many other languages."
      ]
    }
  ],
  "metadata": {
    "colab": {
      "collapsed_sections": [],
      "provenance": []
    },
    "kernelspec": {
      "display_name": "R (system-wide)",
      "language": "r",
      "metadata": {
        "cocalc": {
          "description": "R statistical programming language",
          "priority": 10,
          "url": "https://www.r-project.org/"
        }
      },
      "name": "ir",
      "resource_dir": "/ext/jupyter/kernels/ir"
    },
    "language_info": {
      "codemirror_mode": "r",
      "file_extension": ".r",
      "mimetype": "text/x-r-source",
      "name": "R",
      "pygments_lexer": "r",
      "version": "4.0.5"
    }
  },
  "nbformat": 4,
  "nbformat_minor": 0
}
