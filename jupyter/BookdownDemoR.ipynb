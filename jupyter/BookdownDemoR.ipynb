{
  "nbformat": 4,
  "nbformat_minor": 0,
  "metadata": {
    "colab": {
      "provenance": [],
      "collapsed_sections": []
    },
    "kernelspec": {
      "name": "ir",
      "display_name": "R"
    },
    "language_info": {
      "name": "R"
    }
  },
  "cells": [
    {
      "cell_type": "markdown",
      "source": [
        "# Chapter 1: The R Environment"
      ],
      "metadata": {
        "id": "wUpWLCZDYESp"
      }
    },
    {
      "cell_type": "markdown",
      "source": [
        "## Installing R and RStudio"
      ],
      "metadata": {
        "id": "8hAsZkDaYvUE"
      }
    },
    {
      "cell_type": "markdown",
      "source": [
        "R is a programming language for statistical computing. To use R on your computer, you should install both R and RStudio.\n",
        "\n",
        "to install R, go to CRAN – https://cloud.r-project.org/ – and click the link for your OS.1\n",
        "to install RStudio go here – https://www.rstudio.com/download – and choose the free open source licence.\n"
      ],
      "metadata": {
        "id": "l7p8wyyNYzI2"
      }
    },
    {
      "cell_type": "markdown",
      "source": [
        "## RStudio"
      ],
      "metadata": {
        "id": "3hXv_adNY12a"
      }
    },
    {
      "cell_type": "markdown",
      "source": [
        "RStudio is an IDE (integrated development environment). It is essentially an interface you can use to write and debug R code.2 Any time you want to do work using R, open RStudio.\n",
        "\n",
        "When you first open RStudio you will see three panes.\n",
        "\n",
        "The left-hand pane is the console–this is where R code is evaluated and its output is shown. Type any command (e.g. 5 + 3) in the console and press enter. You should see the output in the following line.\n",
        "\n",
        "The two right-hand panes show extra information about your R session–you will come to learn what they do as you code."
      ],
      "metadata": {
        "id": "0rivwKdQY6CB"
      }
    },
    {
      "cell_type": "markdown",
      "source": [
        "## Some Coding Basics"
      ],
      "metadata": {
        "id": "lVm8xmUJZErQ"
      }
    },
    {
      "cell_type": "markdown",
      "source": [
        "Commands you type in the console will not be not saved–the console only evaluates code. To save your code, you must write it in a script file.\n",
        "\n",
        "To open a new R script file click the icon in the top left and choose R Script. \n",
        "\n",
        "The script editor will open as a new pane in the top left. Anything you write here can be run in the console, and when you are done, you can save it as a .R file.\n",
        "\n",
        "To run code you have written in the script editor, click ‘Run’ (top right). The current line (or the selected lines) will be run in the console, producing an output.\n"
      ],
      "metadata": {
        "id": "g34P-XvWZGh-"
      }
    },
    {
      "cell_type": "markdown",
      "source": [
        "## Variable Assignment"
      ],
      "metadata": {
        "id": "6hV_bZ4eYILl"
      }
    },
    {
      "cell_type": "markdown",
      "source": [
        "You can create objects using the assignment operator, <-. This evaluates the expression on its right hand side and assigns the result to the object name on its left.\n",
        "\n",
        "E.g. to create a new object called x and assign it the numerical value 12:"
      ],
      "metadata": {
        "id": "zOzTOOMnZVHT"
      }
    },
    {
      "cell_type": "code",
      "source": [
        "x <- 12"
      ],
      "metadata": {
        "id": "sqVQixsnYNhP"
      },
      "execution_count": null,
      "outputs": []
    },
    {
      "cell_type": "markdown",
      "source": [
        "You can create a vector–a one-dimensional array of elements–by writing c(), and using commas to separate the elements:"
      ],
      "metadata": {
        "id": "iSiRuTbmZYW4"
      }
    },
    {
      "cell_type": "code",
      "source": [
        "# create vector of integers from 0 to 9\n",
        "some_numbers <- c(0,1,2,3,4,5,6,7,8,9)\n",
        "\n",
        "# alternatively for continous elements\n",
        "some_numbers <- c(0:9)"
      ],
      "metadata": {
        "id": "0ILd8ebnYOz4"
      },
      "execution_count": null,
      "outputs": []
    },
    {
      "cell_type": "markdown",
      "source": [
        "\n",
        "The objects you have defined in a session will appear in the Environment pane (top right). You can call an object by simply typing its name. The elements of the object will appear in the console:"
      ],
      "metadata": {
        "id": "80jFhaf6ZbMp"
      }
    },
    {
      "cell_type": "code",
      "source": [
        "some_numbers"
      ],
      "metadata": {
        "colab": {
          "base_uri": "https://localhost:8080/",
          "height": 34
        },
        "id": "28MgqEqnYSnw",
        "outputId": "dad0a329-62ae-4f57-dbce-0fb406a9f5b7"
      },
      "execution_count": null,
      "outputs": [
        {
          "output_type": "display_data",
          "data": {
            "text/html": [
              "<style>\n",
              ".list-inline {list-style: none; margin:0; padding: 0}\n",
              ".list-inline>li {display: inline-block}\n",
              ".list-inline>li:not(:last-child)::after {content: \"\\00b7\"; padding: 0 .5ex}\n",
              "</style>\n",
              "<ol class=list-inline><li>0</li><li>1</li><li>2</li><li>3</li><li>4</li><li>5</li><li>6</li><li>7</li><li>8</li><li>9</li></ol>\n"
            ],
            "text/markdown": "1. 0\n2. 1\n3. 2\n4. 3\n5. 4\n6. 5\n7. 6\n8. 7\n9. 8\n10. 9\n\n\n",
            "text/latex": "\\begin{enumerate*}\n\\item 0\n\\item 1\n\\item 2\n\\item 3\n\\item 4\n\\item 5\n\\item 6\n\\item 7\n\\item 8\n\\item 9\n\\end{enumerate*}\n",
            "text/plain": [
              " [1] 0 1 2 3 4 5 6 7 8 9"
            ]
          },
          "metadata": {}
        }
      ]
    },
    {
      "cell_type": "markdown",
      "source": [
        "## R Functions"
      ],
      "metadata": {
        "id": "CYWcBy0_YbT5"
      }
    },
    {
      "cell_type": "markdown",
      "source": [
        "Just like mathematical functions, R functions perform operations on objects. R has many inbuilt functions–e.g. the c() function which takes a series of elements and produces a vector array, or mean() function which takes a vector array of numbers and returns its average value."
      ],
      "metadata": {
        "id": "V1GRlJAbZfGY"
      }
    },
    {
      "cell_type": "code",
      "source": [
        "mean(some_numbers)"
      ],
      "metadata": {
        "colab": {
          "base_uri": "https://localhost:8080/",
          "height": 34
        },
        "id": "gQ1aBR0VYcq4",
        "outputId": "f1995e2d-01e2-4e3e-f414-783e7c5d619f"
      },
      "execution_count": null,
      "outputs": [
        {
          "output_type": "display_data",
          "data": {
            "text/html": [
              "4.5"
            ],
            "text/markdown": "4.5",
            "text/latex": "4.5",
            "text/plain": [
              "[1] 4.5"
            ]
          },
          "metadata": {}
        }
      ]
    },
    {
      "cell_type": "markdown",
      "source": [
        "Syntactically, functions are denoted by a name followed by brackets. What you type in the brackets is the function’s argument–this is the input you are giving to the function. Most functions accept several arguments, some of which are mandatory while others are optional. Usually the first argument(s) are for specifying the object(s) you want the function to operate on, and additional arguments are for specifying how you want the function to operate. If you leave optional arguments blank when calling a function, it will operate according to its default settings.\n",
        "\n",
        "To learn about the arguments and default settings of a function, you should look up its documentation. You can do this by typing the function’s name in the ‘Help’ tab (bottom right pane)."
      ],
      "metadata": {
        "id": "YMDW7OefZiZj"
      }
    },
    {
      "cell_type": "markdown",
      "source": [
        "## R Packages"
      ],
      "metadata": {
        "id": "uxwhs7E_Yj0a"
      }
    },
    {
      "cell_type": "markdown",
      "source": [
        "A package is essentially a bundle of R functions. These are functions that have been written by other people and posted to CRAN. These packages are not included in Base R, and must be installed separately. Some common R packages you will encounter:\n",
        "\n",
        "- ggplot2 - has functions for plotting data\n",
        "- dplyr - has functions for cleaning/manipulating data\n",
        "- stats - has functions for statistical calculations and random number generation\n",
        "\n",
        "The tidyverse is a set of eight common R packages used in data analysis. It includes ggplot2 and dplyr. When you start out in R, loading the tidyverse packages is a good idea.\n",
        "\n",
        "To install a package, use the command install.packages() in the console."
      ],
      "metadata": {
        "id": "ladWekkrZo2E"
      }
    },
    {
      "cell_type": "markdown",
      "source": [
        "Once a package is installed, you needn’t install it again. But to use a package’s functions, you need to load the package into the session using library(). You will need to do this every time you enter a new R session."
      ],
      "metadata": {
        "id": "gCc5A_MnZsMo"
      }
    },
    {
      "cell_type": "code",
      "source": [
        "library(tidyverse)"
      ],
      "metadata": {
        "colab": {
          "base_uri": "https://localhost:8080/"
        },
        "id": "gOmUzMrBYklY",
        "outputId": "6b10c775-8469-4bcc-8534-9aca256cc9d3"
      },
      "execution_count": null,
      "outputs": [
        {
          "output_type": "stream",
          "name": "stderr",
          "text": [
            "Warning message in system(\"timedatectl\", intern = TRUE):\n",
            "“running command 'timedatectl' had status 1”\n",
            "── \u001b[1mAttaching packages\u001b[22m ─────────────────────────────────────── tidyverse 1.3.1 ──\n",
            "\n",
            "\u001b[32m✔\u001b[39m \u001b[34mggplot2\u001b[39m 3.3.6      \u001b[32m✔\u001b[39m \u001b[34mpurrr  \u001b[39m 0.3.5 \n",
            "\u001b[32m✔\u001b[39m \u001b[34mtibble \u001b[39m 3.1.7      \u001b[32m✔\u001b[39m \u001b[34mdplyr  \u001b[39m 1.0.10\n",
            "\u001b[32m✔\u001b[39m \u001b[34mtidyr  \u001b[39m 1.2.1      \u001b[32m✔\u001b[39m \u001b[34mstringr\u001b[39m 1.4.1 \n",
            "\u001b[32m✔\u001b[39m \u001b[34mreadr  \u001b[39m 2.1.3      \u001b[32m✔\u001b[39m \u001b[34mforcats\u001b[39m 0.5.2 \n",
            "\n",
            "── \u001b[1mConflicts\u001b[22m ────────────────────────────────────────── tidyverse_conflicts() ──\n",
            "\u001b[31m✖\u001b[39m \u001b[34mdplyr\u001b[39m::\u001b[32mfilter()\u001b[39m masks \u001b[34mstats\u001b[39m::filter()\n",
            "\u001b[31m✖\u001b[39m \u001b[34mdplyr\u001b[39m::\u001b[32mlag()\u001b[39m    masks \u001b[34mstats\u001b[39m::lag()\n",
            "\n"
          ]
        }
      ]
    },
    {
      "cell_type": "markdown",
      "source": [
        "If you run this code and get the error message “there is no package called ‘tidyverse’”, you need to first install it, then run library() again.\n",
        "\n",
        "It is common practice to load packages at the beginning of your script file.\n",
        "\n",
        "This will save you the hassle of remembering which packages you used and retyping them each time you enter a new session."
      ],
      "metadata": {
        "id": "XgYg7qq2ZvhY"
      }
    },
    {
      "cell_type": "markdown",
      "source": [
        "## R Markdown"
      ],
      "metadata": {
        "id": "onRYnIFsZ0Ej"
      }
    },
    {
      "cell_type": "markdown",
      "source": [
        "R Markdown is a format for creating unified documents with R. Unlike the R script format introduced above, R Markdown allows you to combine code, its output, and text annotations in a single document.\n",
        "\n",
        "To open a new R Markdown file, click on the top left icon and choose R Markdown.\n",
        "\n",
        "Enter a name and title for your document (these can be changed later). You can choose whichever output format you wish, but note that for pdf output you will need to have TeX installed on your computer. For simplicity you should use html output.\n",
        "\n",
        "After choosing your output format you will be greeted by some sample Markdown script.\n",
        "\n",
        "The grey boxes are code chunks. Only stuff written in the code chunks will be treated as code and evaluated in the console. The output will appear after the chunk. Everything outside the code chunks will appear as text in your output document. To insert a new code chunk, click on Code > Insert Chunk (from the menu bar).\n",
        "\n",
        "Now go ahead and compile the document (i.e. create the output file) by clicking ‘Knit’. You will need to have saved the file first. A separate window will open with the output file–you should compare this to the script file and make note of how R Markdown translates from script to its output format.\n",
        "\n",
        "You should experiment with R Markdown and get used to its syntax. Here is a R Markdown cheatsheet to get you started."
      ],
      "metadata": {
        "id": "orBoP15ZaBXT"
      }
    },
    {
      "cell_type": "markdown",
      "source": [
        "1. On the Mac download page, choose the version under ‘Latest Release’. On the Windows download page, choose the ‘base’ subdirectory, then click download at the top.↩\n",
        "\n",
        "2. Don’t confuse R with RStudio. R is a programming language–you can think of it as an ‘engine’ that runs commands. RStudio is an environment where you can write R code and run it using the R language.↩\n",
        "\n",
        "3. In fact, you don’t have to use RStudio–or an IDE at all–to use R. You could theoretically use any text editor to write R code, then simply run the commands using R in the command line. But if you are new to coding, you may find it easier to use an IDE.↩\n",
        "\n",
        "4. Technically you can use either <- or = for variable assignment. Both do the same thing when used for assignment, though in general there is a subtle difference between the two.↩"
      ],
      "metadata": {
        "id": "Z9qpL_ZFaMsz"
      }
    },
    {
      "cell_type": "markdown",
      "source": [
        "# Chapter 2: Getting Started with Data"
      ],
      "metadata": {
        "id": "LVAlPv8kaTGc"
      }
    },
    {
      "cell_type": "markdown",
      "source": [
        "## R Packages"
      ],
      "metadata": {
        "id": "I26qvGJGabcy"
      }
    },
    {
      "cell_type": "markdown",
      "source": [
        "Packages are bundles of R functions. Some common R packages you will encounter:\n",
        "\n",
        "- ggplot2 - has functions for plotting data\n",
        "- dplyr - has functions for cleaning/manipulating data\n",
        "- stats - has functions for statistical calculations and random number generation\n",
        "\n",
        "The tidyverse is a set of eight common R packages used in data analysis. It includes ggplot2 and dplyr. When you start out in R, loading the tidyverse packages is a good idea."
      ],
      "metadata": {
        "id": "Rp_fKRUmafOu"
      }
    },
    {
      "cell_type": "markdown",
      "source": [
        "## Installing Packages"
      ],
      "metadata": {
        "id": "PJwxMcskanAp"
      }
    },
    {
      "cell_type": "markdown",
      "source": [
        "To use a package for the first time, you need to install it. Do this in the console with the command install.packages()."
      ],
      "metadata": {
        "id": "CqBSiPeKbWt_"
      }
    },
    {
      "cell_type": "markdown",
      "source": [
        "_Note the quotation marks around the package name._"
      ],
      "metadata": {
        "id": "OeQUv6o8bZ67"
      }
    },
    {
      "cell_type": "markdown",
      "source": [
        "## Loading packages in an R session"
      ],
      "metadata": {
        "id": "5ZTCms5EbfwY"
      }
    },
    {
      "cell_type": "markdown",
      "source": [
        "Once a package is installed you needn’t install it again. But to access the package in a session, you must load it using library(). You will need to do this every time you enter a new R session."
      ],
      "metadata": {
        "id": "jpbhK0jVbi3l"
      }
    },
    {
      "cell_type": "code",
      "source": [
        "library(tidyverse)"
      ],
      "metadata": {
        "id": "0aqNNawabkvi"
      },
      "execution_count": null,
      "outputs": []
    },
    {
      "cell_type": "markdown",
      "source": [
        "\n",
        "If you run this code and get the error message “there is no package called ‘tidyverse’”, you need to first install it, then run library() again.\n",
        "\n",
        "It is common practice to load packages at the beginning of your script file. E.g. in an R Markdown file, you should load the relevant packages in the setup chunk (the first code chunk)."
      ],
      "metadata": {
        "id": "YgP_LDAaboTf"
      }
    },
    {
      "cell_type": "markdown",
      "source": [
        "This will save you the hassle of remembering which packages you used and retyping them each time you enter a new session."
      ],
      "metadata": {
        "id": "VcKrBd4Mbs1l"
      }
    },
    {
      "cell_type": "markdown",
      "source": [
        "## Loading Data"
      ],
      "metadata": {
        "id": "e5Yb2KHebwHx"
      }
    },
    {
      "cell_type": "markdown",
      "source": [
        "R has several inbuilt functions for loading data of various formats:\n",
        "\n",
        "- read.csv() for csv files (comma separated values)\n",
        "- read.tsv() for tsv files (tab separated values)\n",
        "- read.xlsx() for Excel files (from the readxl package)\n",
        "- read.dta13() for dat files (from the readstata13 package)\n",
        "- read.table() for huge datasets\n",
        "\n",
        "When loading data you must specify the exact file path in the argument (see below). If you don’t know how to find your file path, give it a google. Remember to name your dataset (i.e. assign your dataset to an R object)\n",
        "\n",
        "The following code loads a csv file with data on the gender pay gap at various UK firms. Source: https://gender-pay-gap.service.gov.uk/. Locally the file is called ‘gender-paygap-2019.csv’ and it is assigned to the object name paygap:"
      ],
      "metadata": {
        "id": "g4zmZaP1b0zh"
      }
    },
    {
      "cell_type": "code",
      "source": [
        "paygap <- read.csv('./data/UK Gender Pay Gap Data - 2019 to 2020.csv', header = TRUE)"
      ],
      "metadata": {
        "id": "E8gBdwGOb7Ha"
      },
      "execution_count": null,
      "outputs": []
    },
    {
      "cell_type": "markdown",
      "source": [
        "Note the extra argument, header = TRUE, which specifies that the first row of the dataset is a header. If your dataset has no header you should specify header = FALSE. Here the = operator is not used for variable assignment, but rather to specify an argument for the read.csv() function (this is the fundamental difference between the <- and = operators)."
      ],
      "metadata": {
        "id": "08m2jbpWc_ZY"
      }
    },
    {
      "cell_type": "markdown",
      "source": [
        "## Viewing Data"
      ],
      "metadata": {
        "id": "Bof2n_6zdDYU"
      }
    },
    {
      "cell_type": "markdown",
      "source": [
        "To view the entire dataset, use the View() command in the console. A table view of the dataset will open as a new tab. For large datasets it is not a good idea to use the View() command as it is very memory intensive.\n",
        "\n",
        "Another way to see your data is to print the first or last few rows using the head() or tail() function. You can specify exactly how many rows as an additional argument (by default it will print six):"
      ],
      "metadata": {
        "id": "ceN65hANdGeP"
      }
    },
    {
      "cell_type": "code",
      "source": [
        "head(paygap, n = 5)"
      ],
      "metadata": {
        "colab": {
          "base_uri": "https://localhost:8080/",
          "height": 674
        },
        "id": "AIVQ64nodEt6",
        "outputId": "56ee0353-f02c-4e79-9928-7d1461abb603"
      },
      "execution_count": null,
      "outputs": [
        {
          "output_type": "display_data",
          "data": {
            "text/html": [
              "<table class=\"dataframe\">\n",
              "<caption>A data.frame: 5 × 27</caption>\n",
              "<thead>\n",
              "\t<tr><th></th><th scope=col>EmployerName</th><th scope=col>EmployerId</th><th scope=col>Address</th><th scope=col>PostCode</th><th scope=col>CompanyNumber</th><th scope=col>SicCodes</th><th scope=col>DiffMeanHourlyPercent</th><th scope=col>DiffMedianHourlyPercent</th><th scope=col>DiffMeanBonusPercent</th><th scope=col>DiffMedianBonusPercent</th><th scope=col>⋯</th><th scope=col>FemaleUpperMiddleQuartile</th><th scope=col>MaleTopQuartile</th><th scope=col>FemaleTopQuartile</th><th scope=col>CompanyLinkToGPGInfo</th><th scope=col>ResponsiblePerson</th><th scope=col>EmployerSize</th><th scope=col>CurrentName</th><th scope=col>SubmittedAfterTheDeadline</th><th scope=col>DueDate</th><th scope=col>DateSubmitted</th></tr>\n",
              "\t<tr><th></th><th scope=col>&lt;chr&gt;</th><th scope=col>&lt;int&gt;</th><th scope=col>&lt;chr&gt;</th><th scope=col>&lt;chr&gt;</th><th scope=col>&lt;chr&gt;</th><th scope=col>&lt;chr&gt;</th><th scope=col>&lt;dbl&gt;</th><th scope=col>&lt;dbl&gt;</th><th scope=col>&lt;dbl&gt;</th><th scope=col>&lt;dbl&gt;</th><th scope=col>⋯</th><th scope=col>&lt;dbl&gt;</th><th scope=col>&lt;dbl&gt;</th><th scope=col>&lt;dbl&gt;</th><th scope=col>&lt;chr&gt;</th><th scope=col>&lt;chr&gt;</th><th scope=col>&lt;chr&gt;</th><th scope=col>&lt;chr&gt;</th><th scope=col>&lt;chr&gt;</th><th scope=col>&lt;chr&gt;</th><th scope=col>&lt;chr&gt;</th></tr>\n",
              "</thead>\n",
              "<tbody>\n",
              "\t<tr><th scope=row>1</th><td>'PRIFYSGOL ABERYSTWYTH' AND 'ABERYSTWYTH UNIVERSITY'</td><td>19070</td><td>Aberystwyth University, Penglais, Ceredigion, SY23 3FL                            </td><td>SY23 3FL</td><td>RC000641</td><td>                     </td><td>11.5</td><td>10.3</td><td>    NA</td><td>    NA</td><td>⋯</td><td>60.0</td><td>62.0</td><td>38.0</td><td>https://www.aber.ac.uk/en/equality/genderpaygapreporting2019/ \n",
              "\n",
              "https://www.aber.ac.uk/cy/equality/gender-pay-gap/</td><td>Elizabeth Treasure (Vice-Chancellor)          </td><td>1000 to 4999</td><td>'PRIFYSGOL ABERYSTWYTH' AND 'ABERYSTWYTH UNIVERSITY'</td><td>False</td><td>2020/04/05 00:00:00</td><td>2020/04/03 14:47:45</td></tr>\n",
              "\t<tr><th scope=row>2</th><td>10 TRINITY SQUARE HOTEL LIMITED                     </td><td>19455</td><td>5 Market Yard Mews, 194-204 Bermondsey Street, London, United Kingdom, SE1 3TQ    </td><td>SE1 3TQ </td><td>08064685</td><td>82990                </td><td> 8.7</td><td>10.3</td><td>  29.6</td><td>  54.5</td><td>⋯</td><td>21.1</td><td>66.7</td><td>33.3</td><td>                                                                                                                    </td><td>Linda Stigter (Director of People and Culture)</td><td>250 to 499  </td><td>10 TRINITY SQUARE HOTEL LIMITED                     </td><td>False</td><td>2020/04/05 00:00:00</td><td>2020/03/19 15:51:20</td></tr>\n",
              "\t<tr><th scope=row>3</th><td>1LIFE MANAGEMENT SOLUTIONS LIMITED                  </td><td>  687</td><td>Ldh House St Ives Business Park, Parsons Green, St. Ives, Cambridgeshire, PE27 4AA</td><td>PE27 4AA</td><td>02566586</td><td>93110,\n",
              "93130,\n",
              "93290</td><td>11.0</td><td>-0.5</td><td>  81.5</td><td>  94.2</td><td>⋯</td><td>57.7</td><td>44.2</td><td>55.8</td><td>https://www.1life.co.uk/gender-pay-gap                                                                              </td><td>Mark Braithwaite (Managing Director)          </td><td>250 to 499  </td><td>1LIFE MANAGEMENT SOLUTIONS LIMITED                  </td><td>False</td><td>2020/04/05 00:00:00</td><td>2020/03/10 17:03:17</td></tr>\n",
              "\t<tr><th scope=row>4</th><td>1ST CHOICE STAFF RECRUITMENT LIMITED                </td><td>18136</td><td>1ST CHOICE RECRUITMENT, 8 St. Loyes Street, Bedford, MK40 1EP                     </td><td>MK40 1EP</td><td>07972006</td><td>78109                </td><td>-2.3</td><td> 0.0</td><td>-114.8</td><td>-249.3</td><td>⋯</td><td>37.1</td><td>50.0</td><td>50.0</td><td>https://www.1stchoice.net/gender-pay-gap-report-2019/                                                               </td><td>Gill Knight (MD)                              </td><td>250 to 499  </td><td>1ST CHOICE STAFF RECRUITMENT LIMITED                </td><td>False</td><td>2020/04/05 00:00:00</td><td>2020/01/24 09:37:01</td></tr>\n",
              "\t<tr><th scope=row>5</th><td>1ST HOME CARE LTD.                                  </td><td>17484</td><td>Real Life Options, 35 East Port, Dunfermline, Fife, Scotland, KY12 7LG            </td><td>KY12 7LG</td><td>SC272838</td><td>86900,\n",
              "88100        </td><td>-2.0</td><td> 0.5</td><td>    NA</td><td>    NA</td><td>⋯</td><td>91.0</td><td> 9.0</td><td>91.0</td><td>https://reallifeoptions.org/                                                                                        </td><td>Ian Hardcastle (Chief Operating Officer)      </td><td>250 to 499  </td><td>1ST HOME CARE LTD.                                  </td><td>False</td><td>2020/04/05 00:00:00</td><td>2020/03/12 08:21:06</td></tr>\n",
              "</tbody>\n",
              "</table>\n"
            ],
            "text/markdown": "\nA data.frame: 5 × 27\n\n| <!--/--> | EmployerName &lt;chr&gt; | EmployerId &lt;int&gt; | Address &lt;chr&gt; | PostCode &lt;chr&gt; | CompanyNumber &lt;chr&gt; | SicCodes &lt;chr&gt; | DiffMeanHourlyPercent &lt;dbl&gt; | DiffMedianHourlyPercent &lt;dbl&gt; | DiffMeanBonusPercent &lt;dbl&gt; | DiffMedianBonusPercent &lt;dbl&gt; | ⋯ ⋯ | FemaleUpperMiddleQuartile &lt;dbl&gt; | MaleTopQuartile &lt;dbl&gt; | FemaleTopQuartile &lt;dbl&gt; | CompanyLinkToGPGInfo &lt;chr&gt; | ResponsiblePerson &lt;chr&gt; | EmployerSize &lt;chr&gt; | CurrentName &lt;chr&gt; | SubmittedAfterTheDeadline &lt;chr&gt; | DueDate &lt;chr&gt; | DateSubmitted &lt;chr&gt; |\n|---|---|---|---|---|---|---|---|---|---|---|---|---|---|---|---|---|---|---|---|---|---|\n| 1 | 'PRIFYSGOL ABERYSTWYTH' AND 'ABERYSTWYTH UNIVERSITY' | 19070 | Aberystwyth University, Penglais, Ceredigion, SY23 3FL                             | SY23 3FL | RC000641 | <!----> | 11.5 | 10.3 |     NA |     NA | ⋯ | 60.0 | 62.0 | 38.0 | https://www.aber.ac.uk/en/equality/genderpaygapreporting2019/ \n\nhttps://www.aber.ac.uk/cy/equality/gender-pay-gap/ | Elizabeth Treasure (Vice-Chancellor)           | 1000 to 4999 | 'PRIFYSGOL ABERYSTWYTH' AND 'ABERYSTWYTH UNIVERSITY' | False | 2020/04/05 00:00:00 | 2020/04/03 14:47:45 |\n| 2 | 10 TRINITY SQUARE HOTEL LIMITED                      | 19455 | 5 Market Yard Mews, 194-204 Bermondsey Street, London, United Kingdom, SE1 3TQ     | SE1 3TQ  | 08064685 | 82990                 |  8.7 | 10.3 |   29.6 |   54.5 | ⋯ | 21.1 | 66.7 | 33.3 | <!----> | Linda Stigter (Director of People and Culture) | 250 to 499   | 10 TRINITY SQUARE HOTEL LIMITED                      | False | 2020/04/05 00:00:00 | 2020/03/19 15:51:20 |\n| 3 | 1LIFE MANAGEMENT SOLUTIONS LIMITED                   |   687 | Ldh House St Ives Business Park, Parsons Green, St. Ives, Cambridgeshire, PE27 4AA | PE27 4AA | 02566586 | 93110,\n93130,\n93290 | 11.0 | -0.5 |   81.5 |   94.2 | ⋯ | 57.7 | 44.2 | 55.8 | https://www.1life.co.uk/gender-pay-gap                                                                               | Mark Braithwaite (Managing Director)           | 250 to 499   | 1LIFE MANAGEMENT SOLUTIONS LIMITED                   | False | 2020/04/05 00:00:00 | 2020/03/10 17:03:17 |\n| 4 | 1ST CHOICE STAFF RECRUITMENT LIMITED                 | 18136 | 1ST CHOICE RECRUITMENT, 8 St. Loyes Street, Bedford, MK40 1EP                      | MK40 1EP | 07972006 | 78109                 | -2.3 |  0.0 | -114.8 | -249.3 | ⋯ | 37.1 | 50.0 | 50.0 | https://www.1stchoice.net/gender-pay-gap-report-2019/                                                                | Gill Knight (MD)                               | 250 to 499   | 1ST CHOICE STAFF RECRUITMENT LIMITED                 | False | 2020/04/05 00:00:00 | 2020/01/24 09:37:01 |\n| 5 | 1ST HOME CARE LTD.                                   | 17484 | Real Life Options, 35 East Port, Dunfermline, Fife, Scotland, KY12 7LG             | KY12 7LG | SC272838 | 86900,\n88100         | -2.0 |  0.5 |     NA |     NA | ⋯ | 91.0 |  9.0 | 91.0 | https://reallifeoptions.org/                                                                                         | Ian Hardcastle (Chief Operating Officer)       | 250 to 499   | 1ST HOME CARE LTD.                                   | False | 2020/04/05 00:00:00 | 2020/03/12 08:21:06 |\n\n",
            "text/latex": "A data.frame: 5 × 27\n\\begin{tabular}{r|lllllllllllllllllllll}\n  & EmployerName & EmployerId & Address & PostCode & CompanyNumber & SicCodes & DiffMeanHourlyPercent & DiffMedianHourlyPercent & DiffMeanBonusPercent & DiffMedianBonusPercent & ⋯ & FemaleUpperMiddleQuartile & MaleTopQuartile & FemaleTopQuartile & CompanyLinkToGPGInfo & ResponsiblePerson & EmployerSize & CurrentName & SubmittedAfterTheDeadline & DueDate & DateSubmitted\\\\\n  & <chr> & <int> & <chr> & <chr> & <chr> & <chr> & <dbl> & <dbl> & <dbl> & <dbl> & ⋯ & <dbl> & <dbl> & <dbl> & <chr> & <chr> & <chr> & <chr> & <chr> & <chr> & <chr>\\\\\n\\hline\n\t1 & 'PRIFYSGOL ABERYSTWYTH' AND 'ABERYSTWYTH UNIVERSITY' & 19070 & Aberystwyth University, Penglais, Ceredigion, SY23 3FL                             & SY23 3FL & RC000641 &                       & 11.5 & 10.3 &     NA &     NA & ⋯ & 60.0 & 62.0 & 38.0 & https://www.aber.ac.uk/en/equality/genderpaygapreporting2019/ \n\nhttps://www.aber.ac.uk/cy/equality/gender-pay-gap/ & Elizabeth Treasure (Vice-Chancellor)           & 1000 to 4999 & 'PRIFYSGOL ABERYSTWYTH' AND 'ABERYSTWYTH UNIVERSITY' & False & 2020/04/05 00:00:00 & 2020/04/03 14:47:45\\\\\n\t2 & 10 TRINITY SQUARE HOTEL LIMITED                      & 19455 & 5 Market Yard Mews, 194-204 Bermondsey Street, London, United Kingdom, SE1 3TQ     & SE1 3TQ  & 08064685 & 82990                 &  8.7 & 10.3 &   29.6 &   54.5 & ⋯ & 21.1 & 66.7 & 33.3 &                                                                                                                      & Linda Stigter (Director of People and Culture) & 250 to 499   & 10 TRINITY SQUARE HOTEL LIMITED                      & False & 2020/04/05 00:00:00 & 2020/03/19 15:51:20\\\\\n\t3 & 1LIFE MANAGEMENT SOLUTIONS LIMITED                   &   687 & Ldh House St Ives Business Park, Parsons Green, St. Ives, Cambridgeshire, PE27 4AA & PE27 4AA & 02566586 & 93110,\n93130,\n93290 & 11.0 & -0.5 &   81.5 &   94.2 & ⋯ & 57.7 & 44.2 & 55.8 & https://www.1life.co.uk/gender-pay-gap                                                                               & Mark Braithwaite (Managing Director)           & 250 to 499   & 1LIFE MANAGEMENT SOLUTIONS LIMITED                   & False & 2020/04/05 00:00:00 & 2020/03/10 17:03:17\\\\\n\t4 & 1ST CHOICE STAFF RECRUITMENT LIMITED                 & 18136 & 1ST CHOICE RECRUITMENT, 8 St. Loyes Street, Bedford, MK40 1EP                      & MK40 1EP & 07972006 & 78109                 & -2.3 &  0.0 & -114.8 & -249.3 & ⋯ & 37.1 & 50.0 & 50.0 & https://www.1stchoice.net/gender-pay-gap-report-2019/                                                                & Gill Knight (MD)                               & 250 to 499   & 1ST CHOICE STAFF RECRUITMENT LIMITED                 & False & 2020/04/05 00:00:00 & 2020/01/24 09:37:01\\\\\n\t5 & 1ST HOME CARE LTD.                                   & 17484 & Real Life Options, 35 East Port, Dunfermline, Fife, Scotland, KY12 7LG             & KY12 7LG & SC272838 & 86900,\n88100         & -2.0 &  0.5 &     NA &     NA & ⋯ & 91.0 &  9.0 & 91.0 & https://reallifeoptions.org/                                                                                         & Ian Hardcastle (Chief Operating Officer)       & 250 to 499   & 1ST HOME CARE LTD.                                   & False & 2020/04/05 00:00:00 & 2020/03/12 08:21:06\\\\\n\\end{tabular}\n",
            "text/plain": [
              "  EmployerName                                         EmployerId\n",
              "1 'PRIFYSGOL ABERYSTWYTH' AND 'ABERYSTWYTH UNIVERSITY' 19070     \n",
              "2 10 TRINITY SQUARE HOTEL LIMITED                      19455     \n",
              "3 1LIFE MANAGEMENT SOLUTIONS LIMITED                     687     \n",
              "4 1ST CHOICE STAFF RECRUITMENT LIMITED                 18136     \n",
              "5 1ST HOME CARE LTD.                                   17484     \n",
              "  Address                                                                           \n",
              "1 Aberystwyth University, Penglais, Ceredigion, SY23 3FL                            \n",
              "2 5 Market Yard Mews, 194-204 Bermondsey Street, London, United Kingdom, SE1 3TQ    \n",
              "3 Ldh House St Ives Business Park, Parsons Green, St. Ives, Cambridgeshire, PE27 4AA\n",
              "4 1ST CHOICE RECRUITMENT, 8 St. Loyes Street, Bedford, MK40 1EP                     \n",
              "5 Real Life Options, 35 East Port, Dunfermline, Fife, Scotland, KY12 7LG            \n",
              "  PostCode CompanyNumber SicCodes              DiffMeanHourlyPercent\n",
              "1 SY23 3FL RC000641                            11.5                 \n",
              "2 SE1 3TQ  08064685      82990                  8.7                 \n",
              "3 PE27 4AA 02566586      93110,\\n93130,\\n93290 11.0                 \n",
              "4 MK40 1EP 07972006      78109                 -2.3                 \n",
              "5 KY12 7LG SC272838      86900,\\n88100         -2.0                 \n",
              "  DiffMedianHourlyPercent DiffMeanBonusPercent DiffMedianBonusPercent ⋯\n",
              "1 10.3                        NA                   NA                 ⋯\n",
              "2 10.3                      29.6                 54.5                 ⋯\n",
              "3 -0.5                      81.5                 94.2                 ⋯\n",
              "4  0.0                    -114.8               -249.3                 ⋯\n",
              "5  0.5                        NA                   NA                 ⋯\n",
              "  FemaleUpperMiddleQuartile MaleTopQuartile FemaleTopQuartile\n",
              "1 60.0                      62.0            38.0             \n",
              "2 21.1                      66.7            33.3             \n",
              "3 57.7                      44.2            55.8             \n",
              "4 37.1                      50.0            50.0             \n",
              "5 91.0                       9.0            91.0             \n",
              "  CompanyLinkToGPGInfo                                                                                                \n",
              "1 https://www.aber.ac.uk/en/equality/genderpaygapreporting2019/ \\n\\nhttps://www.aber.ac.uk/cy/equality/gender-pay-gap/\n",
              "2                                                                                                                     \n",
              "3 https://www.1life.co.uk/gender-pay-gap                                                                              \n",
              "4 https://www.1stchoice.net/gender-pay-gap-report-2019/                                                               \n",
              "5 https://reallifeoptions.org/                                                                                        \n",
              "  ResponsiblePerson                              EmployerSize\n",
              "1 Elizabeth Treasure (Vice-Chancellor)           1000 to 4999\n",
              "2 Linda Stigter (Director of People and Culture) 250 to 499  \n",
              "3 Mark Braithwaite (Managing Director)           250 to 499  \n",
              "4 Gill Knight (MD)                               250 to 499  \n",
              "5 Ian Hardcastle (Chief Operating Officer)       250 to 499  \n",
              "  CurrentName                                         \n",
              "1 'PRIFYSGOL ABERYSTWYTH' AND 'ABERYSTWYTH UNIVERSITY'\n",
              "2 10 TRINITY SQUARE HOTEL LIMITED                     \n",
              "3 1LIFE MANAGEMENT SOLUTIONS LIMITED                  \n",
              "4 1ST CHOICE STAFF RECRUITMENT LIMITED                \n",
              "5 1ST HOME CARE LTD.                                  \n",
              "  SubmittedAfterTheDeadline DueDate             DateSubmitted      \n",
              "1 False                     2020/04/05 00:00:00 2020/04/03 14:47:45\n",
              "2 False                     2020/04/05 00:00:00 2020/03/19 15:51:20\n",
              "3 False                     2020/04/05 00:00:00 2020/03/10 17:03:17\n",
              "4 False                     2020/04/05 00:00:00 2020/01/24 09:37:01\n",
              "5 False                     2020/04/05 00:00:00 2020/03/12 08:21:06"
            ]
          },
          "metadata": {}
        }
      ]
    },
    {
      "cell_type": "markdown",
      "source": [
        "To check the column names of your dataset, use colnames():"
      ],
      "metadata": {
        "id": "shOzZsGBdK-Q"
      }
    },
    {
      "cell_type": "code",
      "source": [
        "colnames(paygap)"
      ],
      "metadata": {
        "colab": {
          "base_uri": "https://localhost:8080/",
          "height": 69
        },
        "id": "RV1IvRY7dIzc",
        "outputId": "05475757-7aea-4287-951c-3fcbb749c4e4"
      },
      "execution_count": null,
      "outputs": [
        {
          "output_type": "display_data",
          "data": {
            "text/html": [
              "<style>\n",
              ".list-inline {list-style: none; margin:0; padding: 0}\n",
              ".list-inline>li {display: inline-block}\n",
              ".list-inline>li:not(:last-child)::after {content: \"\\00b7\"; padding: 0 .5ex}\n",
              "</style>\n",
              "<ol class=list-inline><li>'EmployerName'</li><li>'EmployerId'</li><li>'Address'</li><li>'PostCode'</li><li>'CompanyNumber'</li><li>'SicCodes'</li><li>'DiffMeanHourlyPercent'</li><li>'DiffMedianHourlyPercent'</li><li>'DiffMeanBonusPercent'</li><li>'DiffMedianBonusPercent'</li><li>'MaleBonusPercent'</li><li>'FemaleBonusPercent'</li><li>'MaleLowerQuartile'</li><li>'FemaleLowerQuartile'</li><li>'MaleLowerMiddleQuartile'</li><li>'FemaleLowerMiddleQuartile'</li><li>'MaleUpperMiddleQuartile'</li><li>'FemaleUpperMiddleQuartile'</li><li>'MaleTopQuartile'</li><li>'FemaleTopQuartile'</li><li>'CompanyLinkToGPGInfo'</li><li>'ResponsiblePerson'</li><li>'EmployerSize'</li><li>'CurrentName'</li><li>'SubmittedAfterTheDeadline'</li><li>'DueDate'</li><li>'DateSubmitted'</li></ol>\n"
            ],
            "text/markdown": "1. 'EmployerName'\n2. 'EmployerId'\n3. 'Address'\n4. 'PostCode'\n5. 'CompanyNumber'\n6. 'SicCodes'\n7. 'DiffMeanHourlyPercent'\n8. 'DiffMedianHourlyPercent'\n9. 'DiffMeanBonusPercent'\n10. 'DiffMedianBonusPercent'\n11. 'MaleBonusPercent'\n12. 'FemaleBonusPercent'\n13. 'MaleLowerQuartile'\n14. 'FemaleLowerQuartile'\n15. 'MaleLowerMiddleQuartile'\n16. 'FemaleLowerMiddleQuartile'\n17. 'MaleUpperMiddleQuartile'\n18. 'FemaleUpperMiddleQuartile'\n19. 'MaleTopQuartile'\n20. 'FemaleTopQuartile'\n21. 'CompanyLinkToGPGInfo'\n22. 'ResponsiblePerson'\n23. 'EmployerSize'\n24. 'CurrentName'\n25. 'SubmittedAfterTheDeadline'\n26. 'DueDate'\n27. 'DateSubmitted'\n\n\n",
            "text/latex": "\\begin{enumerate*}\n\\item 'EmployerName'\n\\item 'EmployerId'\n\\item 'Address'\n\\item 'PostCode'\n\\item 'CompanyNumber'\n\\item 'SicCodes'\n\\item 'DiffMeanHourlyPercent'\n\\item 'DiffMedianHourlyPercent'\n\\item 'DiffMeanBonusPercent'\n\\item 'DiffMedianBonusPercent'\n\\item 'MaleBonusPercent'\n\\item 'FemaleBonusPercent'\n\\item 'MaleLowerQuartile'\n\\item 'FemaleLowerQuartile'\n\\item 'MaleLowerMiddleQuartile'\n\\item 'FemaleLowerMiddleQuartile'\n\\item 'MaleUpperMiddleQuartile'\n\\item 'FemaleUpperMiddleQuartile'\n\\item 'MaleTopQuartile'\n\\item 'FemaleTopQuartile'\n\\item 'CompanyLinkToGPGInfo'\n\\item 'ResponsiblePerson'\n\\item 'EmployerSize'\n\\item 'CurrentName'\n\\item 'SubmittedAfterTheDeadline'\n\\item 'DueDate'\n\\item 'DateSubmitted'\n\\end{enumerate*}\n",
            "text/plain": [
              " [1] \"EmployerName\"              \"EmployerId\"               \n",
              " [3] \"Address\"                   \"PostCode\"                 \n",
              " [5] \"CompanyNumber\"             \"SicCodes\"                 \n",
              " [7] \"DiffMeanHourlyPercent\"     \"DiffMedianHourlyPercent\"  \n",
              " [9] \"DiffMeanBonusPercent\"      \"DiffMedianBonusPercent\"   \n",
              "[11] \"MaleBonusPercent\"          \"FemaleBonusPercent\"       \n",
              "[13] \"MaleLowerQuartile\"         \"FemaleLowerQuartile\"      \n",
              "[15] \"MaleLowerMiddleQuartile\"   \"FemaleLowerMiddleQuartile\"\n",
              "[17] \"MaleUpperMiddleQuartile\"   \"FemaleUpperMiddleQuartile\"\n",
              "[19] \"MaleTopQuartile\"           \"FemaleTopQuartile\"        \n",
              "[21] \"CompanyLinkToGPGInfo\"      \"ResponsiblePerson\"        \n",
              "[23] \"EmployerSize\"              \"CurrentName\"              \n",
              "[25] \"SubmittedAfterTheDeadline\" \"DueDate\"                  \n",
              "[27] \"DateSubmitted\"            "
            ]
          },
          "metadata": {}
        }
      ]
    },
    {
      "cell_type": "markdown",
      "source": [
        "To check the dimensions of your dataset (number of rows and columns), use dim():"
      ],
      "metadata": {
        "id": "-ydI5GbVdPao"
      }
    },
    {
      "cell_type": "code",
      "source": [
        "dim(paygap)"
      ],
      "metadata": {
        "colab": {
          "base_uri": "https://localhost:8080/",
          "height": 34
        },
        "id": "yx7__Dw-dNPd",
        "outputId": "493b1d14-74f1-49cb-ee34-1a4ce6886e35"
      },
      "execution_count": null,
      "outputs": [
        {
          "output_type": "display_data",
          "data": {
            "text/html": [
              "<style>\n",
              ".list-inline {list-style: none; margin:0; padding: 0}\n",
              ".list-inline>li {display: inline-block}\n",
              ".list-inline>li:not(:last-child)::after {content: \"\\00b7\"; padding: 0 .5ex}\n",
              "</style>\n",
              "<ol class=list-inline><li>6921</li><li>27</li></ol>\n"
            ],
            "text/markdown": "1. 6921\n2. 27\n\n\n",
            "text/latex": "\\begin{enumerate*}\n\\item 6921\n\\item 27\n\\end{enumerate*}\n",
            "text/plain": [
              "[1] 6921   27"
            ]
          },
          "metadata": {}
        }
      ]
    },
    {
      "cell_type": "markdown",
      "source": [
        "## Basic Data Structures"
      ],
      "metadata": {
        "id": "do55Ds6-dS14"
      }
    },
    {
      "cell_type": "markdown",
      "source": [
        "A variable refers to something that is measured. In the pay gap data each column contains data pertaining to a specific variable (employer name, employer size, etc). Data can be continuous, discrete, or categorical.\n",
        "\n",
        "Continuous data can take an infinitely many values (real numbers).\n",
        "\n",
        "Discrete data can take on countable values only (integer numbers).\n",
        "\n",
        "Categorical data fall into a finite number of categories or distinct groups."
      ],
      "metadata": {
        "id": "e2vcOMOSdWAy"
      }
    },
    {
      "cell_type": "markdown",
      "source": [
        "## Data Types in R"
      ],
      "metadata": {
        "id": "4ABGioxZdW0E"
      }
    },
    {
      "cell_type": "markdown",
      "source": [
        "Every object in R has a data type. Below are the five elementary data types in R:\n",
        "\n",
        "- character – e.g. 'abcd'\n",
        "- integer – integer numbers, e.g. '2'\n",
        "- numeric – decimal numbers, e.g. '2.21'\n",
        "- complex – complex numbers, e.g. '2+2i'\n",
        "- logical – either TRUE or FALSE\n",
        "\n",
        "Objects may be combined to form larger data structures. Some common ones:\n",
        "\n",
        "- vector – a one-dimensional array; there are two kinds of vectors:\n",
        "- atomic vector – holds data of a single data type\n",
        "- list – holds data of multiple data types\n",
        "- matrix – a two-dimensional array; all columns have the same data type\n",
        "- data frame – a two-dimensional array; columns may have different data types\n",
        "\n",
        "You can check an object’s data type using class():"
      ],
      "metadata": {
        "id": "gYmMqik1dd1R"
      }
    },
    {
      "cell_type": "code",
      "source": [
        "class(paygap)"
      ],
      "metadata": {
        "colab": {
          "base_uri": "https://localhost:8080/",
          "height": 34
        },
        "id": "RUZJO6MpdRYT",
        "outputId": "c919e329-e4c5-4d2f-e5ab-56476a4e7358"
      },
      "execution_count": null,
      "outputs": [
        {
          "output_type": "display_data",
          "data": {
            "text/html": [
              "'data.frame'"
            ],
            "text/markdown": "'data.frame'",
            "text/latex": "'data.frame'",
            "text/plain": [
              "[1] \"data.frame\""
            ]
          },
          "metadata": {}
        }
      ]
    },
    {
      "cell_type": "markdown",
      "source": [
        "The data frame is indeed a common structure for tabular data. To check the data type(s) in the column DiffMeanHourlyPercent:"
      ],
      "metadata": {
        "id": "4NxLqfCgdoNF"
      }
    },
    {
      "cell_type": "code",
      "source": [
        "class(paygap$DiffMeanHourlyPercent)"
      ],
      "metadata": {
        "colab": {
          "base_uri": "https://localhost:8080/",
          "height": 34
        },
        "id": "L3VTbjROdlh4",
        "outputId": "60930235-d1de-4f83-85a8-e8f634a91368"
      },
      "execution_count": null,
      "outputs": [
        {
          "output_type": "display_data",
          "data": {
            "text/html": [
              "'numeric'"
            ],
            "text/markdown": "'numeric'",
            "text/latex": "'numeric'",
            "text/plain": [
              "[1] \"numeric\""
            ]
          },
          "metadata": {}
        }
      ]
    },
    {
      "cell_type": "markdown",
      "source": [
        "_Note the extract operator, $, which is used to extract a named element from an object (in this case extract a column from a data frame)._"
      ],
      "metadata": {
        "id": "n0Ktq5qldsRN"
      }
    },
    {
      "cell_type": "markdown",
      "source": [
        "# Chapter 3: Wrangling and Visualizing Data"
      ],
      "metadata": {
        "id": "ge2cIUlNeCYj"
      }
    },
    {
      "cell_type": "markdown",
      "source": [
        "## Wrangling Data"
      ],
      "metadata": {
        "id": "hs2eIrmueFw-"
      }
    },
    {
      "cell_type": "markdown",
      "source": [
        "Wrangling data refers to cleaning/manipulating/reorganizing raw data to make it more useful for analysis. The dplyr package has a host of functions specifically for this purpose. This section will introduce you to a few."
      ],
      "metadata": {
        "id": "nZVGB3n8eHcx"
      }
    },
    {
      "cell_type": "markdown",
      "source": [
        "## Indexing"
      ],
      "metadata": {
        "id": "mJbKjA7oeJXa"
      }
    },
    {
      "cell_type": "markdown",
      "source": [
        "Elements in a vector, matrix, or data frame can be extracted using square brackets (numerical indexing). Indexing in R starts at 1 (in some other languages such as Python indexing starts at 0).\n",
        "\n",
        "Below are some examples of indexing from the paygap dataset:"
      ],
      "metadata": {
        "id": "qpYDm8NQfoqD"
      }
    },
    {
      "cell_type": "code",
      "source": [
        "paygap[1,3]"
      ],
      "metadata": {
        "colab": {
          "base_uri": "https://localhost:8080/",
          "height": 34
        },
        "id": "IgEohmyEeN-C",
        "outputId": "63941ea9-1943-4bbb-88fd-4b2ff3c9458a"
      },
      "execution_count": null,
      "outputs": [
        {
          "output_type": "display_data",
          "data": {
            "text/html": [
              "'Aberystwyth University, Penglais, Ceredigion, SY23 3FL'"
            ],
            "text/markdown": "'Aberystwyth University, Penglais, Ceredigion, SY23 3FL'",
            "text/latex": "'Aberystwyth University, Penglais, Ceredigion, SY23 3FL'",
            "text/plain": [
              "[1] \"Aberystwyth University, Penglais, Ceredigion, SY23 3FL\""
            ]
          },
          "metadata": {}
        }
      ]
    },
    {
      "cell_type": "code",
      "source": [
        "paygap[5:7,1:3]"
      ],
      "metadata": {
        "colab": {
          "base_uri": "https://localhost:8080/",
          "height": 192
        },
        "id": "DeRDcDx2fsIs",
        "outputId": "1f9d8c27-ab80-49a2-8c32-c0248dca484c"
      },
      "execution_count": null,
      "outputs": [
        {
          "output_type": "display_data",
          "data": {
            "text/html": [
              "<table class=\"dataframe\">\n",
              "<caption>A data.frame: 3 × 3</caption>\n",
              "<thead>\n",
              "\t<tr><th></th><th scope=col>EmployerName</th><th scope=col>EmployerId</th><th scope=col>Address</th></tr>\n",
              "\t<tr><th></th><th scope=col>&lt;chr&gt;</th><th scope=col>&lt;int&gt;</th><th scope=col>&lt;chr&gt;</th></tr>\n",
              "</thead>\n",
              "<tbody>\n",
              "\t<tr><th scope=row>5</th><td>1ST HOME CARE LTD.          </td><td>17484</td><td>Real Life Options, 35 East Port, Dunfermline, Fife, Scotland, KY12 7LG                               </td></tr>\n",
              "\t<tr><th scope=row>6</th><td>2 SISTERS FOOD GROUP LIMITED</td><td>   77</td><td>Trinity Park House Trinity Business Park, Fox Way, Wakefield, West Yorkshire, WF2 8EE                </td></tr>\n",
              "\t<tr><th scope=row>7</th><td>23.5 DEGREES LIMITED        </td><td>  694</td><td>Unit 3 Hedge End Retail Park, Charles Watts Way, Hedge End, Southampton, Hampshire, England, SO30 4RT</td></tr>\n",
              "</tbody>\n",
              "</table>\n"
            ],
            "text/markdown": "\nA data.frame: 3 × 3\n\n| <!--/--> | EmployerName &lt;chr&gt; | EmployerId &lt;int&gt; | Address &lt;chr&gt; |\n|---|---|---|---|\n| 5 | 1ST HOME CARE LTD.           | 17484 | Real Life Options, 35 East Port, Dunfermline, Fife, Scotland, KY12 7LG                                |\n| 6 | 2 SISTERS FOOD GROUP LIMITED |    77 | Trinity Park House Trinity Business Park, Fox Way, Wakefield, West Yorkshire, WF2 8EE                 |\n| 7 | 23.5 DEGREES LIMITED         |   694 | Unit 3 Hedge End Retail Park, Charles Watts Way, Hedge End, Southampton, Hampshire, England, SO30 4RT |\n\n",
            "text/latex": "A data.frame: 3 × 3\n\\begin{tabular}{r|lll}\n  & EmployerName & EmployerId & Address\\\\\n  & <chr> & <int> & <chr>\\\\\n\\hline\n\t5 & 1ST HOME CARE LTD.           & 17484 & Real Life Options, 35 East Port, Dunfermline, Fife, Scotland, KY12 7LG                               \\\\\n\t6 & 2 SISTERS FOOD GROUP LIMITED &    77 & Trinity Park House Trinity Business Park, Fox Way, Wakefield, West Yorkshire, WF2 8EE                \\\\\n\t7 & 23.5 DEGREES LIMITED         &   694 & Unit 3 Hedge End Retail Park, Charles Watts Way, Hedge End, Southampton, Hampshire, England, SO30 4RT\\\\\n\\end{tabular}\n",
            "text/plain": [
              "  EmployerName                 EmployerId\n",
              "5 1ST HOME CARE LTD.           17484     \n",
              "6 2 SISTERS FOOD GROUP LIMITED    77     \n",
              "7 23.5 DEGREES LIMITED           694     \n",
              "  Address                                                                                              \n",
              "5 Real Life Options, 35 East Port, Dunfermline, Fife, Scotland, KY12 7LG                               \n",
              "6 Trinity Park House Trinity Business Park, Fox Way, Wakefield, West Yorkshire, WF2 8EE                \n",
              "7 Unit 3 Hedge End Retail Park, Charles Watts Way, Hedge End, Southampton, Hampshire, England, SO30 4RT"
            ]
          },
          "metadata": {}
        }
      ]
    },
    {
      "cell_type": "markdown",
      "source": [
        "## Extracting"
      ],
      "metadata": {
        "id": "p5nPLykBf0k0"
      }
    },
    {
      "cell_type": "markdown",
      "source": [
        "The extract operator, $, can extract a named element from a list. Since a data frame is a list, the operator can be used to extract columns from a data frame:"
      ],
      "metadata": {
        "id": "NTQk_4WOf7vG"
      }
    },
    {
      "cell_type": "code",
      "source": [
        "colnames(paygap)"
      ],
      "metadata": {
        "colab": {
          "base_uri": "https://localhost:8080/",
          "height": 69
        },
        "id": "ShTFYRT7f8vD",
        "outputId": "0cddb072-79d0-42bc-9542-6ebb825fe40c"
      },
      "execution_count": null,
      "outputs": [
        {
          "output_type": "display_data",
          "data": {
            "text/html": [
              "<style>\n",
              ".list-inline {list-style: none; margin:0; padding: 0}\n",
              ".list-inline>li {display: inline-block}\n",
              ".list-inline>li:not(:last-child)::after {content: \"\\00b7\"; padding: 0 .5ex}\n",
              "</style>\n",
              "<ol class=list-inline><li>'EmployerName'</li><li>'EmployerId'</li><li>'Address'</li><li>'PostCode'</li><li>'CompanyNumber'</li><li>'SicCodes'</li><li>'DiffMeanHourlyPercent'</li><li>'DiffMedianHourlyPercent'</li><li>'DiffMeanBonusPercent'</li><li>'DiffMedianBonusPercent'</li><li>'MaleBonusPercent'</li><li>'FemaleBonusPercent'</li><li>'MaleLowerQuartile'</li><li>'FemaleLowerQuartile'</li><li>'MaleLowerMiddleQuartile'</li><li>'FemaleLowerMiddleQuartile'</li><li>'MaleUpperMiddleQuartile'</li><li>'FemaleUpperMiddleQuartile'</li><li>'MaleTopQuartile'</li><li>'FemaleTopQuartile'</li><li>'CompanyLinkToGPGInfo'</li><li>'ResponsiblePerson'</li><li>'EmployerSize'</li><li>'CurrentName'</li><li>'SubmittedAfterTheDeadline'</li><li>'DueDate'</li><li>'DateSubmitted'</li></ol>\n"
            ],
            "text/markdown": "1. 'EmployerName'\n2. 'EmployerId'\n3. 'Address'\n4. 'PostCode'\n5. 'CompanyNumber'\n6. 'SicCodes'\n7. 'DiffMeanHourlyPercent'\n8. 'DiffMedianHourlyPercent'\n9. 'DiffMeanBonusPercent'\n10. 'DiffMedianBonusPercent'\n11. 'MaleBonusPercent'\n12. 'FemaleBonusPercent'\n13. 'MaleLowerQuartile'\n14. 'FemaleLowerQuartile'\n15. 'MaleLowerMiddleQuartile'\n16. 'FemaleLowerMiddleQuartile'\n17. 'MaleUpperMiddleQuartile'\n18. 'FemaleUpperMiddleQuartile'\n19. 'MaleTopQuartile'\n20. 'FemaleTopQuartile'\n21. 'CompanyLinkToGPGInfo'\n22. 'ResponsiblePerson'\n23. 'EmployerSize'\n24. 'CurrentName'\n25. 'SubmittedAfterTheDeadline'\n26. 'DueDate'\n27. 'DateSubmitted'\n\n\n",
            "text/latex": "\\begin{enumerate*}\n\\item 'EmployerName'\n\\item 'EmployerId'\n\\item 'Address'\n\\item 'PostCode'\n\\item 'CompanyNumber'\n\\item 'SicCodes'\n\\item 'DiffMeanHourlyPercent'\n\\item 'DiffMedianHourlyPercent'\n\\item 'DiffMeanBonusPercent'\n\\item 'DiffMedianBonusPercent'\n\\item 'MaleBonusPercent'\n\\item 'FemaleBonusPercent'\n\\item 'MaleLowerQuartile'\n\\item 'FemaleLowerQuartile'\n\\item 'MaleLowerMiddleQuartile'\n\\item 'FemaleLowerMiddleQuartile'\n\\item 'MaleUpperMiddleQuartile'\n\\item 'FemaleUpperMiddleQuartile'\n\\item 'MaleTopQuartile'\n\\item 'FemaleTopQuartile'\n\\item 'CompanyLinkToGPGInfo'\n\\item 'ResponsiblePerson'\n\\item 'EmployerSize'\n\\item 'CurrentName'\n\\item 'SubmittedAfterTheDeadline'\n\\item 'DueDate'\n\\item 'DateSubmitted'\n\\end{enumerate*}\n",
            "text/plain": [
              " [1] \"EmployerName\"              \"EmployerId\"               \n",
              " [3] \"Address\"                   \"PostCode\"                 \n",
              " [5] \"CompanyNumber\"             \"SicCodes\"                 \n",
              " [7] \"DiffMeanHourlyPercent\"     \"DiffMedianHourlyPercent\"  \n",
              " [9] \"DiffMeanBonusPercent\"      \"DiffMedianBonusPercent\"   \n",
              "[11] \"MaleBonusPercent\"          \"FemaleBonusPercent\"       \n",
              "[13] \"MaleLowerQuartile\"         \"FemaleLowerQuartile\"      \n",
              "[15] \"MaleLowerMiddleQuartile\"   \"FemaleLowerMiddleQuartile\"\n",
              "[17] \"MaleUpperMiddleQuartile\"   \"FemaleUpperMiddleQuartile\"\n",
              "[19] \"MaleTopQuartile\"           \"FemaleTopQuartile\"        \n",
              "[21] \"CompanyLinkToGPGInfo\"      \"ResponsiblePerson\"        \n",
              "[23] \"EmployerSize\"              \"CurrentName\"              \n",
              "[25] \"SubmittedAfterTheDeadline\" \"DueDate\"                  \n",
              "[27] \"DateSubmitted\"            "
            ]
          },
          "metadata": {}
        }
      ]
    },
    {
      "cell_type": "code",
      "source": [
        "addresses <- paygap$Address"
      ],
      "metadata": {
        "id": "vV6SvJNof-rZ"
      },
      "execution_count": null,
      "outputs": []
    },
    {
      "cell_type": "markdown",
      "source": [
        "## Selecting Columns"
      ],
      "metadata": {
        "id": "EZ8OK_FegYUY"
      }
    },
    {
      "cell_type": "markdown",
      "source": [
        "Use select():"
      ],
      "metadata": {
        "id": "T--QjbfMgeTQ"
      }
    },
    {
      "cell_type": "code",
      "source": [
        "# select columns 'EmployerName' and 'EmployerId' and assign to new object 'employers'\n",
        "employers <- select(paygap, EmployerName, EmployerId)"
      ],
      "metadata": {
        "id": "BEWecCvfgUre"
      },
      "execution_count": null,
      "outputs": []
    },
    {
      "cell_type": "markdown",
      "source": [
        "The first argument in the select() function is the data frame you are selecting from, and subsequent arguments are variables you want to select."
      ],
      "metadata": {
        "id": "1WAUKSMChP37"
      }
    },
    {
      "cell_type": "markdown",
      "source": [
        "## Renaming Columns"
      ],
      "metadata": {
        "id": "SXYh80dOhSr5"
      }
    },
    {
      "cell_type": "markdown",
      "source": [
        "Use rename():"
      ],
      "metadata": {
        "id": "KZh-iq0rhURA"
      }
    },
    {
      "cell_type": "code",
      "source": [
        "## append variable names with their respective units\n",
        "# rename 'CompanyNumber' to 'compnum'\n",
        "paygap <- rename(paygap, compnum = CompanyNumber)\n",
        "\n",
        "# rename 'ResponsiblePerson' to 'responsible_person'\n",
        "paygap <- rename(paygap, responsible_person = ResponsiblePerson)"
      ],
      "metadata": {
        "id": "0RguFN72guY4"
      },
      "execution_count": null,
      "outputs": []
    },
    {
      "cell_type": "markdown",
      "source": [
        "Below is a preview of the modified paygap dataset–now with different column names:"
      ],
      "metadata": {
        "id": "WJsU0WEAh_6K"
      }
    },
    {
      "cell_type": "code",
      "source": [
        "head(paygap)"
      ],
      "metadata": {
        "colab": {
          "base_uri": "https://localhost:8080/",
          "height": 810
        },
        "id": "YqQGgDbvh_lo",
        "outputId": "b6add402-855a-409e-b0c2-acd2e119793a"
      },
      "execution_count": null,
      "outputs": [
        {
          "output_type": "display_data",
          "data": {
            "text/html": [
              "<table class=\"dataframe\">\n",
              "<caption>A data.frame: 6 × 27</caption>\n",
              "<thead>\n",
              "\t<tr><th></th><th scope=col>EmployerName</th><th scope=col>EmployerId</th><th scope=col>Address</th><th scope=col>PostCode</th><th scope=col>compnum</th><th scope=col>SicCodes</th><th scope=col>DiffMeanHourlyPercent</th><th scope=col>DiffMedianHourlyPercent</th><th scope=col>DiffMeanBonusPercent</th><th scope=col>DiffMedianBonusPercent</th><th scope=col>⋯</th><th scope=col>FemaleUpperMiddleQuartile</th><th scope=col>MaleTopQuartile</th><th scope=col>FemaleTopQuartile</th><th scope=col>CompanyLinkToGPGInfo</th><th scope=col>responsible_person</th><th scope=col>EmployerSize</th><th scope=col>CurrentName</th><th scope=col>SubmittedAfterTheDeadline</th><th scope=col>DueDate</th><th scope=col>DateSubmitted</th></tr>\n",
              "\t<tr><th></th><th scope=col>&lt;chr&gt;</th><th scope=col>&lt;int&gt;</th><th scope=col>&lt;chr&gt;</th><th scope=col>&lt;chr&gt;</th><th scope=col>&lt;chr&gt;</th><th scope=col>&lt;chr&gt;</th><th scope=col>&lt;dbl&gt;</th><th scope=col>&lt;dbl&gt;</th><th scope=col>&lt;dbl&gt;</th><th scope=col>&lt;dbl&gt;</th><th scope=col>⋯</th><th scope=col>&lt;dbl&gt;</th><th scope=col>&lt;dbl&gt;</th><th scope=col>&lt;dbl&gt;</th><th scope=col>&lt;chr&gt;</th><th scope=col>&lt;chr&gt;</th><th scope=col>&lt;chr&gt;</th><th scope=col>&lt;chr&gt;</th><th scope=col>&lt;chr&gt;</th><th scope=col>&lt;chr&gt;</th><th scope=col>&lt;chr&gt;</th></tr>\n",
              "</thead>\n",
              "<tbody>\n",
              "\t<tr><th scope=row>1</th><td>'PRIFYSGOL ABERYSTWYTH' AND 'ABERYSTWYTH UNIVERSITY'</td><td>19070</td><td>Aberystwyth University, Penglais, Ceredigion, SY23 3FL                               </td><td>SY23 3FL</td><td>RC000641</td><td>                     </td><td>11.5</td><td>10.3</td><td>    NA</td><td>    NA</td><td>⋯</td><td>60.0</td><td>62.0</td><td>38.0</td><td>https://www.aber.ac.uk/en/equality/genderpaygapreporting2019/ \n",
              "\n",
              "https://www.aber.ac.uk/cy/equality/gender-pay-gap/</td><td>Elizabeth Treasure (Vice-Chancellor)                 </td><td>1000 to 4999</td><td>'PRIFYSGOL ABERYSTWYTH' AND 'ABERYSTWYTH UNIVERSITY'</td><td>False</td><td>2020/04/05 00:00:00</td><td>2020/04/03 14:47:45</td></tr>\n",
              "\t<tr><th scope=row>2</th><td>10 TRINITY SQUARE HOTEL LIMITED                     </td><td>19455</td><td>5 Market Yard Mews, 194-204 Bermondsey Street, London, United Kingdom, SE1 3TQ       </td><td>SE1 3TQ </td><td>08064685</td><td>82990                </td><td> 8.7</td><td>10.3</td><td>  29.6</td><td>  54.5</td><td>⋯</td><td>21.1</td><td>66.7</td><td>33.3</td><td>                                                                                                                    </td><td>Linda Stigter (Director of People and Culture)       </td><td>250 to 499  </td><td>10 TRINITY SQUARE HOTEL LIMITED                     </td><td>False</td><td>2020/04/05 00:00:00</td><td>2020/03/19 15:51:20</td></tr>\n",
              "\t<tr><th scope=row>3</th><td>1LIFE MANAGEMENT SOLUTIONS LIMITED                  </td><td>  687</td><td>Ldh House St Ives Business Park, Parsons Green, St. Ives, Cambridgeshire, PE27 4AA   </td><td>PE27 4AA</td><td>02566586</td><td>93110,\n",
              "93130,\n",
              "93290</td><td>11.0</td><td>-0.5</td><td>  81.5</td><td>  94.2</td><td>⋯</td><td>57.7</td><td>44.2</td><td>55.8</td><td>https://www.1life.co.uk/gender-pay-gap                                                                              </td><td>Mark Braithwaite (Managing Director)                 </td><td>250 to 499  </td><td>1LIFE MANAGEMENT SOLUTIONS LIMITED                  </td><td>False</td><td>2020/04/05 00:00:00</td><td>2020/03/10 17:03:17</td></tr>\n",
              "\t<tr><th scope=row>4</th><td>1ST CHOICE STAFF RECRUITMENT LIMITED                </td><td>18136</td><td>1ST CHOICE RECRUITMENT, 8 St. Loyes Street, Bedford, MK40 1EP                        </td><td>MK40 1EP</td><td>07972006</td><td>78109                </td><td>-2.3</td><td> 0.0</td><td>-114.8</td><td>-249.3</td><td>⋯</td><td>37.1</td><td>50.0</td><td>50.0</td><td>https://www.1stchoice.net/gender-pay-gap-report-2019/                                                               </td><td>Gill Knight (MD)                                     </td><td>250 to 499  </td><td>1ST CHOICE STAFF RECRUITMENT LIMITED                </td><td>False</td><td>2020/04/05 00:00:00</td><td>2020/01/24 09:37:01</td></tr>\n",
              "\t<tr><th scope=row>5</th><td>1ST HOME CARE LTD.                                  </td><td>17484</td><td>Real Life Options, 35 East Port, Dunfermline, Fife, Scotland, KY12 7LG               </td><td>KY12 7LG</td><td>SC272838</td><td>86900,\n",
              "88100        </td><td>-2.0</td><td> 0.5</td><td>    NA</td><td>    NA</td><td>⋯</td><td>91.0</td><td> 9.0</td><td>91.0</td><td>https://reallifeoptions.org/                                                                                        </td><td>Ian Hardcastle (Chief Operating Officer)             </td><td>250 to 499  </td><td>1ST HOME CARE LTD.                                  </td><td>False</td><td>2020/04/05 00:00:00</td><td>2020/03/12 08:21:06</td></tr>\n",
              "\t<tr><th scope=row>6</th><td><span style=white-space:pre-wrap>2 SISTERS FOOD GROUP LIMITED                        </span></td><td><span style=white-space:pre-wrap>   77</span></td><td>Trinity Park House Trinity Business Park, Fox Way, Wakefield, West Yorkshire, WF2 8EE</td><td>WF2 8EE </td><td>02826929</td><td><span style=white-space:pre-wrap>10120                </span></td><td>25.0</td><td> 7.3</td><td><span style=white-space:pre-wrap>  65.0</span></td><td><span style=white-space:pre-wrap>   7.6</span></td><td>⋯</td><td>46.4</td><td>65.9</td><td>34.1</td><td><span style=white-space:pre-wrap>https://www.2sfg.com/PDF/2sfg-GenderPay-2020.pdf                                                                    </span></td><td>Lee Greenbury (Group Director of People &amp; Compliance)</td><td>1000 to 4999</td><td><span style=white-space:pre-wrap>2 SISTERS FOOD GROUP LIMITED                        </span></td><td>False</td><td>2020/04/05 00:00:00</td><td>2021/09/30 12:54:30</td></tr>\n",
              "</tbody>\n",
              "</table>\n"
            ],
            "text/markdown": "\nA data.frame: 6 × 27\n\n| <!--/--> | EmployerName &lt;chr&gt; | EmployerId &lt;int&gt; | Address &lt;chr&gt; | PostCode &lt;chr&gt; | compnum &lt;chr&gt; | SicCodes &lt;chr&gt; | DiffMeanHourlyPercent &lt;dbl&gt; | DiffMedianHourlyPercent &lt;dbl&gt; | DiffMeanBonusPercent &lt;dbl&gt; | DiffMedianBonusPercent &lt;dbl&gt; | ⋯ ⋯ | FemaleUpperMiddleQuartile &lt;dbl&gt; | MaleTopQuartile &lt;dbl&gt; | FemaleTopQuartile &lt;dbl&gt; | CompanyLinkToGPGInfo &lt;chr&gt; | responsible_person &lt;chr&gt; | EmployerSize &lt;chr&gt; | CurrentName &lt;chr&gt; | SubmittedAfterTheDeadline &lt;chr&gt; | DueDate &lt;chr&gt; | DateSubmitted &lt;chr&gt; |\n|---|---|---|---|---|---|---|---|---|---|---|---|---|---|---|---|---|---|---|---|---|---|\n| 1 | 'PRIFYSGOL ABERYSTWYTH' AND 'ABERYSTWYTH UNIVERSITY' | 19070 | Aberystwyth University, Penglais, Ceredigion, SY23 3FL                                | SY23 3FL | RC000641 | <!----> | 11.5 | 10.3 |     NA |     NA | ⋯ | 60.0 | 62.0 | 38.0 | https://www.aber.ac.uk/en/equality/genderpaygapreporting2019/ \n\nhttps://www.aber.ac.uk/cy/equality/gender-pay-gap/ | Elizabeth Treasure (Vice-Chancellor)                  | 1000 to 4999 | 'PRIFYSGOL ABERYSTWYTH' AND 'ABERYSTWYTH UNIVERSITY' | False | 2020/04/05 00:00:00 | 2020/04/03 14:47:45 |\n| 2 | 10 TRINITY SQUARE HOTEL LIMITED                      | 19455 | 5 Market Yard Mews, 194-204 Bermondsey Street, London, United Kingdom, SE1 3TQ        | SE1 3TQ  | 08064685 | 82990                 |  8.7 | 10.3 |   29.6 |   54.5 | ⋯ | 21.1 | 66.7 | 33.3 | <!----> | Linda Stigter (Director of People and Culture)        | 250 to 499   | 10 TRINITY SQUARE HOTEL LIMITED                      | False | 2020/04/05 00:00:00 | 2020/03/19 15:51:20 |\n| 3 | 1LIFE MANAGEMENT SOLUTIONS LIMITED                   |   687 | Ldh House St Ives Business Park, Parsons Green, St. Ives, Cambridgeshire, PE27 4AA    | PE27 4AA | 02566586 | 93110,\n93130,\n93290 | 11.0 | -0.5 |   81.5 |   94.2 | ⋯ | 57.7 | 44.2 | 55.8 | https://www.1life.co.uk/gender-pay-gap                                                                               | Mark Braithwaite (Managing Director)                  | 250 to 499   | 1LIFE MANAGEMENT SOLUTIONS LIMITED                   | False | 2020/04/05 00:00:00 | 2020/03/10 17:03:17 |\n| 4 | 1ST CHOICE STAFF RECRUITMENT LIMITED                 | 18136 | 1ST CHOICE RECRUITMENT, 8 St. Loyes Street, Bedford, MK40 1EP                         | MK40 1EP | 07972006 | 78109                 | -2.3 |  0.0 | -114.8 | -249.3 | ⋯ | 37.1 | 50.0 | 50.0 | https://www.1stchoice.net/gender-pay-gap-report-2019/                                                                | Gill Knight (MD)                                      | 250 to 499   | 1ST CHOICE STAFF RECRUITMENT LIMITED                 | False | 2020/04/05 00:00:00 | 2020/01/24 09:37:01 |\n| 5 | 1ST HOME CARE LTD.                                   | 17484 | Real Life Options, 35 East Port, Dunfermline, Fife, Scotland, KY12 7LG                | KY12 7LG | SC272838 | 86900,\n88100         | -2.0 |  0.5 |     NA |     NA | ⋯ | 91.0 |  9.0 | 91.0 | https://reallifeoptions.org/                                                                                         | Ian Hardcastle (Chief Operating Officer)              | 250 to 499   | 1ST HOME CARE LTD.                                   | False | 2020/04/05 00:00:00 | 2020/03/12 08:21:06 |\n| 6 | 2 SISTERS FOOD GROUP LIMITED                         |    77 | Trinity Park House Trinity Business Park, Fox Way, Wakefield, West Yorkshire, WF2 8EE | WF2 8EE  | 02826929 | 10120                 | 25.0 |  7.3 |   65.0 |    7.6 | ⋯ | 46.4 | 65.9 | 34.1 | https://www.2sfg.com/PDF/2sfg-GenderPay-2020.pdf                                                                     | Lee Greenbury (Group Director of People &amp; Compliance) | 1000 to 4999 | 2 SISTERS FOOD GROUP LIMITED                         | False | 2020/04/05 00:00:00 | 2021/09/30 12:54:30 |\n\n",
            "text/latex": "A data.frame: 6 × 27\n\\begin{tabular}{r|lllllllllllllllllllll}\n  & EmployerName & EmployerId & Address & PostCode & compnum & SicCodes & DiffMeanHourlyPercent & DiffMedianHourlyPercent & DiffMeanBonusPercent & DiffMedianBonusPercent & ⋯ & FemaleUpperMiddleQuartile & MaleTopQuartile & FemaleTopQuartile & CompanyLinkToGPGInfo & responsible\\_person & EmployerSize & CurrentName & SubmittedAfterTheDeadline & DueDate & DateSubmitted\\\\\n  & <chr> & <int> & <chr> & <chr> & <chr> & <chr> & <dbl> & <dbl> & <dbl> & <dbl> & ⋯ & <dbl> & <dbl> & <dbl> & <chr> & <chr> & <chr> & <chr> & <chr> & <chr> & <chr>\\\\\n\\hline\n\t1 & 'PRIFYSGOL ABERYSTWYTH' AND 'ABERYSTWYTH UNIVERSITY' & 19070 & Aberystwyth University, Penglais, Ceredigion, SY23 3FL                                & SY23 3FL & RC000641 &                       & 11.5 & 10.3 &     NA &     NA & ⋯ & 60.0 & 62.0 & 38.0 & https://www.aber.ac.uk/en/equality/genderpaygapreporting2019/ \n\nhttps://www.aber.ac.uk/cy/equality/gender-pay-gap/ & Elizabeth Treasure (Vice-Chancellor)                  & 1000 to 4999 & 'PRIFYSGOL ABERYSTWYTH' AND 'ABERYSTWYTH UNIVERSITY' & False & 2020/04/05 00:00:00 & 2020/04/03 14:47:45\\\\\n\t2 & 10 TRINITY SQUARE HOTEL LIMITED                      & 19455 & 5 Market Yard Mews, 194-204 Bermondsey Street, London, United Kingdom, SE1 3TQ        & SE1 3TQ  & 08064685 & 82990                 &  8.7 & 10.3 &   29.6 &   54.5 & ⋯ & 21.1 & 66.7 & 33.3 &                                                                                                                      & Linda Stigter (Director of People and Culture)        & 250 to 499   & 10 TRINITY SQUARE HOTEL LIMITED                      & False & 2020/04/05 00:00:00 & 2020/03/19 15:51:20\\\\\n\t3 & 1LIFE MANAGEMENT SOLUTIONS LIMITED                   &   687 & Ldh House St Ives Business Park, Parsons Green, St. Ives, Cambridgeshire, PE27 4AA    & PE27 4AA & 02566586 & 93110,\n93130,\n93290 & 11.0 & -0.5 &   81.5 &   94.2 & ⋯ & 57.7 & 44.2 & 55.8 & https://www.1life.co.uk/gender-pay-gap                                                                               & Mark Braithwaite (Managing Director)                  & 250 to 499   & 1LIFE MANAGEMENT SOLUTIONS LIMITED                   & False & 2020/04/05 00:00:00 & 2020/03/10 17:03:17\\\\\n\t4 & 1ST CHOICE STAFF RECRUITMENT LIMITED                 & 18136 & 1ST CHOICE RECRUITMENT, 8 St. Loyes Street, Bedford, MK40 1EP                         & MK40 1EP & 07972006 & 78109                 & -2.3 &  0.0 & -114.8 & -249.3 & ⋯ & 37.1 & 50.0 & 50.0 & https://www.1stchoice.net/gender-pay-gap-report-2019/                                                                & Gill Knight (MD)                                      & 250 to 499   & 1ST CHOICE STAFF RECRUITMENT LIMITED                 & False & 2020/04/05 00:00:00 & 2020/01/24 09:37:01\\\\\n\t5 & 1ST HOME CARE LTD.                                   & 17484 & Real Life Options, 35 East Port, Dunfermline, Fife, Scotland, KY12 7LG                & KY12 7LG & SC272838 & 86900,\n88100         & -2.0 &  0.5 &     NA &     NA & ⋯ & 91.0 &  9.0 & 91.0 & https://reallifeoptions.org/                                                                                         & Ian Hardcastle (Chief Operating Officer)              & 250 to 499   & 1ST HOME CARE LTD.                                   & False & 2020/04/05 00:00:00 & 2020/03/12 08:21:06\\\\\n\t6 & 2 SISTERS FOOD GROUP LIMITED                         &    77 & Trinity Park House Trinity Business Park, Fox Way, Wakefield, West Yorkshire, WF2 8EE & WF2 8EE  & 02826929 & 10120                 & 25.0 &  7.3 &   65.0 &    7.6 & ⋯ & 46.4 & 65.9 & 34.1 & https://www.2sfg.com/PDF/2sfg-GenderPay-2020.pdf                                                                     & Lee Greenbury (Group Director of People \\& Compliance) & 1000 to 4999 & 2 SISTERS FOOD GROUP LIMITED                         & False & 2020/04/05 00:00:00 & 2021/09/30 12:54:30\\\\\n\\end{tabular}\n",
            "text/plain": [
              "  EmployerName                                         EmployerId\n",
              "1 'PRIFYSGOL ABERYSTWYTH' AND 'ABERYSTWYTH UNIVERSITY' 19070     \n",
              "2 10 TRINITY SQUARE HOTEL LIMITED                      19455     \n",
              "3 1LIFE MANAGEMENT SOLUTIONS LIMITED                     687     \n",
              "4 1ST CHOICE STAFF RECRUITMENT LIMITED                 18136     \n",
              "5 1ST HOME CARE LTD.                                   17484     \n",
              "6 2 SISTERS FOOD GROUP LIMITED                            77     \n",
              "  Address                                                                              \n",
              "1 Aberystwyth University, Penglais, Ceredigion, SY23 3FL                               \n",
              "2 5 Market Yard Mews, 194-204 Bermondsey Street, London, United Kingdom, SE1 3TQ       \n",
              "3 Ldh House St Ives Business Park, Parsons Green, St. Ives, Cambridgeshire, PE27 4AA   \n",
              "4 1ST CHOICE RECRUITMENT, 8 St. Loyes Street, Bedford, MK40 1EP                        \n",
              "5 Real Life Options, 35 East Port, Dunfermline, Fife, Scotland, KY12 7LG               \n",
              "6 Trinity Park House Trinity Business Park, Fox Way, Wakefield, West Yorkshire, WF2 8EE\n",
              "  PostCode compnum  SicCodes              DiffMeanHourlyPercent\n",
              "1 SY23 3FL RC000641                       11.5                 \n",
              "2 SE1 3TQ  08064685 82990                  8.7                 \n",
              "3 PE27 4AA 02566586 93110,\\n93130,\\n93290 11.0                 \n",
              "4 MK40 1EP 07972006 78109                 -2.3                 \n",
              "5 KY12 7LG SC272838 86900,\\n88100         -2.0                 \n",
              "6 WF2 8EE  02826929 10120                 25.0                 \n",
              "  DiffMedianHourlyPercent DiffMeanBonusPercent DiffMedianBonusPercent ⋯\n",
              "1 10.3                        NA                   NA                 ⋯\n",
              "2 10.3                      29.6                 54.5                 ⋯\n",
              "3 -0.5                      81.5                 94.2                 ⋯\n",
              "4  0.0                    -114.8               -249.3                 ⋯\n",
              "5  0.5                        NA                   NA                 ⋯\n",
              "6  7.3                      65.0                  7.6                 ⋯\n",
              "  FemaleUpperMiddleQuartile MaleTopQuartile FemaleTopQuartile\n",
              "1 60.0                      62.0            38.0             \n",
              "2 21.1                      66.7            33.3             \n",
              "3 57.7                      44.2            55.8             \n",
              "4 37.1                      50.0            50.0             \n",
              "5 91.0                       9.0            91.0             \n",
              "6 46.4                      65.9            34.1             \n",
              "  CompanyLinkToGPGInfo                                                                                                \n",
              "1 https://www.aber.ac.uk/en/equality/genderpaygapreporting2019/ \\n\\nhttps://www.aber.ac.uk/cy/equality/gender-pay-gap/\n",
              "2                                                                                                                     \n",
              "3 https://www.1life.co.uk/gender-pay-gap                                                                              \n",
              "4 https://www.1stchoice.net/gender-pay-gap-report-2019/                                                               \n",
              "5 https://reallifeoptions.org/                                                                                        \n",
              "6 https://www.2sfg.com/PDF/2sfg-GenderPay-2020.pdf                                                                    \n",
              "  responsible_person                                    EmployerSize\n",
              "1 Elizabeth Treasure (Vice-Chancellor)                  1000 to 4999\n",
              "2 Linda Stigter (Director of People and Culture)        250 to 499  \n",
              "3 Mark Braithwaite (Managing Director)                  250 to 499  \n",
              "4 Gill Knight (MD)                                      250 to 499  \n",
              "5 Ian Hardcastle (Chief Operating Officer)              250 to 499  \n",
              "6 Lee Greenbury (Group Director of People & Compliance) 1000 to 4999\n",
              "  CurrentName                                         \n",
              "1 'PRIFYSGOL ABERYSTWYTH' AND 'ABERYSTWYTH UNIVERSITY'\n",
              "2 10 TRINITY SQUARE HOTEL LIMITED                     \n",
              "3 1LIFE MANAGEMENT SOLUTIONS LIMITED                  \n",
              "4 1ST CHOICE STAFF RECRUITMENT LIMITED                \n",
              "5 1ST HOME CARE LTD.                                  \n",
              "6 2 SISTERS FOOD GROUP LIMITED                        \n",
              "  SubmittedAfterTheDeadline DueDate             DateSubmitted      \n",
              "1 False                     2020/04/05 00:00:00 2020/04/03 14:47:45\n",
              "2 False                     2020/04/05 00:00:00 2020/03/19 15:51:20\n",
              "3 False                     2020/04/05 00:00:00 2020/03/10 17:03:17\n",
              "4 False                     2020/04/05 00:00:00 2020/01/24 09:37:01\n",
              "5 False                     2020/04/05 00:00:00 2020/03/12 08:21:06\n",
              "6 False                     2020/04/05 00:00:00 2021/09/30 12:54:30"
            ]
          },
          "metadata": {}
        }
      ]
    },
    {
      "cell_type": "markdown",
      "source": [
        "## Adding/Changing Columns"
      ],
      "metadata": {
        "id": "RoMf0w7eiHOp"
      }
    },
    {
      "cell_type": "markdown",
      "source": [
        "Use mutate():"
      ],
      "metadata": {
        "id": "mpWORsc2iJFa"
      }
    },
    {
      "cell_type": "code",
      "source": [
        "# add new column with twice the diffmeanhourlyprecent\n",
        "paygap <- mutate(paygap, twicediffmeanhourlyprecent = DiffMeanHourlyPercent * 2)"
      ],
      "metadata": {
        "id": "B91GZy93iqEj"
      },
      "execution_count": null,
      "outputs": []
    },
    {
      "cell_type": "code",
      "source": [
        "# change values in SubmittedAfterTheDeadline column to read \"1\" and \"0\" instead of True and False\n",
        "paygap <- mutate(paygap, SubmittedAfterTheDeadline = ifelse(SubmittedAfterTheDeadline == 'True', '1', \n",
        "                                            ifelse(SubmittedAfterTheDeadline == 'False', '0', NA)))"
      ],
      "metadata": {
        "id": "rv_Wsz1mi-14"
      },
      "execution_count": null,
      "outputs": []
    },
    {
      "cell_type": "markdown",
      "source": [
        "See these changes below:"
      ],
      "metadata": {
        "id": "xNYxSwIijYNd"
      }
    },
    {
      "cell_type": "code",
      "source": [
        "head(paygap)"
      ],
      "metadata": {
        "colab": {
          "base_uri": "https://localhost:8080/",
          "height": 810
        },
        "id": "4wlsNEtljVg0",
        "outputId": "d4163093-861a-4dbb-e09b-c09a42e6c3a7"
      },
      "execution_count": null,
      "outputs": [
        {
          "output_type": "display_data",
          "data": {
            "text/html": [
              "<table class=\"dataframe\">\n",
              "<caption>A data.frame: 6 × 28</caption>\n",
              "<thead>\n",
              "\t<tr><th></th><th scope=col>EmployerName</th><th scope=col>EmployerId</th><th scope=col>Address</th><th scope=col>PostCode</th><th scope=col>compnum</th><th scope=col>SicCodes</th><th scope=col>DiffMeanHourlyPercent</th><th scope=col>DiffMedianHourlyPercent</th><th scope=col>DiffMeanBonusPercent</th><th scope=col>DiffMedianBonusPercent</th><th scope=col>⋯</th><th scope=col>MaleTopQuartile</th><th scope=col>FemaleTopQuartile</th><th scope=col>CompanyLinkToGPGInfo</th><th scope=col>responsible_person</th><th scope=col>EmployerSize</th><th scope=col>CurrentName</th><th scope=col>SubmittedAfterTheDeadline</th><th scope=col>DueDate</th><th scope=col>DateSubmitted</th><th scope=col>twicediffmeanhourlyprecent</th></tr>\n",
              "\t<tr><th></th><th scope=col>&lt;chr&gt;</th><th scope=col>&lt;int&gt;</th><th scope=col>&lt;chr&gt;</th><th scope=col>&lt;chr&gt;</th><th scope=col>&lt;chr&gt;</th><th scope=col>&lt;chr&gt;</th><th scope=col>&lt;dbl&gt;</th><th scope=col>&lt;dbl&gt;</th><th scope=col>&lt;dbl&gt;</th><th scope=col>&lt;dbl&gt;</th><th scope=col>⋯</th><th scope=col>&lt;dbl&gt;</th><th scope=col>&lt;dbl&gt;</th><th scope=col>&lt;chr&gt;</th><th scope=col>&lt;chr&gt;</th><th scope=col>&lt;chr&gt;</th><th scope=col>&lt;chr&gt;</th><th scope=col>&lt;chr&gt;</th><th scope=col>&lt;chr&gt;</th><th scope=col>&lt;chr&gt;</th><th scope=col>&lt;dbl&gt;</th></tr>\n",
              "</thead>\n",
              "<tbody>\n",
              "\t<tr><th scope=row>1</th><td>'PRIFYSGOL ABERYSTWYTH' AND 'ABERYSTWYTH UNIVERSITY'</td><td>19070</td><td>Aberystwyth University, Penglais, Ceredigion, SY23 3FL                               </td><td>SY23 3FL</td><td>RC000641</td><td>                     </td><td>11.5</td><td>10.3</td><td>    NA</td><td>    NA</td><td>⋯</td><td>62.0</td><td>38.0</td><td>https://www.aber.ac.uk/en/equality/genderpaygapreporting2019/ \n",
              "\n",
              "https://www.aber.ac.uk/cy/equality/gender-pay-gap/</td><td>Elizabeth Treasure (Vice-Chancellor)                 </td><td>1000 to 4999</td><td>'PRIFYSGOL ABERYSTWYTH' AND 'ABERYSTWYTH UNIVERSITY'</td><td>0</td><td>2020/04/05 00:00:00</td><td>2020/04/03 14:47:45</td><td>23.0</td></tr>\n",
              "\t<tr><th scope=row>2</th><td>10 TRINITY SQUARE HOTEL LIMITED                     </td><td>19455</td><td>5 Market Yard Mews, 194-204 Bermondsey Street, London, United Kingdom, SE1 3TQ       </td><td>SE1 3TQ </td><td>08064685</td><td>82990                </td><td> 8.7</td><td>10.3</td><td>  29.6</td><td>  54.5</td><td>⋯</td><td>66.7</td><td>33.3</td><td>                                                                                                                    </td><td>Linda Stigter (Director of People and Culture)       </td><td>250 to 499  </td><td>10 TRINITY SQUARE HOTEL LIMITED                     </td><td>0</td><td>2020/04/05 00:00:00</td><td>2020/03/19 15:51:20</td><td>17.4</td></tr>\n",
              "\t<tr><th scope=row>3</th><td>1LIFE MANAGEMENT SOLUTIONS LIMITED                  </td><td>  687</td><td>Ldh House St Ives Business Park, Parsons Green, St. Ives, Cambridgeshire, PE27 4AA   </td><td>PE27 4AA</td><td>02566586</td><td>93110,\n",
              "93130,\n",
              "93290</td><td>11.0</td><td>-0.5</td><td>  81.5</td><td>  94.2</td><td>⋯</td><td>44.2</td><td>55.8</td><td>https://www.1life.co.uk/gender-pay-gap                                                                              </td><td>Mark Braithwaite (Managing Director)                 </td><td>250 to 499  </td><td>1LIFE MANAGEMENT SOLUTIONS LIMITED                  </td><td>0</td><td>2020/04/05 00:00:00</td><td>2020/03/10 17:03:17</td><td>22.0</td></tr>\n",
              "\t<tr><th scope=row>4</th><td>1ST CHOICE STAFF RECRUITMENT LIMITED                </td><td>18136</td><td>1ST CHOICE RECRUITMENT, 8 St. Loyes Street, Bedford, MK40 1EP                        </td><td>MK40 1EP</td><td>07972006</td><td>78109                </td><td>-2.3</td><td> 0.0</td><td>-114.8</td><td>-249.3</td><td>⋯</td><td>50.0</td><td>50.0</td><td>https://www.1stchoice.net/gender-pay-gap-report-2019/                                                               </td><td>Gill Knight (MD)                                     </td><td>250 to 499  </td><td>1ST CHOICE STAFF RECRUITMENT LIMITED                </td><td>0</td><td>2020/04/05 00:00:00</td><td>2020/01/24 09:37:01</td><td>-4.6</td></tr>\n",
              "\t<tr><th scope=row>5</th><td>1ST HOME CARE LTD.                                  </td><td>17484</td><td>Real Life Options, 35 East Port, Dunfermline, Fife, Scotland, KY12 7LG               </td><td>KY12 7LG</td><td>SC272838</td><td>86900,\n",
              "88100        </td><td>-2.0</td><td> 0.5</td><td>    NA</td><td>    NA</td><td>⋯</td><td> 9.0</td><td>91.0</td><td>https://reallifeoptions.org/                                                                                        </td><td>Ian Hardcastle (Chief Operating Officer)             </td><td>250 to 499  </td><td>1ST HOME CARE LTD.                                  </td><td>0</td><td>2020/04/05 00:00:00</td><td>2020/03/12 08:21:06</td><td>-4.0</td></tr>\n",
              "\t<tr><th scope=row>6</th><td><span style=white-space:pre-wrap>2 SISTERS FOOD GROUP LIMITED                        </span></td><td><span style=white-space:pre-wrap>   77</span></td><td>Trinity Park House Trinity Business Park, Fox Way, Wakefield, West Yorkshire, WF2 8EE</td><td>WF2 8EE </td><td>02826929</td><td><span style=white-space:pre-wrap>10120                </span></td><td>25.0</td><td> 7.3</td><td><span style=white-space:pre-wrap>  65.0</span></td><td><span style=white-space:pre-wrap>   7.6</span></td><td>⋯</td><td>65.9</td><td>34.1</td><td><span style=white-space:pre-wrap>https://www.2sfg.com/PDF/2sfg-GenderPay-2020.pdf                                                                    </span></td><td>Lee Greenbury (Group Director of People &amp; Compliance)</td><td>1000 to 4999</td><td><span style=white-space:pre-wrap>2 SISTERS FOOD GROUP LIMITED                        </span></td><td>0</td><td>2020/04/05 00:00:00</td><td>2021/09/30 12:54:30</td><td>50.0</td></tr>\n",
              "</tbody>\n",
              "</table>\n"
            ],
            "text/markdown": "\nA data.frame: 6 × 28\n\n| <!--/--> | EmployerName &lt;chr&gt; | EmployerId &lt;int&gt; | Address &lt;chr&gt; | PostCode &lt;chr&gt; | compnum &lt;chr&gt; | SicCodes &lt;chr&gt; | DiffMeanHourlyPercent &lt;dbl&gt; | DiffMedianHourlyPercent &lt;dbl&gt; | DiffMeanBonusPercent &lt;dbl&gt; | DiffMedianBonusPercent &lt;dbl&gt; | ⋯ ⋯ | MaleTopQuartile &lt;dbl&gt; | FemaleTopQuartile &lt;dbl&gt; | CompanyLinkToGPGInfo &lt;chr&gt; | responsible_person &lt;chr&gt; | EmployerSize &lt;chr&gt; | CurrentName &lt;chr&gt; | SubmittedAfterTheDeadline &lt;chr&gt; | DueDate &lt;chr&gt; | DateSubmitted &lt;chr&gt; | twicediffmeanhourlyprecent &lt;dbl&gt; |\n|---|---|---|---|---|---|---|---|---|---|---|---|---|---|---|---|---|---|---|---|---|---|\n| 1 | 'PRIFYSGOL ABERYSTWYTH' AND 'ABERYSTWYTH UNIVERSITY' | 19070 | Aberystwyth University, Penglais, Ceredigion, SY23 3FL                                | SY23 3FL | RC000641 | <!----> | 11.5 | 10.3 |     NA |     NA | ⋯ | 62.0 | 38.0 | https://www.aber.ac.uk/en/equality/genderpaygapreporting2019/ \n\nhttps://www.aber.ac.uk/cy/equality/gender-pay-gap/ | Elizabeth Treasure (Vice-Chancellor)                  | 1000 to 4999 | 'PRIFYSGOL ABERYSTWYTH' AND 'ABERYSTWYTH UNIVERSITY' | 0 | 2020/04/05 00:00:00 | 2020/04/03 14:47:45 | 23.0 |\n| 2 | 10 TRINITY SQUARE HOTEL LIMITED                      | 19455 | 5 Market Yard Mews, 194-204 Bermondsey Street, London, United Kingdom, SE1 3TQ        | SE1 3TQ  | 08064685 | 82990                 |  8.7 | 10.3 |   29.6 |   54.5 | ⋯ | 66.7 | 33.3 | <!----> | Linda Stigter (Director of People and Culture)        | 250 to 499   | 10 TRINITY SQUARE HOTEL LIMITED                      | 0 | 2020/04/05 00:00:00 | 2020/03/19 15:51:20 | 17.4 |\n| 3 | 1LIFE MANAGEMENT SOLUTIONS LIMITED                   |   687 | Ldh House St Ives Business Park, Parsons Green, St. Ives, Cambridgeshire, PE27 4AA    | PE27 4AA | 02566586 | 93110,\n93130,\n93290 | 11.0 | -0.5 |   81.5 |   94.2 | ⋯ | 44.2 | 55.8 | https://www.1life.co.uk/gender-pay-gap                                                                               | Mark Braithwaite (Managing Director)                  | 250 to 499   | 1LIFE MANAGEMENT SOLUTIONS LIMITED                   | 0 | 2020/04/05 00:00:00 | 2020/03/10 17:03:17 | 22.0 |\n| 4 | 1ST CHOICE STAFF RECRUITMENT LIMITED                 | 18136 | 1ST CHOICE RECRUITMENT, 8 St. Loyes Street, Bedford, MK40 1EP                         | MK40 1EP | 07972006 | 78109                 | -2.3 |  0.0 | -114.8 | -249.3 | ⋯ | 50.0 | 50.0 | https://www.1stchoice.net/gender-pay-gap-report-2019/                                                                | Gill Knight (MD)                                      | 250 to 499   | 1ST CHOICE STAFF RECRUITMENT LIMITED                 | 0 | 2020/04/05 00:00:00 | 2020/01/24 09:37:01 | -4.6 |\n| 5 | 1ST HOME CARE LTD.                                   | 17484 | Real Life Options, 35 East Port, Dunfermline, Fife, Scotland, KY12 7LG                | KY12 7LG | SC272838 | 86900,\n88100         | -2.0 |  0.5 |     NA |     NA | ⋯ |  9.0 | 91.0 | https://reallifeoptions.org/                                                                                         | Ian Hardcastle (Chief Operating Officer)              | 250 to 499   | 1ST HOME CARE LTD.                                   | 0 | 2020/04/05 00:00:00 | 2020/03/12 08:21:06 | -4.0 |\n| 6 | 2 SISTERS FOOD GROUP LIMITED                         |    77 | Trinity Park House Trinity Business Park, Fox Way, Wakefield, West Yorkshire, WF2 8EE | WF2 8EE  | 02826929 | 10120                 | 25.0 |  7.3 |   65.0 |    7.6 | ⋯ | 65.9 | 34.1 | https://www.2sfg.com/PDF/2sfg-GenderPay-2020.pdf                                                                     | Lee Greenbury (Group Director of People &amp; Compliance) | 1000 to 4999 | 2 SISTERS FOOD GROUP LIMITED                         | 0 | 2020/04/05 00:00:00 | 2021/09/30 12:54:30 | 50.0 |\n\n",
            "text/latex": "A data.frame: 6 × 28\n\\begin{tabular}{r|lllllllllllllllllllll}\n  & EmployerName & EmployerId & Address & PostCode & compnum & SicCodes & DiffMeanHourlyPercent & DiffMedianHourlyPercent & DiffMeanBonusPercent & DiffMedianBonusPercent & ⋯ & MaleTopQuartile & FemaleTopQuartile & CompanyLinkToGPGInfo & responsible\\_person & EmployerSize & CurrentName & SubmittedAfterTheDeadline & DueDate & DateSubmitted & twicediffmeanhourlyprecent\\\\\n  & <chr> & <int> & <chr> & <chr> & <chr> & <chr> & <dbl> & <dbl> & <dbl> & <dbl> & ⋯ & <dbl> & <dbl> & <chr> & <chr> & <chr> & <chr> & <chr> & <chr> & <chr> & <dbl>\\\\\n\\hline\n\t1 & 'PRIFYSGOL ABERYSTWYTH' AND 'ABERYSTWYTH UNIVERSITY' & 19070 & Aberystwyth University, Penglais, Ceredigion, SY23 3FL                                & SY23 3FL & RC000641 &                       & 11.5 & 10.3 &     NA &     NA & ⋯ & 62.0 & 38.0 & https://www.aber.ac.uk/en/equality/genderpaygapreporting2019/ \n\nhttps://www.aber.ac.uk/cy/equality/gender-pay-gap/ & Elizabeth Treasure (Vice-Chancellor)                  & 1000 to 4999 & 'PRIFYSGOL ABERYSTWYTH' AND 'ABERYSTWYTH UNIVERSITY' & 0 & 2020/04/05 00:00:00 & 2020/04/03 14:47:45 & 23.0\\\\\n\t2 & 10 TRINITY SQUARE HOTEL LIMITED                      & 19455 & 5 Market Yard Mews, 194-204 Bermondsey Street, London, United Kingdom, SE1 3TQ        & SE1 3TQ  & 08064685 & 82990                 &  8.7 & 10.3 &   29.6 &   54.5 & ⋯ & 66.7 & 33.3 &                                                                                                                      & Linda Stigter (Director of People and Culture)        & 250 to 499   & 10 TRINITY SQUARE HOTEL LIMITED                      & 0 & 2020/04/05 00:00:00 & 2020/03/19 15:51:20 & 17.4\\\\\n\t3 & 1LIFE MANAGEMENT SOLUTIONS LIMITED                   &   687 & Ldh House St Ives Business Park, Parsons Green, St. Ives, Cambridgeshire, PE27 4AA    & PE27 4AA & 02566586 & 93110,\n93130,\n93290 & 11.0 & -0.5 &   81.5 &   94.2 & ⋯ & 44.2 & 55.8 & https://www.1life.co.uk/gender-pay-gap                                                                               & Mark Braithwaite (Managing Director)                  & 250 to 499   & 1LIFE MANAGEMENT SOLUTIONS LIMITED                   & 0 & 2020/04/05 00:00:00 & 2020/03/10 17:03:17 & 22.0\\\\\n\t4 & 1ST CHOICE STAFF RECRUITMENT LIMITED                 & 18136 & 1ST CHOICE RECRUITMENT, 8 St. Loyes Street, Bedford, MK40 1EP                         & MK40 1EP & 07972006 & 78109                 & -2.3 &  0.0 & -114.8 & -249.3 & ⋯ & 50.0 & 50.0 & https://www.1stchoice.net/gender-pay-gap-report-2019/                                                                & Gill Knight (MD)                                      & 250 to 499   & 1ST CHOICE STAFF RECRUITMENT LIMITED                 & 0 & 2020/04/05 00:00:00 & 2020/01/24 09:37:01 & -4.6\\\\\n\t5 & 1ST HOME CARE LTD.                                   & 17484 & Real Life Options, 35 East Port, Dunfermline, Fife, Scotland, KY12 7LG                & KY12 7LG & SC272838 & 86900,\n88100         & -2.0 &  0.5 &     NA &     NA & ⋯ &  9.0 & 91.0 & https://reallifeoptions.org/                                                                                         & Ian Hardcastle (Chief Operating Officer)              & 250 to 499   & 1ST HOME CARE LTD.                                   & 0 & 2020/04/05 00:00:00 & 2020/03/12 08:21:06 & -4.0\\\\\n\t6 & 2 SISTERS FOOD GROUP LIMITED                         &    77 & Trinity Park House Trinity Business Park, Fox Way, Wakefield, West Yorkshire, WF2 8EE & WF2 8EE  & 02826929 & 10120                 & 25.0 &  7.3 &   65.0 &    7.6 & ⋯ & 65.9 & 34.1 & https://www.2sfg.com/PDF/2sfg-GenderPay-2020.pdf                                                                     & Lee Greenbury (Group Director of People \\& Compliance) & 1000 to 4999 & 2 SISTERS FOOD GROUP LIMITED                         & 0 & 2020/04/05 00:00:00 & 2021/09/30 12:54:30 & 50.0\\\\\n\\end{tabular}\n",
            "text/plain": [
              "  EmployerName                                         EmployerId\n",
              "1 'PRIFYSGOL ABERYSTWYTH' AND 'ABERYSTWYTH UNIVERSITY' 19070     \n",
              "2 10 TRINITY SQUARE HOTEL LIMITED                      19455     \n",
              "3 1LIFE MANAGEMENT SOLUTIONS LIMITED                     687     \n",
              "4 1ST CHOICE STAFF RECRUITMENT LIMITED                 18136     \n",
              "5 1ST HOME CARE LTD.                                   17484     \n",
              "6 2 SISTERS FOOD GROUP LIMITED                            77     \n",
              "  Address                                                                              \n",
              "1 Aberystwyth University, Penglais, Ceredigion, SY23 3FL                               \n",
              "2 5 Market Yard Mews, 194-204 Bermondsey Street, London, United Kingdom, SE1 3TQ       \n",
              "3 Ldh House St Ives Business Park, Parsons Green, St. Ives, Cambridgeshire, PE27 4AA   \n",
              "4 1ST CHOICE RECRUITMENT, 8 St. Loyes Street, Bedford, MK40 1EP                        \n",
              "5 Real Life Options, 35 East Port, Dunfermline, Fife, Scotland, KY12 7LG               \n",
              "6 Trinity Park House Trinity Business Park, Fox Way, Wakefield, West Yorkshire, WF2 8EE\n",
              "  PostCode compnum  SicCodes              DiffMeanHourlyPercent\n",
              "1 SY23 3FL RC000641                       11.5                 \n",
              "2 SE1 3TQ  08064685 82990                  8.7                 \n",
              "3 PE27 4AA 02566586 93110,\\n93130,\\n93290 11.0                 \n",
              "4 MK40 1EP 07972006 78109                 -2.3                 \n",
              "5 KY12 7LG SC272838 86900,\\n88100         -2.0                 \n",
              "6 WF2 8EE  02826929 10120                 25.0                 \n",
              "  DiffMedianHourlyPercent DiffMeanBonusPercent DiffMedianBonusPercent ⋯\n",
              "1 10.3                        NA                   NA                 ⋯\n",
              "2 10.3                      29.6                 54.5                 ⋯\n",
              "3 -0.5                      81.5                 94.2                 ⋯\n",
              "4  0.0                    -114.8               -249.3                 ⋯\n",
              "5  0.5                        NA                   NA                 ⋯\n",
              "6  7.3                      65.0                  7.6                 ⋯\n",
              "  MaleTopQuartile FemaleTopQuartile\n",
              "1 62.0            38.0             \n",
              "2 66.7            33.3             \n",
              "3 44.2            55.8             \n",
              "4 50.0            50.0             \n",
              "5  9.0            91.0             \n",
              "6 65.9            34.1             \n",
              "  CompanyLinkToGPGInfo                                                                                                \n",
              "1 https://www.aber.ac.uk/en/equality/genderpaygapreporting2019/ \\n\\nhttps://www.aber.ac.uk/cy/equality/gender-pay-gap/\n",
              "2                                                                                                                     \n",
              "3 https://www.1life.co.uk/gender-pay-gap                                                                              \n",
              "4 https://www.1stchoice.net/gender-pay-gap-report-2019/                                                               \n",
              "5 https://reallifeoptions.org/                                                                                        \n",
              "6 https://www.2sfg.com/PDF/2sfg-GenderPay-2020.pdf                                                                    \n",
              "  responsible_person                                    EmployerSize\n",
              "1 Elizabeth Treasure (Vice-Chancellor)                  1000 to 4999\n",
              "2 Linda Stigter (Director of People and Culture)        250 to 499  \n",
              "3 Mark Braithwaite (Managing Director)                  250 to 499  \n",
              "4 Gill Knight (MD)                                      250 to 499  \n",
              "5 Ian Hardcastle (Chief Operating Officer)              250 to 499  \n",
              "6 Lee Greenbury (Group Director of People & Compliance) 1000 to 4999\n",
              "  CurrentName                                         \n",
              "1 'PRIFYSGOL ABERYSTWYTH' AND 'ABERYSTWYTH UNIVERSITY'\n",
              "2 10 TRINITY SQUARE HOTEL LIMITED                     \n",
              "3 1LIFE MANAGEMENT SOLUTIONS LIMITED                  \n",
              "4 1ST CHOICE STAFF RECRUITMENT LIMITED                \n",
              "5 1ST HOME CARE LTD.                                  \n",
              "6 2 SISTERS FOOD GROUP LIMITED                        \n",
              "  SubmittedAfterTheDeadline DueDate             DateSubmitted      \n",
              "1 0                         2020/04/05 00:00:00 2020/04/03 14:47:45\n",
              "2 0                         2020/04/05 00:00:00 2020/03/19 15:51:20\n",
              "3 0                         2020/04/05 00:00:00 2020/03/10 17:03:17\n",
              "4 0                         2020/04/05 00:00:00 2020/01/24 09:37:01\n",
              "5 0                         2020/04/05 00:00:00 2020/03/12 08:21:06\n",
              "6 0                         2020/04/05 00:00:00 2021/09/30 12:54:30\n",
              "  twicediffmeanhourlyprecent\n",
              "1 23.0                      \n",
              "2 17.4                      \n",
              "3 22.0                      \n",
              "4 -4.6                      \n",
              "5 -4.0                      \n",
              "6 50.0                      "
            ]
          },
          "metadata": {}
        }
      ]
    },
    {
      "cell_type": "markdown",
      "source": [
        "## Filtering Data"
      ],
      "metadata": {
        "id": "ppqtRxmLkMMh"
      }
    },
    {
      "cell_type": "markdown",
      "source": [
        "Use filter():"
      ],
      "metadata": {
        "id": "XZRWERLgkOx5"
      }
    },
    {
      "cell_type": "code",
      "source": [
        "# filter for data from reports submitted on time only\n",
        "paygap_ontime <- filter(paygap, SubmittedAfterTheDeadline == '0')"
      ],
      "metadata": {
        "id": "qVUcMMudkhGx"
      },
      "execution_count": null,
      "outputs": []
    },
    {
      "cell_type": "code",
      "source": [
        "paygap_ontime"
      ],
      "metadata": {
        "colab": {
          "base_uri": "https://localhost:8080/",
          "height": 1000
        },
        "id": "OQ3sVYIzlPMP",
        "outputId": "daccd1fc-3fa5-45eb-a292-e0f64c9a4afd"
      },
      "execution_count": null,
      "outputs": [
        {
          "output_type": "display_data",
          "data": {
            "text/html": [
              "<table class=\"dataframe\">\n",
              "<caption>A data.frame: 6921 × 28</caption>\n",
              "<thead>\n",
              "\t<tr><th scope=col>EmployerName</th><th scope=col>EmployerId</th><th scope=col>Address</th><th scope=col>PostCode</th><th scope=col>compnum</th><th scope=col>SicCodes</th><th scope=col>DiffMeanHourlyPercent</th><th scope=col>DiffMedianHourlyPercent</th><th scope=col>DiffMeanBonusPercent</th><th scope=col>DiffMedianBonusPercent</th><th scope=col>⋯</th><th scope=col>MaleTopQuartile</th><th scope=col>FemaleTopQuartile</th><th scope=col>CompanyLinkToGPGInfo</th><th scope=col>responsible_person</th><th scope=col>EmployerSize</th><th scope=col>CurrentName</th><th scope=col>SubmittedAfterTheDeadline</th><th scope=col>DueDate</th><th scope=col>DateSubmitted</th><th scope=col>twicediffmeanhourlyprecent</th></tr>\n",
              "\t<tr><th scope=col>&lt;chr&gt;</th><th scope=col>&lt;int&gt;</th><th scope=col>&lt;chr&gt;</th><th scope=col>&lt;chr&gt;</th><th scope=col>&lt;chr&gt;</th><th scope=col>&lt;chr&gt;</th><th scope=col>&lt;dbl&gt;</th><th scope=col>&lt;dbl&gt;</th><th scope=col>&lt;dbl&gt;</th><th scope=col>&lt;dbl&gt;</th><th scope=col>⋯</th><th scope=col>&lt;dbl&gt;</th><th scope=col>&lt;dbl&gt;</th><th scope=col>&lt;chr&gt;</th><th scope=col>&lt;chr&gt;</th><th scope=col>&lt;chr&gt;</th><th scope=col>&lt;chr&gt;</th><th scope=col>&lt;chr&gt;</th><th scope=col>&lt;chr&gt;</th><th scope=col>&lt;chr&gt;</th><th scope=col>&lt;dbl&gt;</th></tr>\n",
              "</thead>\n",
              "<tbody>\n",
              "\t<tr><td>'PRIFYSGOL ABERYSTWYTH' AND 'ABERYSTWYTH UNIVERSITY'</td><td>19070</td><td>Aberystwyth University, Penglais, Ceredigion, SY23 3FL                                                      </td><td>SY23 3FL</td><td>RC000641</td><td>                             </td><td>11.5</td><td>10.3</td><td>    NA</td><td>    NA</td><td>⋯</td><td>62.0</td><td>38.0</td><td>https://www.aber.ac.uk/en/equality/genderpaygapreporting2019/ \n",
              "\n",
              "https://www.aber.ac.uk/cy/equality/gender-pay-gap/                                          </td><td>Elizabeth Treasure (Vice-Chancellor)                 </td><td>1000 to 4999  </td><td>'PRIFYSGOL ABERYSTWYTH' AND 'ABERYSTWYTH UNIVERSITY'</td><td>0</td><td>2020/04/05 00:00:00</td><td>2020/04/03 14:47:45</td><td>23.0</td></tr>\n",
              "\t<tr><td>10 TRINITY SQUARE HOTEL LIMITED                     </td><td>19455</td><td>5 Market Yard Mews, 194-204 Bermondsey Street, London, United Kingdom, SE1 3TQ                              </td><td>SE1 3TQ </td><td>08064685</td><td>82990                        </td><td> 8.7</td><td>10.3</td><td>  29.6</td><td>  54.5</td><td>⋯</td><td>66.7</td><td>33.3</td><td>                                                                                                                                                              </td><td>Linda Stigter (Director of People and Culture)       </td><td>250 to 499    </td><td>10 TRINITY SQUARE HOTEL LIMITED                     </td><td>0</td><td>2020/04/05 00:00:00</td><td>2020/03/19 15:51:20</td><td>17.4</td></tr>\n",
              "\t<tr><td>1LIFE MANAGEMENT SOLUTIONS LIMITED                  </td><td>  687</td><td>Ldh House St Ives Business Park, Parsons Green, St. Ives, Cambridgeshire, PE27 4AA                          </td><td>PE27 4AA</td><td>02566586</td><td>93110,\n",
              "93130,\n",
              "93290        </td><td>11.0</td><td>-0.5</td><td>  81.5</td><td>  94.2</td><td>⋯</td><td>44.2</td><td>55.8</td><td>https://www.1life.co.uk/gender-pay-gap                                                                                                                        </td><td>Mark Braithwaite (Managing Director)                 </td><td>250 to 499    </td><td>1LIFE MANAGEMENT SOLUTIONS LIMITED                  </td><td>0</td><td>2020/04/05 00:00:00</td><td>2020/03/10 17:03:17</td><td>22.0</td></tr>\n",
              "\t<tr><td>1ST CHOICE STAFF RECRUITMENT LIMITED                </td><td>18136</td><td>1ST CHOICE RECRUITMENT, 8 St. Loyes Street, Bedford, MK40 1EP                                               </td><td>MK40 1EP</td><td>07972006</td><td>78109                        </td><td>-2.3</td><td> 0.0</td><td>-114.8</td><td>-249.3</td><td>⋯</td><td>50.0</td><td>50.0</td><td>https://www.1stchoice.net/gender-pay-gap-report-2019/                                                                                                         </td><td>Gill Knight (MD)                                     </td><td>250 to 499    </td><td>1ST CHOICE STAFF RECRUITMENT LIMITED                </td><td>0</td><td>2020/04/05 00:00:00</td><td>2020/01/24 09:37:01</td><td>-4.6</td></tr>\n",
              "\t<tr><td>1ST HOME CARE LTD.                                  </td><td>17484</td><td>Real Life Options, 35 East Port, Dunfermline, Fife, Scotland, KY12 7LG                                      </td><td>KY12 7LG</td><td>SC272838</td><td>86900,\n",
              "88100                </td><td>-2.0</td><td> 0.5</td><td>    NA</td><td>    NA</td><td>⋯</td><td> 9.0</td><td>91.0</td><td>https://reallifeoptions.org/                                                                                                                                  </td><td>Ian Hardcastle (Chief Operating Officer)             </td><td>250 to 499    </td><td>1ST HOME CARE LTD.                                  </td><td>0</td><td>2020/04/05 00:00:00</td><td>2020/03/12 08:21:06</td><td>-4.0</td></tr>\n",
              "\t<tr><td><span style=white-space:pre-wrap>2 SISTERS FOOD GROUP LIMITED                        </span></td><td><span style=white-space:pre-wrap>   77</span></td><td><span style=white-space:pre-wrap>Trinity Park House Trinity Business Park, Fox Way, Wakefield, West Yorkshire, WF2 8EE                       </span></td><td>WF2 8EE </td><td>02826929</td><td><span style=white-space:pre-wrap>10120                        </span></td><td>25.0</td><td> 7.3</td><td><span style=white-space:pre-wrap>  65.0</span></td><td><span style=white-space:pre-wrap>   7.6</span></td><td>⋯</td><td>65.9</td><td>34.1</td><td><span style=white-space:pre-wrap>https://www.2sfg.com/PDF/2sfg-GenderPay-2020.pdf                                                                                                              </span></td><td>Lee Greenbury (Group Director of People &amp; Compliance)</td><td><span style=white-space:pre-wrap>1000 to 4999  </span></td><td><span style=white-space:pre-wrap>2 SISTERS FOOD GROUP LIMITED                        </span></td><td>0</td><td>2020/04/05 00:00:00</td><td>2021/09/30 12:54:30</td><td>50.0</td></tr>\n",
              "\t<tr><td>23.5 DEGREES LIMITED                                </td><td>  694</td><td>Unit 3 Hedge End Retail Park, Charles Watts Way, Hedge End, Southampton, Hampshire, England, SO30 4RT       </td><td>SO30 4RT</td><td>08014079</td><td>56103                        </td><td>10.0</td><td> 0.0</td><td>  79.0</td><td>  35.0</td><td>⋯</td><td>31.0</td><td>69.0</td><td>https://www.23-5degrees.com/gender-pay-gap                                                                                                                    </td><td>Luca Contardo (CFO)                                  </td><td>500 to 999    </td><td>23.5 DEGREES LIMITED                                </td><td>0</td><td>2020/04/05 00:00:00</td><td>2019/11/11 15:33:45</td><td>20.0</td></tr>\n",
              "\t<tr><td>24 X 7 LTD.                                         </td><td>  695</td><td>Little Easton Manor Park Road, Little Easton, Dunmow, Essex, England, CM6 2JN                               </td><td>CM6 2JN </td><td>04142000</td><td>52290                        </td><td> 0.2</td><td> 0.0</td><td>    NA</td><td>    NA</td><td>⋯</td><td>44.0</td><td>56.0</td><td>                                                                                                                                                              </td><td>lisa hyem (fd)                                       </td><td>1000 to 4999  </td><td>24 X 7 LTD.                                         </td><td>0</td><td>2020/04/05 00:00:00</td><td>2021/10/12 09:31:56</td><td> 0.4</td></tr>\n",
              "\t<tr><td>24-7 EMPLOYMENT SOLUTIONS LIMITED                   </td><td>17921</td><td>198 Parrock Street, Gravesend, England, DA12 1EW                                                            </td><td>DA12 1EW</td><td>07431144</td><td>78200                        </td><td> 0.0</td><td> 0.0</td><td>    NA</td><td>    NA</td><td>⋯</td><td>53.3</td><td>46.7</td><td>http://www.247esl.co.uk/gender-pay-gap/                                                                                                                       </td><td>Riju Sharma Adhikari (Director)                      </td><td>Less than 250 </td><td>24-7 EMPLOYMENT SOLUTIONS LIMITED                   </td><td>0</td><td>2020/04/05 00:00:00</td><td>2020/04/06 15:24:41</td><td> 0.0</td></tr>\n",
              "\t<tr><td>2GETHER SUPPORT SOLUTIONS LIMITED                   </td><td>19676</td><td>Management Offices William Harvey Hospital, Kennington Road, Willesborough, Ashford, Kent, England, TN24 0LZ</td><td>TN24 0LZ</td><td>11385580</td><td>81100                        </td><td> 3.7</td><td> 0.0</td><td>    NA</td><td>    NA</td><td>⋯</td><td>53.5</td><td>46.5</td><td>https://2gethersupportsolutions.org/about-us/                                                                                                                 </td><td>Finbarr Murray (Managing Director)                   </td><td>1000 to 4999  </td><td>2GETHER SUPPORT SOLUTIONS LIMITED                   </td><td>0</td><td>2020/04/05 00:00:00</td><td>2020/03/24 14:58:53</td><td> 7.4</td></tr>\n",
              "\t<tr><td>3 WAY CLEANING LIMITED                              </td><td>17503</td><td>Unit 7 Capstan Centre,, Thurrock Park Way, Tilbury, Essex, RM18 7HH                                         </td><td>RM18 7HH</td><td>03457928</td><td>81210                        </td><td> 1.1</td><td> 0.0</td><td>   0.0</td><td>   0.0</td><td>⋯</td><td>38.9</td><td>61.1</td><td>                                                                                                                                                              </td><td>Sue Hawkins (Finance Manager)                        </td><td>250 to 499    </td><td>3 WAY CLEANING LIMITED                              </td><td>0</td><td>2020/04/05 00:00:00</td><td>2021/07/01 08:25:27</td><td> 2.2</td></tr>\n",
              "\t<tr><td><span style=white-space:pre-wrap>3663 TRANSPORT LIMITED                              </span></td><td><span style=white-space:pre-wrap>  697</span></td><td><span style=white-space:pre-wrap>814 Leigh Road, Slough, England, SL1 4BD                                                                    </span></td><td>SL1 4BD </td><td>00456846</td><td><span style=white-space:pre-wrap>52290                        </span></td><td> 1.4</td><td> 7.1</td><td><span style=white-space:pre-wrap>  47.4</span></td><td><span style=white-space:pre-wrap>  52.5</span></td><td>⋯</td><td>96.0</td><td> 4.0</td><td><span style=white-space:pre-wrap>https://www.bidfood.co.uk/gender-pay-gap-reports/                                                                                                             </span></td><td><span style=white-space:pre-wrap>Heather Angus (HR &amp; Sustainability Director)         </span></td><td><span style=white-space:pre-wrap>1000 to 4999  </span></td><td><span style=white-space:pre-wrap>3663 TRANSPORT LIMITED                              </span></td><td>0</td><td>2020/04/05 00:00:00</td><td>2020/05/14 16:07:39</td><td> 2.8</td></tr>\n",
              "\t<tr><td><span style=white-space:pre-wrap>3M UNITED KINGDOM PUBLIC LIMITED COMPANY            </span></td><td><span style=white-space:pre-wrap>  293</span></td><td><span style=white-space:pre-wrap>3m Centre, Cain Road, Bracknell, Berkshire, RG12 8HT                                                        </span></td><td>RG12 8HT</td><td>01123045</td><td><span style=white-space:pre-wrap>20301,\n",
              "23910,\n",
              "32990        </span></td><td>10.0</td><td> 8.0</td><td><span style=white-space:pre-wrap>  18.0</span></td><td><span style=white-space:pre-wrap>  28.0</span></td><td>⋯</td><td>71.0</td><td>29.0</td><td><span style=white-space:pre-wrap>                                                                                                                                                              </span></td><td><span style=white-space:pre-wrap>Katherine Parks (PR&amp; I Leader, North Europe)         </span></td><td><span style=white-space:pre-wrap>1000 to 4999  </span></td><td><span style=white-space:pre-wrap>3M UNITED KINGDOM PUBLIC LIMITED COMPANY            </span></td><td>0</td><td>2020/04/05 00:00:00</td><td>2020/03/17 13:02:54</td><td>20.0</td></tr>\n",
              "\t<tr><td>46 BERKELEY SQUARE LTD                              </td><td>19122</td><td>26-28 Conway Street, London, England, W1T 6BQ                                                               </td><td>W1T 6BQ </td><td>09497091</td><td>94990                        </td><td> 5.8</td><td> 9.5</td><td>  40.0</td><td>  23.4</td><td>⋯</td><td>84.0</td><td>16.0</td><td>                                                                                                                                                              </td><td>Alyson Park (HR Director)                            </td><td>250 to 499    </td><td>46 BERKELEY SQUARE LTD                              </td><td>0</td><td>2020/04/05 00:00:00</td><td>2020/04/02 10:43:02</td><td>11.6</td></tr>\n",
              "\t<tr><td>8X8 UK LIMITED                                      </td><td>19714</td><td>Oxford House, Bell Business Park, Smeaton Close, Aylesbury, Buckinghamshire, HP19 8JR                       </td><td>HP19 8JR</td><td>05083841</td><td>62020                        </td><td>26.0</td><td>35.0</td><td>  46.0</td><td>  63.0</td><td>⋯</td><td>64.0</td><td>36.0</td><td>https://assets.contentstack.io/v3/assets/blt4f29123a87c48c8b/blt7e149900887ac409/5e870542ca20f06480e5f157/8X8_uk_gender_pay_report_2020.pdf?disposition=inline</td><td>Anthony Shore (Senior Manager; Human Resources)      </td><td>250 to 499    </td><td>8X8 UK LIMITED                                      </td><td>0</td><td>2020/04/05 00:00:00</td><td>2020/04/03 16:08:58</td><td>52.0</td></tr>\n",
              "\t<tr><td>A B GRAPHIC INTERNATIONAL LIMITED                   </td><td>19166</td><td>Celebration House, Stanley, Street, Burton-On-Trent, Staffordshire, DE14 1DY                                </td><td>DE14 1DY</td><td>00538043</td><td>28290                        </td><td>13.5</td><td>14.8</td><td>  77.7</td><td> -15.4</td><td>⋯</td><td>95.0</td><td> 5.0</td><td>https://abgint.com/gender-pay-reporting                                                                                                                       </td><td>Richard Knight (CEO)                                 </td><td>250 to 499    </td><td>A B GRAPHIC INTERNATIONAL LIMITED                   </td><td>0</td><td>2020/04/05 00:00:00</td><td>2020/03/30 14:28:05</td><td>27.0</td></tr>\n",
              "\t<tr><td>A H WORTH LIMITED                                   </td><td>  430</td><td>Fleet Estate Office, Manor Farm, Holbeach Hurn, Holbeach, Spalding, Lincolnshire, PE12 8LR                  </td><td>PE12 8LR</td><td>02267537</td><td>10390                        </td><td>12.3</td><td>10.2</td><td>    NA</td><td>    NA</td><td>⋯</td><td>70.3</td><td>29.7</td><td>http://ahworth.co.uk                                                                                                                                          </td><td>Gill Bartlett (HR Manager)                           </td><td>250 to 499    </td><td>A H WORTH LIMITED                                   </td><td>0</td><td>2020/04/05 00:00:00</td><td>2020/03/26 14:51:45</td><td>24.6</td></tr>\n",
              "\t<tr><td>A-DAY CONSULTANTS LIMITED                           </td><td>15592</td><td>Kingston House Towers Business Park, Wilmslow Road, Manchester, England, M20 2LD                            </td><td>M20 2LD </td><td>04493101</td><td>78109                        </td><td>14.8</td><td>17.9</td><td>  52.5</td><td>  28.0</td><td>⋯</td><td>38.9</td><td>61.1</td><td>https://www.academicsltd.co.uk/                                                                                                                               </td><td>Claire Tyrrell (Group HR Director)                   </td><td>1000 to 4999  </td><td>A-DAY CONSULTANTS LIMITED                           </td><td>0</td><td>2020/04/05 00:00:00</td><td>2020/03/25 16:19:41</td><td>29.6</td></tr>\n",
              "\t<tr><td>A-PLAN HOLDINGS                                     </td><td> 1330</td><td>2 Des Roches Square, Witney, Oxfordshire, OX28 4LE                                                          </td><td>OX28 4LE</td><td>00750484</td><td>66220                        </td><td>18.2</td><td> 8.6</td><td>   9.9</td><td>  13.0</td><td>⋯</td><td>71.0</td><td>29.0</td><td>https://www.aplan.co.uk/                                                                                                                                      </td><td>Andrew Galbraith (Group Chief Financial Officer)     </td><td>1000 to 4999  </td><td>A-PLAN HOLDINGS                                     </td><td>0</td><td>2020/04/05 00:00:00</td><td>2020/03/09 09:08:57</td><td>36.4</td></tr>\n",
              "\t<tr><td><span style=white-space:pre-wrap>A. &amp; B. GLASS COMPANY LIMITED                       </span></td><td><span style=white-space:pre-wrap>  729</span></td><td><span style=white-space:pre-wrap>Addison Road, Chilton Industrial Estate, Sudbury, Suffolk, CO10 2YW                                         </span></td><td>CO10 2YW</td><td>01543721</td><td><span style=white-space:pre-wrap>43342                        </span></td><td>19.0</td><td> 4.0</td><td><span style=white-space:pre-wrap>  42.0</span></td><td><span style=white-space:pre-wrap>  45.0</span></td><td>⋯</td><td>90.0</td><td>10.0</td><td><span style=white-space:pre-wrap>                                                                                                                                                              </span></td><td><span style=white-space:pre-wrap>PHILIP FARNELL (GROUP HR MANAGER)                    </span></td><td><span style=white-space:pre-wrap>250 to 499    </span></td><td><span style=white-space:pre-wrap>A. &amp; B. GLASS COMPANY LIMITED                       </span></td><td>0</td><td>2020/04/05 00:00:00</td><td>2019/05/20 16:34:42</td><td>38.0</td></tr>\n",
              "\t<tr><td><span style=white-space:pre-wrap>A. SHARE &amp; SONS LIMITED                             </span></td><td><span style=white-space:pre-wrap>  124</span></td><td><span style=white-space:pre-wrap>45-49 Villiers Street, Sunderland, SR1 1HA                                                                  </span></td><td>SR1 1HA </td><td>00323778</td><td><span style=white-space:pre-wrap>47530,\n",
              "47599                </span></td><td>25.0</td><td>31.0</td><td><span style=white-space:pre-wrap>  40.0</span></td><td><span style=white-space:pre-wrap>  85.0</span></td><td>⋯</td><td>84.0</td><td>16.0</td><td><span style=white-space:pre-wrap>https://www.scsplc.co.uk/                                                                                                                                     </span></td><td><span style=white-space:pre-wrap>Marie Liston (Corporate Services Director)           </span></td><td><span style=white-space:pre-wrap>1000 to 4999  </span></td><td><span style=white-space:pre-wrap>A. SHARE &amp; SONS LIMITED                             </span></td><td>0</td><td>2020/04/05 00:00:00</td><td>2020/06/11 11:19:46</td><td>50.0</td></tr>\n",
              "\t<tr><td><span style=white-space:pre-wrap>A.B.M. CATERING LIMITED                             </span></td><td><span style=white-space:pre-wrap>  733</span></td><td><span style=white-space:pre-wrap>Eagle Court, 63-67 Saltisford, Warwick, Warwickshire, CV34 4AF                                              </span></td><td>CV34 4AF</td><td>04168334</td><td><span style=white-space:pre-wrap>56290,\n",
              "70100                </span></td><td>21.7</td><td>16.5</td><td> -70.3</td><td><span style=white-space:pre-wrap>  61.5</span></td><td>⋯</td><td>33.9</td><td>66.1</td><td><span style=white-space:pre-wrap>http://www.abmcatering.co.uk/wp-content/uploads/2019/07/Gender-Pay-Gap-Report-2018.pdf                                                                        </span></td><td><span style=white-space:pre-wrap>Sue Hill (Finance &amp; HR Director - Operations)        </span></td><td><span style=white-space:pre-wrap>1000 to 4999  </span></td><td><span style=white-space:pre-wrap>A.B.M. CATERING LIMITED                             </span></td><td>0</td><td>2020/04/05 00:00:00</td><td>2020/01/29 12:20:31</td><td>43.4</td></tr>\n",
              "\t<tr><td>A.C. GOATHAM AND SON LIMITED                        </td><td>19074</td><td>Flanders Farm Ratcliffe Highway, Hoo, Rochester, Kent, England, ME3 8QE                                     </td><td>ME3 8QE </td><td>09732369</td><td>1240                         </td><td>11.7</td><td>20.3</td><td>  -7.0</td><td>-200.0</td><td>⋯</td><td>69.2</td><td>30.8</td><td>                                                                                                                                                              </td><td>Ross Goatham (Managing Director)                     </td><td>250 to 499    </td><td>A.C. GOATHAM AND SON LIMITED                        </td><td>0</td><td>2020/04/05 00:00:00</td><td>2020/03/09 17:03:00</td><td>23.4</td></tr>\n",
              "\t<tr><td><span style=white-space:pre-wrap>A.CLARKE &amp; CO.(SMETHWICK)LIMITED                    </span></td><td><span style=white-space:pre-wrap>  736</span></td><td><span style=white-space:pre-wrap>PO BOX 9837 Station Road, Oldbury, West Midlands, B69 4WD                                                   </span></td><td>B69 4WD </td><td>00580331</td><td><span style=white-space:pre-wrap>49410                        </span></td><td> 3.1</td><td>21.2</td><td><span style=white-space:pre-wrap>  69.9</span></td><td><span style=white-space:pre-wrap>   0.0</span></td><td>⋯</td><td>91.0</td><td> 9.0</td><td><span style=white-space:pre-wrap>https://www.clarketransport.co.uk/gender-pay-reports                                                                                                          </span></td><td><span style=white-space:pre-wrap>Bill Clarke (Commercial Director)                    </span></td><td><span style=white-space:pre-wrap>500 to 999    </span></td><td><span style=white-space:pre-wrap>A.CLARKE &amp; CO.(SMETHWICK)LIMITED                    </span></td><td>0</td><td>2020/04/05 00:00:00</td><td>2021/10/04 15:39:17</td><td> 6.2</td></tr>\n",
              "\t<tr><td>A.F.BLAKEMORE AND SON LIMITED                       </td><td>  737</td><td>Long Acres Ind Est, Rosehill, Willenhall, West Midlands, WV13 2JP                                           </td><td>WV13 2JP</td><td>00391135</td><td>46390                        </td><td>18.0</td><td> 6.0</td><td>  52.0</td><td>  53.0</td><td>⋯</td><td>73.0</td><td>27.0</td><td>                                                                                                                                                              </td><td>Pamela Watts (Group HR Operations Director)          </td><td>5000 to 19,999</td><td>A.F.BLAKEMORE AND SON LIMITED                       </td><td>0</td><td>2020/04/05 00:00:00</td><td>2021/10/03 20:00:58</td><td>36.0</td></tr>\n",
              "\t<tr><td>A.G. BARR P.L.C.                                    </td><td> 1838</td><td>Westfield House, 4 Mollins Road, Cumbernauld, G68 9HD                                                       </td><td>G68 9HD </td><td>SC005653</td><td>11070                        </td><td> 2.7</td><td>-7.4</td><td>  42.9</td><td>  -2.5</td><td>⋯</td><td>66.0</td><td>34.0</td><td>https://www.agbarr.co.uk/responsibility/we-act-with-integrity/                                                                                                </td><td>Doug Brown (Head of Human Resources)                 </td><td>500 to 999    </td><td>A.G. BARR P.L.C.                                    </td><td>0</td><td>2020/04/05 00:00:00</td><td>2021/03/25 16:40:28</td><td> 5.4</td></tr>\n",
              "\t<tr><td>A.J.N. STEELSTOCK LTD.                              </td><td>14835</td><td>Icknield Way, Kentford, Newmarket, Suffolk, CB8 7QT                                                         </td><td>CB8 7QT </td><td>00689647</td><td>46720                        </td><td>10.3</td><td> 0.0</td><td> -29.1</td><td> -16.3</td><td>⋯</td><td>87.1</td><td>12.9</td><td>https://www.ajnsteelstock.co.uk/downloads-resources/                                                                                                          </td><td>Courtney Bell (Finance Director)                     </td><td>250 to 499    </td><td>A.J.N. STEELSTOCK LTD.                              </td><td>0</td><td>2020/04/05 00:00:00</td><td>2020/03/10 12:46:34</td><td>20.6</td></tr>\n",
              "\t<tr><td><span style=white-space:pre-wrap>A.W. &amp; D. HAMMOND LIMITED                           </span></td><td>16958</td><td><span style=white-space:pre-wrap>Norwich Road, Halesworth, Suffolk, IP19 8BU                                                                 </span></td><td>IP19 8BU</td><td>00989239</td><td>45111,\n",
              "45112,\n",
              "45200,\n",
              "45310</td><td>16.6</td><td>27.9</td><td><span style=white-space:pre-wrap>  50.3</span></td><td><span style=white-space:pre-wrap>  66.0</span></td><td>⋯</td><td>97.0</td><td> 3.0</td><td><span style=white-space:pre-wrap>https://www.hammondgroup.co.uk/exclusive/aw-and-d-hammond-limiteds-gender-pay-gap-data/67588                                                                  </span></td><td><span style=white-space:pre-wrap>Victor Maycock (HR Manager)                          </span></td><td><span style=white-space:pre-wrap>Not Provided  </span></td><td><span style=white-space:pre-wrap>A.W. &amp; D. HAMMOND LIMITED                           </span></td><td>0</td><td>2020/04/05 00:00:00</td><td>2021/09/27 17:29:33</td><td>33.2</td></tr>\n",
              "\t<tr><td>A2DOMINION HOUSING GROUP LIMITED                    </td><td>  751</td><td>The Point, 37 North Wharf Road, London, United Kingdom, W2 1BD                                              </td><td>W2 1BD  </td><td>IP28985R</td><td>                             </td><td>25.4</td><td>20.3</td><td>  53.1</td><td>   0.0</td><td>⋯</td><td>55.1</td><td>44.9</td><td>https://www.a2dominiongroup.co.uk/content/doclib/60.pdf                                                                                                       </td><td>Penny St Martin (Director of HR)                     </td><td>500 to 999    </td><td>A2DOMINION HOUSING GROUP LIMITED                    </td><td>0</td><td>2020/04/05 00:00:00</td><td>2020/04/03 12:47:00</td><td>50.8</td></tr>\n",
              "\t<tr><td>AAH PHARMACEUTICALS LIMITED                         </td><td>  757</td><td>Sapphire Court, Walsgrave Triangle, Coventry, CV2 2TX                                                       </td><td>CV2 2TX </td><td>00123458</td><td>21100,\n",
              "46460                </td><td>10.7</td><td>-0.4</td><td>  48.0</td><td> -28.0</td><td>⋯</td><td>61.0</td><td>39.0</td><td>https://mckesson.uk/wp-content/uploads/2020/03/Gender-Pay-Gap-Report-2019-Final.pdf                                                                           </td><td>Jane Davies (HR Director)                            </td><td>1000 to 4999  </td><td>AAH PHARMACEUTICALS LIMITED                         </td><td>0</td><td>2020/04/05 00:00:00</td><td>2020/03/18 11:11:39</td><td>21.4</td></tr>\n",
              "\t<tr><td>⋮</td><td>⋮</td><td>⋮</td><td>⋮</td><td>⋮</td><td>⋮</td><td>⋮</td><td>⋮</td><td>⋮</td><td>⋮</td><td>⋱</td><td>⋮</td><td>⋮</td><td>⋮</td><td>⋮</td><td>⋮</td><td>⋮</td><td>⋮</td><td>⋮</td><td>⋮</td><td>⋮</td></tr>\n",
              "\t<tr><td>York Teaching Hospital Nhs Foundation Trust</td><td>14029</td><td>Wigginton Road, York, North Yorkshire, YO31 8HE                                              </td><td>YO31 8HE</td><td>        </td><td>1,\n",
              "86210                    </td><td> 33.4</td><td> 18.9</td><td>  94.5</td><td>  33.3</td><td>⋯</td><td>33.7</td><td>66.3</td><td>https://www.yorkhospitals.nhs.uk/seecmsfile/?id=4194                                                                                                      </td><td>                                               </td><td>5000 to 19,999</td><td>York Teaching Hospital Nhs Foundation Trust</td><td>0</td><td>2020/03/31 00:00:00</td><td>2020/02/21 14:19:27</td><td> 66.8</td></tr>\n",
              "\t<tr><td>YORKARE HOMES LIMITED                      </td><td>17644</td><td>Brantingham Thorpe Hall Thorpe Drive, Brantingham, Brough, England, HU15 1QG                 </td><td>HU15 1QG</td><td>04755842</td><td>87100                        </td><td>  1.0</td><td>  0.0</td><td>    NA</td><td>    NA</td><td>⋯</td><td> 6.0</td><td>94.0</td><td>https://yorkarehomes.co.uk                                                                                                                                </td><td>Elizabeth Garton (Director)                    </td><td>250 to 499    </td><td>YORKARE HOMES LIMITED                      </td><td>0</td><td>2020/04/05 00:00:00</td><td>2020/01/20 11:37:08</td><td>  2.0</td></tr>\n",
              "\t<tr><td>Yorkshire Ambulance Service Nhs Trust      </td><td>14030</td><td>Springhill 2, Brindley Way, Wakefield 41 Business Park, Wakefield, WF2 0XQ                   </td><td>WF2 0XQ </td><td>        </td><td>1,\n",
              "86210                    </td><td>  5.2</td><td>  4.6</td><td>  15.9</td><td>   0.0</td><td>⋯</td><td>56.9</td><td>43.1</td><td>https://www.yas.nhs.uk/publications/gender-pay-gap-report/                                                                                                </td><td>                                               </td><td>5000 to 19,999</td><td>Yorkshire Ambulance Service Nhs Trust      </td><td>0</td><td>2020/03/31 00:00:00</td><td>2020/03/26 13:27:33</td><td> 10.4</td></tr>\n",
              "\t<tr><td>Yorkshire Building Society                 </td><td>14480</td><td>Yorkshire House, Yorkshire Drive, Bradford, BD5 8LJ                                          </td><td>BD5 8LJ </td><td>MUT00001</td><td>64192                        </td><td> 30.5</td><td> 27.9</td><td>  47.9</td><td>  34.1</td><td>⋯</td><td>56.2</td><td>43.8</td><td>https://www.ybs.co.uk/your-society/inside-your-society/corporate-governance/policies/gender-pay-gap.html                                                  </td><td>Stephen White (Chief Operating Officer)        </td><td>1000 to 4999  </td><td>Yorkshire Building Society                 </td><td>0</td><td>2020/04/05 00:00:00</td><td>2019/12/19 06:06:39</td><td> 61.0</td></tr>\n",
              "\t<tr><td>YORKSHIRE CAUSEWAY SCHOOLS TRUST           </td><td>14031</td><td>St Aidan's Church Of England High School, Oatlands Drive, Harrogate, North Yorkshire, HG2 8JR</td><td>HG2 8JR </td><td>07663935</td><td>85200,\n",
              "85310                </td><td> 29.0</td><td> 54.0</td><td>    NA</td><td>    NA</td><td>⋯</td><td>34.0</td><td>66.0</td><td>http://yorkshirecauseway.co.uk/policies/                                                                                                                  </td><td>                                               </td><td>500 to 999    </td><td>YORKSHIRE CAUSEWAY SCHOOLS TRUST           </td><td>0</td><td>2020/03/31 00:00:00</td><td>2020/01/21 14:30:20</td><td> 58.0</td></tr>\n",
              "\t<tr><td>YORKSHIRE HOUSING LIMITED                  </td><td>  372</td><td>Dysons Chambers, 12-14 Briggate, Leeds, United Kingdom, LS1 6ER                              </td><td>LS1 6ER </td><td>IP030443</td><td>                             </td><td>  9.5</td><td> 14.7</td><td>  -1.8</td><td> -12.5</td><td>⋯</td><td>65.0</td><td>35.0</td><td>                                                                                                                                                          </td><td>Nick Atkin (Chief Executive)                   </td><td>500 to 999    </td><td>YORKSHIRE HOUSING LIMITED                  </td><td>0</td><td>2020/04/05 00:00:00</td><td>2020/02/28 08:47:47</td><td> 19.0</td></tr>\n",
              "\t<tr><td>YORKSHIRE TIGER LIMITED                    </td><td>14034</td><td>ARRIVA PLC, 1 Admiral Way, Doxford International Business Park, Sunderland, SR3 3XP          </td><td>SR3 3XP </td><td>04166041</td><td>49390                        </td><td> -2.9</td><td>  0.2</td><td> -25.5</td><td>   0.0</td><td>⋯</td><td>89.1</td><td>10.9</td><td>https://www.arriva.co.uk/~/media/Files/A/Arriva-Corporate-V2/documents/arriva-uks-2019-gender-pay-gap-report.pdf                                          </td><td>Alison O'Connor (Director of Corporate Affairs)</td><td>500 to 999    </td><td>YORKSHIRE TIGER LIMITED                    </td><td>0</td><td>2020/04/05 00:00:00</td><td>2020/03/04 10:43:31</td><td> -5.8</td></tr>\n",
              "\t<tr><td>YORKSHIRE WATER SERVICES LIMITED           </td><td>15780</td><td>Western House, Halifax Road, Bradford, West Yorkshire, BD6 2SZ                               </td><td>BD6 2SZ </td><td>02366682</td><td>36000                        </td><td>  1.5</td><td>  0.1</td><td>  13.6</td><td>   5.7</td><td>⋯</td><td>78.5</td><td>21.5</td><td>https://www.yorkshirewater.com/careers/working-for-yorkshire-water/diversity-inclusion/                                                                   </td><td>Liz Barber (Chief Executive Officer)           </td><td>1000 to 4999  </td><td>YORKSHIRE WATER SERVICES LIMITED           </td><td>0</td><td>2020/04/05 00:00:00</td><td>2020/04/02 08:00:46</td><td>  3.0</td></tr>\n",
              "\t<tr><td>YORWASTE LIMITED                           </td><td>17551</td><td>Mount View, Standard Way, Northallerton, North Yorkshire, DL6 2YD                            </td><td>DL6 2YD </td><td>02666908</td><td>38110,\n",
              "38210,\n",
              "38320        </td><td> -0.6</td><td> -2.4</td><td>-210.3</td><td>-377.0</td><td>⋯</td><td>72.5</td><td>27.5</td><td>                                                                                                                                                          </td><td>Alexander Boyle (MD)                           </td><td>250 to 499    </td><td>YORWASTE LIMITED                           </td><td>0</td><td>2020/04/05 00:00:00</td><td>2021/03/24 16:48:43</td><td> -1.2</td></tr>\n",
              "\t<tr><td>YOUGOV PLC                                 </td><td>14035</td><td>50 Featherstone Street, London, EC1Y 8RT                                                     </td><td>EC1Y 8RT</td><td>03607311</td><td>73200                        </td><td> 23.0</td><td> 25.0</td><td>  51.0</td><td>  39.0</td><td>⋯</td><td>77.0</td><td>23.0</td><td>https://corporate.yougov.com/governance/uk-gender-pay-gap-reporting/                                                                                      </td><td>Stephan Shakespeare (CEO)                      </td><td>250 to 499    </td><td>YOUGOV PLC                                 </td><td>0</td><td>2020/04/05 00:00:00</td><td>2020/05/01 14:41:42</td><td> 46.0</td></tr>\n",
              "\t<tr><td><span style=white-space:pre-wrap>YOUNG &amp; CO'S BREWERY PLC                   </span></td><td>14036</td><td><span style=white-space:pre-wrap>Copper House, 5 Garratt Lane, Wandsworth, London, SW18 4AQ                                   </span></td><td>SW18 4AQ</td><td>00032762</td><td><span style=white-space:pre-wrap>55100,\n",
              "56302                </span></td><td><span style=white-space:pre-wrap>  9.6</span></td><td><span style=white-space:pre-wrap>  6.8</span></td><td><span style=white-space:pre-wrap>  24.6</span></td><td><span style=white-space:pre-wrap>   8.3</span></td><td>⋯</td><td>70.5</td><td>29.5</td><td><span style=white-space:pre-wrap>https://www.youngs.co.uk/youngs/uploads/sites/2/2020/03/Youngs-gender-pay-gap-2020.pdf                                                                    </span></td><td><span style=white-space:pre-wrap>Patrick Dardis (Chief Executive)               </span></td><td><span style=white-space:pre-wrap>1000 to 4999  </span></td><td><span style=white-space:pre-wrap>YOUNG &amp; CO'S BREWERY PLC                   </span></td><td>0</td><td>2020/04/05 00:00:00</td><td>2020/03/20 16:08:39</td><td> 19.2</td></tr>\n",
              "\t<tr><td>YOUNG'S SEAFOOD LIMITED                    </td><td>  606</td><td>Young's House, Wickham Road, Grimsby, England, DN31 3SW                                      </td><td>DN31 3SW</td><td>03751665</td><td>10200                        </td><td> 19.0</td><td>  6.0</td><td>  59.0</td><td>  26.0</td><td>⋯</td><td>68.0</td><td>32.0</td><td>https://youngsseafood.co.uk/youngs-gender-pay-gap-report/                                                                                                 </td><td>Dominic Kerrigan (HR Director)                 </td><td>1000 to 4999  </td><td>YOUNG'S SEAFOOD LIMITED                    </td><td>0</td><td>2020/04/05 00:00:00</td><td>2020/03/19 11:25:18</td><td> 38.0</td></tr>\n",
              "\t<tr><td><span style=white-space:pre-wrap>YOUR HOMES NEWCASTLE LIMITED               </span></td><td>14040</td><td><span style=white-space:pre-wrap>Civic Centre, Barras Bridge, Newcastle Upon Tyne, Tyne &amp; Wear, NE1 8PR                       </span></td><td>NE1 8PR </td><td>05076256</td><td><span style=white-space:pre-wrap>68201                        </span></td><td> -5.6</td><td>-17.1</td><td><span style=white-space:pre-wrap>    NA</span></td><td><span style=white-space:pre-wrap>    NA</span></td><td>⋯</td><td>47.0</td><td>53.0</td><td><span style=white-space:pre-wrap>                                                                                                                                                          </span></td><td><span style=white-space:pre-wrap>Christina Drury (YHN Managing Director)        </span></td><td><span style=white-space:pre-wrap>500 to 999    </span></td><td><span style=white-space:pre-wrap>YOUR HOMES NEWCASTLE LIMITED               </span></td><td>0</td><td>2020/04/05 00:00:00</td><td>2019/07/23 10:41:53</td><td>-11.2</td></tr>\n",
              "\t<tr><td>YOUR LEISURE KENT LIMITED                  </td><td>14105</td><td>Northdown House, Northdown Park Road, Margate, CT9 3TP                                       </td><td>CT9 3TP </td><td>IP28889R</td><td>                             </td><td>-12.1</td><td> -0.4</td><td>    NA</td><td>    NA</td><td>⋯</td><td>31.0</td><td>69.0</td><td>                                                                                                                                                          </td><td>Debbie Barker (HR Manager)                     </td><td>500 to 999    </td><td>YOUR LEISURE KENT LIMITED                  </td><td>0</td><td>2020/04/05 00:00:00</td><td>2019/12/02 08:09:30</td><td>-24.2</td></tr>\n",
              "\t<tr><td>YOUR-MOVE.CO.UK LIMITED                    </td><td>14043</td><td>Newcastle House Albany Court, Newcastle Business Park, Newcastle Upon Tyne, NE4 7YB          </td><td>NE4 7YB </td><td>01864469</td><td>68310                        </td><td> 22.7</td><td> 16.9</td><td>  47.9</td><td>  37.1</td><td>⋯</td><td>54.9</td><td>45.1</td><td>https://d3qd5ly540y1aa.cloudfront.net/your-move/uploads/media_file/Your-Move-Gender-Pay-Gap-Report-2019-Final.pdf                                         </td><td>Helen Buck (Executive Director, Estate Agency) </td><td>500 to 999    </td><td>YOUR-MOVE.CO.UK LIMITED                    </td><td>0</td><td>2020/04/05 00:00:00</td><td>2020/04/06 16:56:43</td><td> 45.4</td></tr>\n",
              "\t<tr><td>YOURLIFE MANAGEMENT SERVICES LIMITED       </td><td>14042</td><td>Fourth Floor, 100 Holdenhurst Road, Bournemouth, Dorset, BH8 8AQ                             </td><td>BH8 8AQ </td><td>07153519</td><td>68320,\n",
              "96090                </td><td> 18.5</td><td>  3.9</td><td>  50.0</td><td>  26.9</td><td>⋯</td><td>14.1</td><td>85.9</td><td>https://www.mccarthyandstonegroup.co.uk/making-a-difference/gender-pay-gap-report-2019                                                                    </td><td>Paula Jordan (Group HR Director)               </td><td>1000 to 4999  </td><td>YOURLIFE MANAGEMENT SERVICES LIMITED       </td><td>0</td><td>2020/04/05 00:00:00</td><td>2020/07/01 11:23:55</td><td> 37.0</td></tr>\n",
              "\t<tr><td>YOURS CLOTHING LIMITED                     </td><td>14044</td><td>Newcombe House, Bakewell Road, Orton Southgate, Peterborough, United Kingdom, PE2 6XU        </td><td>PE2 6XU </td><td>02886196</td><td>47710                        </td><td> 59.0</td><td> 57.0</td><td>  88.0</td><td>  73.0</td><td>⋯</td><td>11.2</td><td>88.8</td><td>https://www.yoursclothing.co.uk/gender-pay-gap                                                                                                            </td><td>Anna Heather (Finance Director)                </td><td>1000 to 4999  </td><td>YOURS CLOTHING LIMITED                     </td><td>0</td><td>2020/04/05 00:00:00</td><td>2020/04/28 15:59:05</td><td>118.0</td></tr>\n",
              "\t<tr><td>YPO                                        </td><td>15098</td><td>Kenmore Rd, 41 Industrial Estate, Wakefield, WF2 0XE                                         </td><td>WF2 0XE </td><td>        </td><td>1                            </td><td> -5.1</td><td>-10.0</td><td>  12.8</td><td>   0.0</td><td>⋯</td><td>44.6</td><td>55.4</td><td>https://www.ypo.co.uk/-/media/about-ypo/governance/2020-documents/gender-pay-gap-2020_website.ashx?la=en                                                  </td><td>                                               </td><td>500 to 999    </td><td>YPO                                        </td><td>0</td><td>2020/03/31 00:00:00</td><td>2020/03/12 11:02:47</td><td>-10.2</td></tr>\n",
              "\t<tr><td>YUSEN LOGISTICS (UK) LIMITED               </td><td>14051</td><td>Grange Park 1, Cheaney Drive, Grange Park, Northampton, NN4 5FB                              </td><td>NN4 5FB </td><td>02548297</td><td>49410,\n",
              "50200,\n",
              "51210,\n",
              "52103</td><td>  4.7</td><td> -2.1</td><td> -86.4</td><td>   0.0</td><td>⋯</td><td>71.0</td><td>29.0</td><td>                                                                                                                                                          </td><td>Suzanne Mercer (HR Director)                   </td><td>1000 to 4999  </td><td>YUSEN LOGISTICS (UK) LIMITED               </td><td>0</td><td>2020/04/05 00:00:00</td><td>2020/03/30 10:19:10</td><td>  9.4</td></tr>\n",
              "\t<tr><td>ZAHA HADID LIMITED                         </td><td>14053</td><td>101 Goswell Road, London, United Kingdom, EC1V 7EZ                                           </td><td>EC1V 7EZ</td><td>03749443</td><td>71111                        </td><td> 20.5</td><td> 22.8</td><td>  72.9</td><td>  45.9</td><td>⋯</td><td>74.2</td><td>25.8</td><td>https://www.zaha-hadid.com/archive/#reports                                                                                                               </td><td>Mouzhan Majidi (CEO)                           </td><td>250 to 499    </td><td>ZAHA HADID LIMITED                         </td><td>0</td><td>2020/04/05 00:00:00</td><td>2020/03/23 14:09:39</td><td> 41.0</td></tr>\n",
              "\t<tr><td>ZEBRA TECHNOLOGIES EUROPE LIMITED          </td><td>  557</td><td>Dukes Meadow, Millboard Road, Bourne End, Buckinghamshire, SL8 5XF                           </td><td>SL8 5XF </td><td>02881068</td><td>62012                        </td><td> 12.4</td><td> 19.1</td><td>  31.1</td><td>  37.7</td><td>⋯</td><td>83.3</td><td>16.7</td><td>https://www.zebra.com/content/dam/zebra_new_ia/en-us/corporate-and-brand/compliance/uk-gender-pay-report.pdf                                              </td><td>Kally Kang-Kersey (VP Human Resources)         </td><td>500 to 999    </td><td>ZEBRA TECHNOLOGIES EUROPE LIMITED          </td><td>0</td><td>2020/04/05 00:00:00</td><td>2020/03/09 15:59:48</td><td> 24.8</td></tr>\n",
              "\t<tr><td>ZELLIS UK LIMITED                          </td><td> 9144</td><td>740 Waterside Drive Aztec West, Almondsbury, Bristol, England, BS32 4UF                      </td><td>BS32 4UF</td><td>01587537</td><td>58290,\n",
              "63110                </td><td> 18.8</td><td> 27.6</td><td>  29.8</td><td>  28.6</td><td>⋯</td><td>63.9</td><td>36.1</td><td>                                                                                                                                                          </td><td>Caroline Drake (Chief People Officer)          </td><td>1000 to 4999  </td><td>ZELLIS UK LIMITED                          </td><td>0</td><td>2020/04/05 00:00:00</td><td>2020/07/10 08:26:03</td><td> 37.6</td></tr>\n",
              "\t<tr><td><span style=white-space:pre-wrap>ZEN INTERNET LIMITED                       </span></td><td>14058</td><td><span style=white-space:pre-wrap>Sandbrook House Sandbrook Park, Sandbrook Way, Rochdale, Lancashire, OL11 1RY                </span></td><td>OL11 1RY</td><td>03101568</td><td><span style=white-space:pre-wrap>61100                        </span></td><td> 21.9</td><td> 18.7</td><td><span style=white-space:pre-wrap>  66.0</span></td><td><span style=white-space:pre-wrap>  60.0</span></td><td>⋯</td><td>85.9</td><td>14.1</td><td><span style=white-space:pre-wrap>https://www.zen.co.uk/resources/docs/default-source/document-library/global-documents/zen-gender-pay-gap-report-2019.pdf?sfvrsn=9f741c65_4                </span></td><td><span style=white-space:pre-wrap>Richard Tang (Founder &amp; Chairman)              </span></td><td><span style=white-space:pre-wrap>500 to 999    </span></td><td><span style=white-space:pre-wrap>ZEN INTERNET LIMITED                       </span></td><td>0</td><td>2020/04/05 00:00:00</td><td>2019/07/30 11:18:45</td><td> 43.8</td></tr>\n",
              "\t<tr><td>ZENITH VEHICLE CONTRACTS LIMITED           </td><td>14062</td><td>Number One, Great Exhibition Way, Kirkstall Forge, Leeds, United Kingdom, LS5 3BF            </td><td>LS5 3BF </td><td>02267701</td><td>77110                        </td><td> 19.3</td><td>  8.8</td><td>  11.9</td><td>  12.3</td><td>⋯</td><td>59.8</td><td>40.2</td><td>https://www.zenith.co.uk/gender-pay-gap/                                                                                                                  </td><td>Marisa Waddington (HR Director)                </td><td>250 to 499    </td><td>ZENITH VEHICLE CONTRACTS LIMITED           </td><td>0</td><td>2020/04/05 00:00:00</td><td>2020/04/03 09:43:25</td><td> 38.6</td></tr>\n",
              "\t<tr><td>ZF SERVICES UK LIMITED                     </td><td>19391</td><td>Abbeyfield Road, Lenton, Nottingham, NG7 2SX                                                 </td><td>NG7 2SX </td><td>01137722</td><td>45310                        </td><td>  7.6</td><td> 11.3</td><td>  23.6</td><td>  11.3</td><td>⋯</td><td>87.5</td><td>12.5</td><td>https://www.zf.com/mobile/en/company/company_profile_zf/locations_worldwide/europe/greatbritain_locations/great_britain_zfworldwide.html                  </td><td>Christopher Adcock (Managing Director)         </td><td>250 to 499    </td><td>ZF SERVICES UK LIMITED                     </td><td>0</td><td>2020/04/05 00:00:00</td><td>2020/02/04 08:47:44</td><td> 15.2</td></tr>\n",
              "\t<tr><td>ZING LEISURE LIMITED                       </td><td>14068</td><td>5 New Street Square, London, United Kingdom, EC4A 3TW                                        </td><td>EC4A 3TW</td><td>05175354</td><td>56102                        </td><td> 10.0</td><td>  0.2</td><td>  31.9</td><td>   0.0</td><td>⋯</td><td>57.1</td><td>42.9</td><td>                                                                                                                                                          </td><td>Timothy Doubleday (CFO)                        </td><td>250 to 499    </td><td>ZING LEISURE LIMITED                       </td><td>0</td><td>2020/04/05 00:00:00</td><td>2021/08/18 09:29:16</td><td> 20.0</td></tr>\n",
              "\t<tr><td>ZOPA LIMITED                               </td><td>18767</td><td>Frobisher House, Southbrook Road, Southampton, England, SO15 1GX                             </td><td>SO15 1GX</td><td>05197592</td><td>64929                        </td><td> 25.5</td><td> 38.8</td><td>  40.5</td><td>  50.0</td><td>⋯</td><td>82.0</td><td>18.0</td><td>https://blog.zopa.com/2019/09/30/gender-diversity-at-zopa/                                                                                                </td><td>Jaidev Janardana (CEO)                         </td><td>250 to 499    </td><td>PLATA FINANCE LIMITED                      </td><td>0</td><td>2020/04/05 00:00:00</td><td>2020/02/27 13:32:25</td><td> 51.0</td></tr>\n",
              "\t<tr><td>ZOTEFOAMS PLC                              </td><td>14074</td><td>675 Mitcham Road, Croydon, CR9 3AL                                                           </td><td>CR9 3AL </td><td>02714645</td><td>22290,\n",
              "70100                </td><td>  3.8</td><td> -2.7</td><td>  20.7</td><td>   8.6</td><td>⋯</td><td>84.2</td><td>15.8</td><td>                                                                                                                                                          </td><td>Jill Breingan (HR Director)                    </td><td>250 to 499    </td><td>ZOTEFOAMS PLC                              </td><td>0</td><td>2020/04/05 00:00:00</td><td>2020/05/04 16:05:24</td><td>  7.6</td></tr>\n",
              "\t<tr><td><span style=white-space:pre-wrap>ZURICH EMPLOYMENT SERVICES LIMITED         </span></td><td>14076</td><td><span style=white-space:pre-wrap>Unity Place, 1 Carfax Close, Swindon, Wiltshire, United Kingdom, SN1 1AP                     </span></td><td>SN1 1AP </td><td>00243883</td><td><span style=white-space:pre-wrap>78300,\n",
              "82990                </span></td><td> 23.4</td><td> 27.6</td><td><span style=white-space:pre-wrap>  48.8</span></td><td><span style=white-space:pre-wrap>  49.9</span></td><td>⋯</td><td>70.3</td><td>29.7</td><td>https://www.zurich.co.uk/-/media/project/zwp/united-kingdom/docs/about-us/cr/zurich-uk-gender-pay-gap-2019.pdf?la=en&amp;hash=B63A743DC6127FCD767B739EA2A1DCEB</td><td><span style=white-space:pre-wrap>Steve Collinson (Head of The People Team)      </span></td><td><span style=white-space:pre-wrap>1000 to 4999  </span></td><td><span style=white-space:pre-wrap>ZURICH EMPLOYMENT SERVICES LIMITED         </span></td><td>0</td><td>2020/04/05 00:00:00</td><td>2020/04/09 12:19:18</td><td> 46.8</td></tr>\n",
              "\t<tr><td><span style=white-space:pre-wrap>ZURICH UK GENERAL SERVICES LIMITED         </span></td><td>14078</td><td><span style=white-space:pre-wrap>The Zurich Centre 3000 Parkway, Whiteley, Fareham, Hampshire, PO15 7JZ                       </span></td><td>PO15 7JZ</td><td>03843124</td><td><span style=white-space:pre-wrap>82990                        </span></td><td> 21.5</td><td> 21.9</td><td><span style=white-space:pre-wrap>  54.0</span></td><td><span style=white-space:pre-wrap>  36.3</span></td><td>⋯</td><td>70.0</td><td>30.0</td><td>https://www.zurich.co.uk/-/media/project/zwp/united-kingdom/docs/about-us/cr/zurich-uk-gender-pay-gap-2019.pdf?la=en&amp;hash=B63A743DC6127FCD767B739EA2A1DCEB</td><td><span style=white-space:pre-wrap>Steve Collinson (Head of The People Team)      </span></td><td><span style=white-space:pre-wrap>1000 to 4999  </span></td><td><span style=white-space:pre-wrap>ZURICH UK GENERAL SERVICES LIMITED         </span></td><td>0</td><td>2020/04/05 00:00:00</td><td>2020/04/09 12:24:11</td><td> 43.0</td></tr>\n",
              "</tbody>\n",
              "</table>\n"
            ],
            "text/markdown": "\nA data.frame: 6921 × 28\n\n| EmployerName &lt;chr&gt; | EmployerId &lt;int&gt; | Address &lt;chr&gt; | PostCode &lt;chr&gt; | compnum &lt;chr&gt; | SicCodes &lt;chr&gt; | DiffMeanHourlyPercent &lt;dbl&gt; | DiffMedianHourlyPercent &lt;dbl&gt; | DiffMeanBonusPercent &lt;dbl&gt; | DiffMedianBonusPercent &lt;dbl&gt; | ⋯ ⋯ | MaleTopQuartile &lt;dbl&gt; | FemaleTopQuartile &lt;dbl&gt; | CompanyLinkToGPGInfo &lt;chr&gt; | responsible_person &lt;chr&gt; | EmployerSize &lt;chr&gt; | CurrentName &lt;chr&gt; | SubmittedAfterTheDeadline &lt;chr&gt; | DueDate &lt;chr&gt; | DateSubmitted &lt;chr&gt; | twicediffmeanhourlyprecent &lt;dbl&gt; |\n|---|---|---|---|---|---|---|---|---|---|---|---|---|---|---|---|---|---|---|---|---|\n| 'PRIFYSGOL ABERYSTWYTH' AND 'ABERYSTWYTH UNIVERSITY' | 19070 | Aberystwyth University, Penglais, Ceredigion, SY23 3FL                                                       | SY23 3FL | RC000641 | <!----> | 11.5 | 10.3 |     NA |     NA | ⋯ | 62.0 | 38.0 | https://www.aber.ac.uk/en/equality/genderpaygapreporting2019/ \n\nhttps://www.aber.ac.uk/cy/equality/gender-pay-gap/                                           | Elizabeth Treasure (Vice-Chancellor)                  | 1000 to 4999   | 'PRIFYSGOL ABERYSTWYTH' AND 'ABERYSTWYTH UNIVERSITY' | 0 | 2020/04/05 00:00:00 | 2020/04/03 14:47:45 | 23.0 |\n| 10 TRINITY SQUARE HOTEL LIMITED                      | 19455 | 5 Market Yard Mews, 194-204 Bermondsey Street, London, United Kingdom, SE1 3TQ                               | SE1 3TQ  | 08064685 | 82990                         |  8.7 | 10.3 |   29.6 |   54.5 | ⋯ | 66.7 | 33.3 | <!----> | Linda Stigter (Director of People and Culture)        | 250 to 499     | 10 TRINITY SQUARE HOTEL LIMITED                      | 0 | 2020/04/05 00:00:00 | 2020/03/19 15:51:20 | 17.4 |\n| 1LIFE MANAGEMENT SOLUTIONS LIMITED                   |   687 | Ldh House St Ives Business Park, Parsons Green, St. Ives, Cambridgeshire, PE27 4AA                           | PE27 4AA | 02566586 | 93110,\n93130,\n93290         | 11.0 | -0.5 |   81.5 |   94.2 | ⋯ | 44.2 | 55.8 | https://www.1life.co.uk/gender-pay-gap                                                                                                                         | Mark Braithwaite (Managing Director)                  | 250 to 499     | 1LIFE MANAGEMENT SOLUTIONS LIMITED                   | 0 | 2020/04/05 00:00:00 | 2020/03/10 17:03:17 | 22.0 |\n| 1ST CHOICE STAFF RECRUITMENT LIMITED                 | 18136 | 1ST CHOICE RECRUITMENT, 8 St. Loyes Street, Bedford, MK40 1EP                                                | MK40 1EP | 07972006 | 78109                         | -2.3 |  0.0 | -114.8 | -249.3 | ⋯ | 50.0 | 50.0 | https://www.1stchoice.net/gender-pay-gap-report-2019/                                                                                                          | Gill Knight (MD)                                      | 250 to 499     | 1ST CHOICE STAFF RECRUITMENT LIMITED                 | 0 | 2020/04/05 00:00:00 | 2020/01/24 09:37:01 | -4.6 |\n| 1ST HOME CARE LTD.                                   | 17484 | Real Life Options, 35 East Port, Dunfermline, Fife, Scotland, KY12 7LG                                       | KY12 7LG | SC272838 | 86900,\n88100                 | -2.0 |  0.5 |     NA |     NA | ⋯ |  9.0 | 91.0 | https://reallifeoptions.org/                                                                                                                                   | Ian Hardcastle (Chief Operating Officer)              | 250 to 499     | 1ST HOME CARE LTD.                                   | 0 | 2020/04/05 00:00:00 | 2020/03/12 08:21:06 | -4.0 |\n| 2 SISTERS FOOD GROUP LIMITED                         |    77 | Trinity Park House Trinity Business Park, Fox Way, Wakefield, West Yorkshire, WF2 8EE                        | WF2 8EE  | 02826929 | 10120                         | 25.0 |  7.3 |   65.0 |    7.6 | ⋯ | 65.9 | 34.1 | https://www.2sfg.com/PDF/2sfg-GenderPay-2020.pdf                                                                                                               | Lee Greenbury (Group Director of People &amp; Compliance) | 1000 to 4999   | 2 SISTERS FOOD GROUP LIMITED                         | 0 | 2020/04/05 00:00:00 | 2021/09/30 12:54:30 | 50.0 |\n| 23.5 DEGREES LIMITED                                 |   694 | Unit 3 Hedge End Retail Park, Charles Watts Way, Hedge End, Southampton, Hampshire, England, SO30 4RT        | SO30 4RT | 08014079 | 56103                         | 10.0 |  0.0 |   79.0 |   35.0 | ⋯ | 31.0 | 69.0 | https://www.23-5degrees.com/gender-pay-gap                                                                                                                     | Luca Contardo (CFO)                                   | 500 to 999     | 23.5 DEGREES LIMITED                                 | 0 | 2020/04/05 00:00:00 | 2019/11/11 15:33:45 | 20.0 |\n| 24 X 7 LTD.                                          |   695 | Little Easton Manor Park Road, Little Easton, Dunmow, Essex, England, CM6 2JN                                | CM6 2JN  | 04142000 | 52290                         |  0.2 |  0.0 |     NA |     NA | ⋯ | 44.0 | 56.0 | <!----> | lisa hyem (fd)                                        | 1000 to 4999   | 24 X 7 LTD.                                          | 0 | 2020/04/05 00:00:00 | 2021/10/12 09:31:56 |  0.4 |\n| 24-7 EMPLOYMENT SOLUTIONS LIMITED                    | 17921 | 198 Parrock Street, Gravesend, England, DA12 1EW                                                             | DA12 1EW | 07431144 | 78200                         |  0.0 |  0.0 |     NA |     NA | ⋯ | 53.3 | 46.7 | http://www.247esl.co.uk/gender-pay-gap/                                                                                                                        | Riju Sharma Adhikari (Director)                       | Less than 250  | 24-7 EMPLOYMENT SOLUTIONS LIMITED                    | 0 | 2020/04/05 00:00:00 | 2020/04/06 15:24:41 |  0.0 |\n| 2GETHER SUPPORT SOLUTIONS LIMITED                    | 19676 | Management Offices William Harvey Hospital, Kennington Road, Willesborough, Ashford, Kent, England, TN24 0LZ | TN24 0LZ | 11385580 | 81100                         |  3.7 |  0.0 |     NA |     NA | ⋯ | 53.5 | 46.5 | https://2gethersupportsolutions.org/about-us/                                                                                                                  | Finbarr Murray (Managing Director)                    | 1000 to 4999   | 2GETHER SUPPORT SOLUTIONS LIMITED                    | 0 | 2020/04/05 00:00:00 | 2020/03/24 14:58:53 |  7.4 |\n| 3 WAY CLEANING LIMITED                               | 17503 | Unit 7 Capstan Centre,, Thurrock Park Way, Tilbury, Essex, RM18 7HH                                          | RM18 7HH | 03457928 | 81210                         |  1.1 |  0.0 |    0.0 |    0.0 | ⋯ | 38.9 | 61.1 | <!----> | Sue Hawkins (Finance Manager)                         | 250 to 499     | 3 WAY CLEANING LIMITED                               | 0 | 2020/04/05 00:00:00 | 2021/07/01 08:25:27 |  2.2 |\n| 3663 TRANSPORT LIMITED                               |   697 | 814 Leigh Road, Slough, England, SL1 4BD                                                                     | SL1 4BD  | 00456846 | 52290                         |  1.4 |  7.1 |   47.4 |   52.5 | ⋯ | 96.0 |  4.0 | https://www.bidfood.co.uk/gender-pay-gap-reports/                                                                                                              | Heather Angus (HR &amp; Sustainability Director)          | 1000 to 4999   | 3663 TRANSPORT LIMITED                               | 0 | 2020/04/05 00:00:00 | 2020/05/14 16:07:39 |  2.8 |\n| 3M UNITED KINGDOM PUBLIC LIMITED COMPANY             |   293 | 3m Centre, Cain Road, Bracknell, Berkshire, RG12 8HT                                                         | RG12 8HT | 01123045 | 20301,\n23910,\n32990         | 10.0 |  8.0 |   18.0 |   28.0 | ⋯ | 71.0 | 29.0 | <!----> | Katherine Parks (PR&amp; I Leader, North Europe)          | 1000 to 4999   | 3M UNITED KINGDOM PUBLIC LIMITED COMPANY             | 0 | 2020/04/05 00:00:00 | 2020/03/17 13:02:54 | 20.0 |\n| 46 BERKELEY SQUARE LTD                               | 19122 | 26-28 Conway Street, London, England, W1T 6BQ                                                                | W1T 6BQ  | 09497091 | 94990                         |  5.8 |  9.5 |   40.0 |   23.4 | ⋯ | 84.0 | 16.0 | <!----> | Alyson Park (HR Director)                             | 250 to 499     | 46 BERKELEY SQUARE LTD                               | 0 | 2020/04/05 00:00:00 | 2020/04/02 10:43:02 | 11.6 |\n| 8X8 UK LIMITED                                       | 19714 | Oxford House, Bell Business Park, Smeaton Close, Aylesbury, Buckinghamshire, HP19 8JR                        | HP19 8JR | 05083841 | 62020                         | 26.0 | 35.0 |   46.0 |   63.0 | ⋯ | 64.0 | 36.0 | https://assets.contentstack.io/v3/assets/blt4f29123a87c48c8b/blt7e149900887ac409/5e870542ca20f06480e5f157/8X8_uk_gender_pay_report_2020.pdf?disposition=inline | Anthony Shore (Senior Manager; Human Resources)       | 250 to 499     | 8X8 UK LIMITED                                       | 0 | 2020/04/05 00:00:00 | 2020/04/03 16:08:58 | 52.0 |\n| A B GRAPHIC INTERNATIONAL LIMITED                    | 19166 | Celebration House, Stanley, Street, Burton-On-Trent, Staffordshire, DE14 1DY                                 | DE14 1DY | 00538043 | 28290                         | 13.5 | 14.8 |   77.7 |  -15.4 | ⋯ | 95.0 |  5.0 | https://abgint.com/gender-pay-reporting                                                                                                                        | Richard Knight (CEO)                                  | 250 to 499     | A B GRAPHIC INTERNATIONAL LIMITED                    | 0 | 2020/04/05 00:00:00 | 2020/03/30 14:28:05 | 27.0 |\n| A H WORTH LIMITED                                    |   430 | Fleet Estate Office, Manor Farm, Holbeach Hurn, Holbeach, Spalding, Lincolnshire, PE12 8LR                   | PE12 8LR | 02267537 | 10390                         | 12.3 | 10.2 |     NA |     NA | ⋯ | 70.3 | 29.7 | http://ahworth.co.uk                                                                                                                                           | Gill Bartlett (HR Manager)                            | 250 to 499     | A H WORTH LIMITED                                    | 0 | 2020/04/05 00:00:00 | 2020/03/26 14:51:45 | 24.6 |\n| A-DAY CONSULTANTS LIMITED                            | 15592 | Kingston House Towers Business Park, Wilmslow Road, Manchester, England, M20 2LD                             | M20 2LD  | 04493101 | 78109                         | 14.8 | 17.9 |   52.5 |   28.0 | ⋯ | 38.9 | 61.1 | https://www.academicsltd.co.uk/                                                                                                                                | Claire Tyrrell (Group HR Director)                    | 1000 to 4999   | A-DAY CONSULTANTS LIMITED                            | 0 | 2020/04/05 00:00:00 | 2020/03/25 16:19:41 | 29.6 |\n| A-PLAN HOLDINGS                                      |  1330 | 2 Des Roches Square, Witney, Oxfordshire, OX28 4LE                                                           | OX28 4LE | 00750484 | 66220                         | 18.2 |  8.6 |    9.9 |   13.0 | ⋯ | 71.0 | 29.0 | https://www.aplan.co.uk/                                                                                                                                       | Andrew Galbraith (Group Chief Financial Officer)      | 1000 to 4999   | A-PLAN HOLDINGS                                      | 0 | 2020/04/05 00:00:00 | 2020/03/09 09:08:57 | 36.4 |\n| A. &amp; B. GLASS COMPANY LIMITED                        |   729 | Addison Road, Chilton Industrial Estate, Sudbury, Suffolk, CO10 2YW                                          | CO10 2YW | 01543721 | 43342                         | 19.0 |  4.0 |   42.0 |   45.0 | ⋯ | 90.0 | 10.0 | <!----> | PHILIP FARNELL (GROUP HR MANAGER)                     | 250 to 499     | A. &amp; B. GLASS COMPANY LIMITED                        | 0 | 2020/04/05 00:00:00 | 2019/05/20 16:34:42 | 38.0 |\n| A. SHARE &amp; SONS LIMITED                              |   124 | 45-49 Villiers Street, Sunderland, SR1 1HA                                                                   | SR1 1HA  | 00323778 | 47530,\n47599                 | 25.0 | 31.0 |   40.0 |   85.0 | ⋯ | 84.0 | 16.0 | https://www.scsplc.co.uk/                                                                                                                                      | Marie Liston (Corporate Services Director)            | 1000 to 4999   | A. SHARE &amp; SONS LIMITED                              | 0 | 2020/04/05 00:00:00 | 2020/06/11 11:19:46 | 50.0 |\n| A.B.M. CATERING LIMITED                              |   733 | Eagle Court, 63-67 Saltisford, Warwick, Warwickshire, CV34 4AF                                               | CV34 4AF | 04168334 | 56290,\n70100                 | 21.7 | 16.5 |  -70.3 |   61.5 | ⋯ | 33.9 | 66.1 | http://www.abmcatering.co.uk/wp-content/uploads/2019/07/Gender-Pay-Gap-Report-2018.pdf                                                                         | Sue Hill (Finance &amp; HR Director - Operations)         | 1000 to 4999   | A.B.M. CATERING LIMITED                              | 0 | 2020/04/05 00:00:00 | 2020/01/29 12:20:31 | 43.4 |\n| A.C. GOATHAM AND SON LIMITED                         | 19074 | Flanders Farm Ratcliffe Highway, Hoo, Rochester, Kent, England, ME3 8QE                                      | ME3 8QE  | 09732369 | 1240                          | 11.7 | 20.3 |   -7.0 | -200.0 | ⋯ | 69.2 | 30.8 | <!----> | Ross Goatham (Managing Director)                      | 250 to 499     | A.C. GOATHAM AND SON LIMITED                         | 0 | 2020/04/05 00:00:00 | 2020/03/09 17:03:00 | 23.4 |\n| A.CLARKE &amp; CO.(SMETHWICK)LIMITED                     |   736 | PO BOX 9837 Station Road, Oldbury, West Midlands, B69 4WD                                                    | B69 4WD  | 00580331 | 49410                         |  3.1 | 21.2 |   69.9 |    0.0 | ⋯ | 91.0 |  9.0 | https://www.clarketransport.co.uk/gender-pay-reports                                                                                                           | Bill Clarke (Commercial Director)                     | 500 to 999     | A.CLARKE &amp; CO.(SMETHWICK)LIMITED                     | 0 | 2020/04/05 00:00:00 | 2021/10/04 15:39:17 |  6.2 |\n| A.F.BLAKEMORE AND SON LIMITED                        |   737 | Long Acres Ind Est, Rosehill, Willenhall, West Midlands, WV13 2JP                                            | WV13 2JP | 00391135 | 46390                         | 18.0 |  6.0 |   52.0 |   53.0 | ⋯ | 73.0 | 27.0 | <!----> | Pamela Watts (Group HR Operations Director)           | 5000 to 19,999 | A.F.BLAKEMORE AND SON LIMITED                        | 0 | 2020/04/05 00:00:00 | 2021/10/03 20:00:58 | 36.0 |\n| A.G. BARR P.L.C.                                     |  1838 | Westfield House, 4 Mollins Road, Cumbernauld, G68 9HD                                                        | G68 9HD  | SC005653 | 11070                         |  2.7 | -7.4 |   42.9 |   -2.5 | ⋯ | 66.0 | 34.0 | https://www.agbarr.co.uk/responsibility/we-act-with-integrity/                                                                                                 | Doug Brown (Head of Human Resources)                  | 500 to 999     | A.G. BARR P.L.C.                                     | 0 | 2020/04/05 00:00:00 | 2021/03/25 16:40:28 |  5.4 |\n| A.J.N. STEELSTOCK LTD.                               | 14835 | Icknield Way, Kentford, Newmarket, Suffolk, CB8 7QT                                                          | CB8 7QT  | 00689647 | 46720                         | 10.3 |  0.0 |  -29.1 |  -16.3 | ⋯ | 87.1 | 12.9 | https://www.ajnsteelstock.co.uk/downloads-resources/                                                                                                           | Courtney Bell (Finance Director)                      | 250 to 499     | A.J.N. STEELSTOCK LTD.                               | 0 | 2020/04/05 00:00:00 | 2020/03/10 12:46:34 | 20.6 |\n| A.W. &amp; D. HAMMOND LIMITED                            | 16958 | Norwich Road, Halesworth, Suffolk, IP19 8BU                                                                  | IP19 8BU | 00989239 | 45111,\n45112,\n45200,\n45310 | 16.6 | 27.9 |   50.3 |   66.0 | ⋯ | 97.0 |  3.0 | https://www.hammondgroup.co.uk/exclusive/aw-and-d-hammond-limiteds-gender-pay-gap-data/67588                                                                   | Victor Maycock (HR Manager)                           | Not Provided   | A.W. &amp; D. HAMMOND LIMITED                            | 0 | 2020/04/05 00:00:00 | 2021/09/27 17:29:33 | 33.2 |\n| A2DOMINION HOUSING GROUP LIMITED                     |   751 | The Point, 37 North Wharf Road, London, United Kingdom, W2 1BD                                               | W2 1BD   | IP28985R | <!----> | 25.4 | 20.3 |   53.1 |    0.0 | ⋯ | 55.1 | 44.9 | https://www.a2dominiongroup.co.uk/content/doclib/60.pdf                                                                                                        | Penny St Martin (Director of HR)                      | 500 to 999     | A2DOMINION HOUSING GROUP LIMITED                     | 0 | 2020/04/05 00:00:00 | 2020/04/03 12:47:00 | 50.8 |\n| AAH PHARMACEUTICALS LIMITED                          |   757 | Sapphire Court, Walsgrave Triangle, Coventry, CV2 2TX                                                        | CV2 2TX  | 00123458 | 21100,\n46460                 | 10.7 | -0.4 |   48.0 |  -28.0 | ⋯ | 61.0 | 39.0 | https://mckesson.uk/wp-content/uploads/2020/03/Gender-Pay-Gap-Report-2019-Final.pdf                                                                            | Jane Davies (HR Director)                             | 1000 to 4999   | AAH PHARMACEUTICALS LIMITED                          | 0 | 2020/04/05 00:00:00 | 2020/03/18 11:11:39 | 21.4 |\n| ⋮ | ⋮ | ⋮ | ⋮ | ⋮ | ⋮ | ⋮ | ⋮ | ⋮ | ⋮ | ⋱ | ⋮ | ⋮ | ⋮ | ⋮ | ⋮ | ⋮ | ⋮ | ⋮ | ⋮ | ⋮ |\n| York Teaching Hospital Nhs Foundation Trust | 14029 | Wigginton Road, York, North Yorkshire, YO31 8HE                                               | YO31 8HE | <!----> | 1,\n86210                     |  33.4 |  18.9 |   94.5 |   33.3 | ⋯ | 33.7 | 66.3 | https://www.yorkhospitals.nhs.uk/seecmsfile/?id=4194                                                                                                       | <!----> | 5000 to 19,999 | York Teaching Hospital Nhs Foundation Trust | 0 | 2020/03/31 00:00:00 | 2020/02/21 14:19:27 |  66.8 |\n| YORKARE HOMES LIMITED                       | 17644 | Brantingham Thorpe Hall Thorpe Drive, Brantingham, Brough, England, HU15 1QG                  | HU15 1QG | 04755842 | 87100                         |   1.0 |   0.0 |     NA |     NA | ⋯ |  6.0 | 94.0 | https://yorkarehomes.co.uk                                                                                                                                 | Elizabeth Garton (Director)                     | 250 to 499     | YORKARE HOMES LIMITED                       | 0 | 2020/04/05 00:00:00 | 2020/01/20 11:37:08 |   2.0 |\n| Yorkshire Ambulance Service Nhs Trust       | 14030 | Springhill 2, Brindley Way, Wakefield 41 Business Park, Wakefield, WF2 0XQ                    | WF2 0XQ  | <!----> | 1,\n86210                     |   5.2 |   4.6 |   15.9 |    0.0 | ⋯ | 56.9 | 43.1 | https://www.yas.nhs.uk/publications/gender-pay-gap-report/                                                                                                 | <!----> | 5000 to 19,999 | Yorkshire Ambulance Service Nhs Trust       | 0 | 2020/03/31 00:00:00 | 2020/03/26 13:27:33 |  10.4 |\n| Yorkshire Building Society                  | 14480 | Yorkshire House, Yorkshire Drive, Bradford, BD5 8LJ                                           | BD5 8LJ  | MUT00001 | 64192                         |  30.5 |  27.9 |   47.9 |   34.1 | ⋯ | 56.2 | 43.8 | https://www.ybs.co.uk/your-society/inside-your-society/corporate-governance/policies/gender-pay-gap.html                                                   | Stephen White (Chief Operating Officer)         | 1000 to 4999   | Yorkshire Building Society                  | 0 | 2020/04/05 00:00:00 | 2019/12/19 06:06:39 |  61.0 |\n| YORKSHIRE CAUSEWAY SCHOOLS TRUST            | 14031 | St Aidan's Church Of England High School, Oatlands Drive, Harrogate, North Yorkshire, HG2 8JR | HG2 8JR  | 07663935 | 85200,\n85310                 |  29.0 |  54.0 |     NA |     NA | ⋯ | 34.0 | 66.0 | http://yorkshirecauseway.co.uk/policies/                                                                                                                   | <!----> | 500 to 999     | YORKSHIRE CAUSEWAY SCHOOLS TRUST            | 0 | 2020/03/31 00:00:00 | 2020/01/21 14:30:20 |  58.0 |\n| YORKSHIRE HOUSING LIMITED                   |   372 | Dysons Chambers, 12-14 Briggate, Leeds, United Kingdom, LS1 6ER                               | LS1 6ER  | IP030443 | <!----> |   9.5 |  14.7 |   -1.8 |  -12.5 | ⋯ | 65.0 | 35.0 | <!----> | Nick Atkin (Chief Executive)                    | 500 to 999     | YORKSHIRE HOUSING LIMITED                   | 0 | 2020/04/05 00:00:00 | 2020/02/28 08:47:47 |  19.0 |\n| YORKSHIRE TIGER LIMITED                     | 14034 | ARRIVA PLC, 1 Admiral Way, Doxford International Business Park, Sunderland, SR3 3XP           | SR3 3XP  | 04166041 | 49390                         |  -2.9 |   0.2 |  -25.5 |    0.0 | ⋯ | 89.1 | 10.9 | https://www.arriva.co.uk/~/media/Files/A/Arriva-Corporate-V2/documents/arriva-uks-2019-gender-pay-gap-report.pdf                                           | Alison O'Connor (Director of Corporate Affairs) | 500 to 999     | YORKSHIRE TIGER LIMITED                     | 0 | 2020/04/05 00:00:00 | 2020/03/04 10:43:31 |  -5.8 |\n| YORKSHIRE WATER SERVICES LIMITED            | 15780 | Western House, Halifax Road, Bradford, West Yorkshire, BD6 2SZ                                | BD6 2SZ  | 02366682 | 36000                         |   1.5 |   0.1 |   13.6 |    5.7 | ⋯ | 78.5 | 21.5 | https://www.yorkshirewater.com/careers/working-for-yorkshire-water/diversity-inclusion/                                                                    | Liz Barber (Chief Executive Officer)            | 1000 to 4999   | YORKSHIRE WATER SERVICES LIMITED            | 0 | 2020/04/05 00:00:00 | 2020/04/02 08:00:46 |   3.0 |\n| YORWASTE LIMITED                            | 17551 | Mount View, Standard Way, Northallerton, North Yorkshire, DL6 2YD                             | DL6 2YD  | 02666908 | 38110,\n38210,\n38320         |  -0.6 |  -2.4 | -210.3 | -377.0 | ⋯ | 72.5 | 27.5 | <!----> | Alexander Boyle (MD)                            | 250 to 499     | YORWASTE LIMITED                            | 0 | 2020/04/05 00:00:00 | 2021/03/24 16:48:43 |  -1.2 |\n| YOUGOV PLC                                  | 14035 | 50 Featherstone Street, London, EC1Y 8RT                                                      | EC1Y 8RT | 03607311 | 73200                         |  23.0 |  25.0 |   51.0 |   39.0 | ⋯ | 77.0 | 23.0 | https://corporate.yougov.com/governance/uk-gender-pay-gap-reporting/                                                                                       | Stephan Shakespeare (CEO)                       | 250 to 499     | YOUGOV PLC                                  | 0 | 2020/04/05 00:00:00 | 2020/05/01 14:41:42 |  46.0 |\n| YOUNG &amp; CO'S BREWERY PLC                    | 14036 | Copper House, 5 Garratt Lane, Wandsworth, London, SW18 4AQ                                    | SW18 4AQ | 00032762 | 55100,\n56302                 |   9.6 |   6.8 |   24.6 |    8.3 | ⋯ | 70.5 | 29.5 | https://www.youngs.co.uk/youngs/uploads/sites/2/2020/03/Youngs-gender-pay-gap-2020.pdf                                                                     | Patrick Dardis (Chief Executive)                | 1000 to 4999   | YOUNG &amp; CO'S BREWERY PLC                    | 0 | 2020/04/05 00:00:00 | 2020/03/20 16:08:39 |  19.2 |\n| YOUNG'S SEAFOOD LIMITED                     |   606 | Young's House, Wickham Road, Grimsby, England, DN31 3SW                                       | DN31 3SW | 03751665 | 10200                         |  19.0 |   6.0 |   59.0 |   26.0 | ⋯ | 68.0 | 32.0 | https://youngsseafood.co.uk/youngs-gender-pay-gap-report/                                                                                                  | Dominic Kerrigan (HR Director)                  | 1000 to 4999   | YOUNG'S SEAFOOD LIMITED                     | 0 | 2020/04/05 00:00:00 | 2020/03/19 11:25:18 |  38.0 |\n| YOUR HOMES NEWCASTLE LIMITED                | 14040 | Civic Centre, Barras Bridge, Newcastle Upon Tyne, Tyne &amp; Wear, NE1 8PR                        | NE1 8PR  | 05076256 | 68201                         |  -5.6 | -17.1 |     NA |     NA | ⋯ | 47.0 | 53.0 | <!----> | Christina Drury (YHN Managing Director)         | 500 to 999     | YOUR HOMES NEWCASTLE LIMITED                | 0 | 2020/04/05 00:00:00 | 2019/07/23 10:41:53 | -11.2 |\n| YOUR LEISURE KENT LIMITED                   | 14105 | Northdown House, Northdown Park Road, Margate, CT9 3TP                                        | CT9 3TP  | IP28889R | <!----> | -12.1 |  -0.4 |     NA |     NA | ⋯ | 31.0 | 69.0 | <!----> | Debbie Barker (HR Manager)                      | 500 to 999     | YOUR LEISURE KENT LIMITED                   | 0 | 2020/04/05 00:00:00 | 2019/12/02 08:09:30 | -24.2 |\n| YOUR-MOVE.CO.UK LIMITED                     | 14043 | Newcastle House Albany Court, Newcastle Business Park, Newcastle Upon Tyne, NE4 7YB           | NE4 7YB  | 01864469 | 68310                         |  22.7 |  16.9 |   47.9 |   37.1 | ⋯ | 54.9 | 45.1 | https://d3qd5ly540y1aa.cloudfront.net/your-move/uploads/media_file/Your-Move-Gender-Pay-Gap-Report-2019-Final.pdf                                          | Helen Buck (Executive Director, Estate Agency)  | 500 to 999     | YOUR-MOVE.CO.UK LIMITED                     | 0 | 2020/04/05 00:00:00 | 2020/04/06 16:56:43 |  45.4 |\n| YOURLIFE MANAGEMENT SERVICES LIMITED        | 14042 | Fourth Floor, 100 Holdenhurst Road, Bournemouth, Dorset, BH8 8AQ                              | BH8 8AQ  | 07153519 | 68320,\n96090                 |  18.5 |   3.9 |   50.0 |   26.9 | ⋯ | 14.1 | 85.9 | https://www.mccarthyandstonegroup.co.uk/making-a-difference/gender-pay-gap-report-2019                                                                     | Paula Jordan (Group HR Director)                | 1000 to 4999   | YOURLIFE MANAGEMENT SERVICES LIMITED        | 0 | 2020/04/05 00:00:00 | 2020/07/01 11:23:55 |  37.0 |\n| YOURS CLOTHING LIMITED                      | 14044 | Newcombe House, Bakewell Road, Orton Southgate, Peterborough, United Kingdom, PE2 6XU         | PE2 6XU  | 02886196 | 47710                         |  59.0 |  57.0 |   88.0 |   73.0 | ⋯ | 11.2 | 88.8 | https://www.yoursclothing.co.uk/gender-pay-gap                                                                                                             | Anna Heather (Finance Director)                 | 1000 to 4999   | YOURS CLOTHING LIMITED                      | 0 | 2020/04/05 00:00:00 | 2020/04/28 15:59:05 | 118.0 |\n| YPO                                         | 15098 | Kenmore Rd, 41 Industrial Estate, Wakefield, WF2 0XE                                          | WF2 0XE  | <!----> | 1                             |  -5.1 | -10.0 |   12.8 |    0.0 | ⋯ | 44.6 | 55.4 | https://www.ypo.co.uk/-/media/about-ypo/governance/2020-documents/gender-pay-gap-2020_website.ashx?la=en                                                   | <!----> | 500 to 999     | YPO                                         | 0 | 2020/03/31 00:00:00 | 2020/03/12 11:02:47 | -10.2 |\n| YUSEN LOGISTICS (UK) LIMITED                | 14051 | Grange Park 1, Cheaney Drive, Grange Park, Northampton, NN4 5FB                               | NN4 5FB  | 02548297 | 49410,\n50200,\n51210,\n52103 |   4.7 |  -2.1 |  -86.4 |    0.0 | ⋯ | 71.0 | 29.0 | <!----> | Suzanne Mercer (HR Director)                    | 1000 to 4999   | YUSEN LOGISTICS (UK) LIMITED                | 0 | 2020/04/05 00:00:00 | 2020/03/30 10:19:10 |   9.4 |\n| ZAHA HADID LIMITED                          | 14053 | 101 Goswell Road, London, United Kingdom, EC1V 7EZ                                            | EC1V 7EZ | 03749443 | 71111                         |  20.5 |  22.8 |   72.9 |   45.9 | ⋯ | 74.2 | 25.8 | https://www.zaha-hadid.com/archive/#reports                                                                                                                | Mouzhan Majidi (CEO)                            | 250 to 499     | ZAHA HADID LIMITED                          | 0 | 2020/04/05 00:00:00 | 2020/03/23 14:09:39 |  41.0 |\n| ZEBRA TECHNOLOGIES EUROPE LIMITED           |   557 | Dukes Meadow, Millboard Road, Bourne End, Buckinghamshire, SL8 5XF                            | SL8 5XF  | 02881068 | 62012                         |  12.4 |  19.1 |   31.1 |   37.7 | ⋯ | 83.3 | 16.7 | https://www.zebra.com/content/dam/zebra_new_ia/en-us/corporate-and-brand/compliance/uk-gender-pay-report.pdf                                               | Kally Kang-Kersey (VP Human Resources)          | 500 to 999     | ZEBRA TECHNOLOGIES EUROPE LIMITED           | 0 | 2020/04/05 00:00:00 | 2020/03/09 15:59:48 |  24.8 |\n| ZELLIS UK LIMITED                           |  9144 | 740 Waterside Drive Aztec West, Almondsbury, Bristol, England, BS32 4UF                       | BS32 4UF | 01587537 | 58290,\n63110                 |  18.8 |  27.6 |   29.8 |   28.6 | ⋯ | 63.9 | 36.1 | <!----> | Caroline Drake (Chief People Officer)           | 1000 to 4999   | ZELLIS UK LIMITED                           | 0 | 2020/04/05 00:00:00 | 2020/07/10 08:26:03 |  37.6 |\n| ZEN INTERNET LIMITED                        | 14058 | Sandbrook House Sandbrook Park, Sandbrook Way, Rochdale, Lancashire, OL11 1RY                 | OL11 1RY | 03101568 | 61100                         |  21.9 |  18.7 |   66.0 |   60.0 | ⋯ | 85.9 | 14.1 | https://www.zen.co.uk/resources/docs/default-source/document-library/global-documents/zen-gender-pay-gap-report-2019.pdf?sfvrsn=9f741c65_4                 | Richard Tang (Founder &amp; Chairman)               | 500 to 999     | ZEN INTERNET LIMITED                        | 0 | 2020/04/05 00:00:00 | 2019/07/30 11:18:45 |  43.8 |\n| ZENITH VEHICLE CONTRACTS LIMITED            | 14062 | Number One, Great Exhibition Way, Kirkstall Forge, Leeds, United Kingdom, LS5 3BF             | LS5 3BF  | 02267701 | 77110                         |  19.3 |   8.8 |   11.9 |   12.3 | ⋯ | 59.8 | 40.2 | https://www.zenith.co.uk/gender-pay-gap/                                                                                                                   | Marisa Waddington (HR Director)                 | 250 to 499     | ZENITH VEHICLE CONTRACTS LIMITED            | 0 | 2020/04/05 00:00:00 | 2020/04/03 09:43:25 |  38.6 |\n| ZF SERVICES UK LIMITED                      | 19391 | Abbeyfield Road, Lenton, Nottingham, NG7 2SX                                                  | NG7 2SX  | 01137722 | 45310                         |   7.6 |  11.3 |   23.6 |   11.3 | ⋯ | 87.5 | 12.5 | https://www.zf.com/mobile/en/company/company_profile_zf/locations_worldwide/europe/greatbritain_locations/great_britain_zfworldwide.html                   | Christopher Adcock (Managing Director)          | 250 to 499     | ZF SERVICES UK LIMITED                      | 0 | 2020/04/05 00:00:00 | 2020/02/04 08:47:44 |  15.2 |\n| ZING LEISURE LIMITED                        | 14068 | 5 New Street Square, London, United Kingdom, EC4A 3TW                                         | EC4A 3TW | 05175354 | 56102                         |  10.0 |   0.2 |   31.9 |    0.0 | ⋯ | 57.1 | 42.9 | <!----> | Timothy Doubleday (CFO)                         | 250 to 499     | ZING LEISURE LIMITED                        | 0 | 2020/04/05 00:00:00 | 2021/08/18 09:29:16 |  20.0 |\n| ZOPA LIMITED                                | 18767 | Frobisher House, Southbrook Road, Southampton, England, SO15 1GX                              | SO15 1GX | 05197592 | 64929                         |  25.5 |  38.8 |   40.5 |   50.0 | ⋯ | 82.0 | 18.0 | https://blog.zopa.com/2019/09/30/gender-diversity-at-zopa/                                                                                                 | Jaidev Janardana (CEO)                          | 250 to 499     | PLATA FINANCE LIMITED                       | 0 | 2020/04/05 00:00:00 | 2020/02/27 13:32:25 |  51.0 |\n| ZOTEFOAMS PLC                               | 14074 | 675 Mitcham Road, Croydon, CR9 3AL                                                            | CR9 3AL  | 02714645 | 22290,\n70100                 |   3.8 |  -2.7 |   20.7 |    8.6 | ⋯ | 84.2 | 15.8 | <!----> | Jill Breingan (HR Director)                     | 250 to 499     | ZOTEFOAMS PLC                               | 0 | 2020/04/05 00:00:00 | 2020/05/04 16:05:24 |   7.6 |\n| ZURICH EMPLOYMENT SERVICES LIMITED          | 14076 | Unity Place, 1 Carfax Close, Swindon, Wiltshire, United Kingdom, SN1 1AP                      | SN1 1AP  | 00243883 | 78300,\n82990                 |  23.4 |  27.6 |   48.8 |   49.9 | ⋯ | 70.3 | 29.7 | https://www.zurich.co.uk/-/media/project/zwp/united-kingdom/docs/about-us/cr/zurich-uk-gender-pay-gap-2019.pdf?la=en&amp;hash=B63A743DC6127FCD767B739EA2A1DCEB | Steve Collinson (Head of The People Team)       | 1000 to 4999   | ZURICH EMPLOYMENT SERVICES LIMITED          | 0 | 2020/04/05 00:00:00 | 2020/04/09 12:19:18 |  46.8 |\n| ZURICH UK GENERAL SERVICES LIMITED          | 14078 | The Zurich Centre 3000 Parkway, Whiteley, Fareham, Hampshire, PO15 7JZ                        | PO15 7JZ | 03843124 | 82990                         |  21.5 |  21.9 |   54.0 |   36.3 | ⋯ | 70.0 | 30.0 | https://www.zurich.co.uk/-/media/project/zwp/united-kingdom/docs/about-us/cr/zurich-uk-gender-pay-gap-2019.pdf?la=en&amp;hash=B63A743DC6127FCD767B739EA2A1DCEB | Steve Collinson (Head of The People Team)       | 1000 to 4999   | ZURICH UK GENERAL SERVICES LIMITED          | 0 | 2020/04/05 00:00:00 | 2020/04/09 12:24:11 |  43.0 |\n\n",
            "text/latex": "A data.frame: 6921 × 28\n\\begin{tabular}{lllllllllllllllllllll}\n EmployerName & EmployerId & Address & PostCode & compnum & SicCodes & DiffMeanHourlyPercent & DiffMedianHourlyPercent & DiffMeanBonusPercent & DiffMedianBonusPercent & ⋯ & MaleTopQuartile & FemaleTopQuartile & CompanyLinkToGPGInfo & responsible\\_person & EmployerSize & CurrentName & SubmittedAfterTheDeadline & DueDate & DateSubmitted & twicediffmeanhourlyprecent\\\\\n <chr> & <int> & <chr> & <chr> & <chr> & <chr> & <dbl> & <dbl> & <dbl> & <dbl> & ⋯ & <dbl> & <dbl> & <chr> & <chr> & <chr> & <chr> & <chr> & <chr> & <chr> & <dbl>\\\\\n\\hline\n\t 'PRIFYSGOL ABERYSTWYTH' AND 'ABERYSTWYTH UNIVERSITY' & 19070 & Aberystwyth University, Penglais, Ceredigion, SY23 3FL                                                       & SY23 3FL & RC000641 &                               & 11.5 & 10.3 &     NA &     NA & ⋯ & 62.0 & 38.0 & https://www.aber.ac.uk/en/equality/genderpaygapreporting2019/ \n\nhttps://www.aber.ac.uk/cy/equality/gender-pay-gap/                                           & Elizabeth Treasure (Vice-Chancellor)                  & 1000 to 4999   & 'PRIFYSGOL ABERYSTWYTH' AND 'ABERYSTWYTH UNIVERSITY' & 0 & 2020/04/05 00:00:00 & 2020/04/03 14:47:45 & 23.0\\\\\n\t 10 TRINITY SQUARE HOTEL LIMITED                      & 19455 & 5 Market Yard Mews, 194-204 Bermondsey Street, London, United Kingdom, SE1 3TQ                               & SE1 3TQ  & 08064685 & 82990                         &  8.7 & 10.3 &   29.6 &   54.5 & ⋯ & 66.7 & 33.3 &                                                                                                                                                                & Linda Stigter (Director of People and Culture)        & 250 to 499     & 10 TRINITY SQUARE HOTEL LIMITED                      & 0 & 2020/04/05 00:00:00 & 2020/03/19 15:51:20 & 17.4\\\\\n\t 1LIFE MANAGEMENT SOLUTIONS LIMITED                   &   687 & Ldh House St Ives Business Park, Parsons Green, St. Ives, Cambridgeshire, PE27 4AA                           & PE27 4AA & 02566586 & 93110,\n93130,\n93290         & 11.0 & -0.5 &   81.5 &   94.2 & ⋯ & 44.2 & 55.8 & https://www.1life.co.uk/gender-pay-gap                                                                                                                         & Mark Braithwaite (Managing Director)                  & 250 to 499     & 1LIFE MANAGEMENT SOLUTIONS LIMITED                   & 0 & 2020/04/05 00:00:00 & 2020/03/10 17:03:17 & 22.0\\\\\n\t 1ST CHOICE STAFF RECRUITMENT LIMITED                 & 18136 & 1ST CHOICE RECRUITMENT, 8 St. Loyes Street, Bedford, MK40 1EP                                                & MK40 1EP & 07972006 & 78109                         & -2.3 &  0.0 & -114.8 & -249.3 & ⋯ & 50.0 & 50.0 & https://www.1stchoice.net/gender-pay-gap-report-2019/                                                                                                          & Gill Knight (MD)                                      & 250 to 499     & 1ST CHOICE STAFF RECRUITMENT LIMITED                 & 0 & 2020/04/05 00:00:00 & 2020/01/24 09:37:01 & -4.6\\\\\n\t 1ST HOME CARE LTD.                                   & 17484 & Real Life Options, 35 East Port, Dunfermline, Fife, Scotland, KY12 7LG                                       & KY12 7LG & SC272838 & 86900,\n88100                 & -2.0 &  0.5 &     NA &     NA & ⋯ &  9.0 & 91.0 & https://reallifeoptions.org/                                                                                                                                   & Ian Hardcastle (Chief Operating Officer)              & 250 to 499     & 1ST HOME CARE LTD.                                   & 0 & 2020/04/05 00:00:00 & 2020/03/12 08:21:06 & -4.0\\\\\n\t 2 SISTERS FOOD GROUP LIMITED                         &    77 & Trinity Park House Trinity Business Park, Fox Way, Wakefield, West Yorkshire, WF2 8EE                        & WF2 8EE  & 02826929 & 10120                         & 25.0 &  7.3 &   65.0 &    7.6 & ⋯ & 65.9 & 34.1 & https://www.2sfg.com/PDF/2sfg-GenderPay-2020.pdf                                                                                                               & Lee Greenbury (Group Director of People \\& Compliance) & 1000 to 4999   & 2 SISTERS FOOD GROUP LIMITED                         & 0 & 2020/04/05 00:00:00 & 2021/09/30 12:54:30 & 50.0\\\\\n\t 23.5 DEGREES LIMITED                                 &   694 & Unit 3 Hedge End Retail Park, Charles Watts Way, Hedge End, Southampton, Hampshire, England, SO30 4RT        & SO30 4RT & 08014079 & 56103                         & 10.0 &  0.0 &   79.0 &   35.0 & ⋯ & 31.0 & 69.0 & https://www.23-5degrees.com/gender-pay-gap                                                                                                                     & Luca Contardo (CFO)                                   & 500 to 999     & 23.5 DEGREES LIMITED                                 & 0 & 2020/04/05 00:00:00 & 2019/11/11 15:33:45 & 20.0\\\\\n\t 24 X 7 LTD.                                          &   695 & Little Easton Manor Park Road, Little Easton, Dunmow, Essex, England, CM6 2JN                                & CM6 2JN  & 04142000 & 52290                         &  0.2 &  0.0 &     NA &     NA & ⋯ & 44.0 & 56.0 &                                                                                                                                                                & lisa hyem (fd)                                        & 1000 to 4999   & 24 X 7 LTD.                                          & 0 & 2020/04/05 00:00:00 & 2021/10/12 09:31:56 &  0.4\\\\\n\t 24-7 EMPLOYMENT SOLUTIONS LIMITED                    & 17921 & 198 Parrock Street, Gravesend, England, DA12 1EW                                                             & DA12 1EW & 07431144 & 78200                         &  0.0 &  0.0 &     NA &     NA & ⋯ & 53.3 & 46.7 & http://www.247esl.co.uk/gender-pay-gap/                                                                                                                        & Riju Sharma Adhikari (Director)                       & Less than 250  & 24-7 EMPLOYMENT SOLUTIONS LIMITED                    & 0 & 2020/04/05 00:00:00 & 2020/04/06 15:24:41 &  0.0\\\\\n\t 2GETHER SUPPORT SOLUTIONS LIMITED                    & 19676 & Management Offices William Harvey Hospital, Kennington Road, Willesborough, Ashford, Kent, England, TN24 0LZ & TN24 0LZ & 11385580 & 81100                         &  3.7 &  0.0 &     NA &     NA & ⋯ & 53.5 & 46.5 & https://2gethersupportsolutions.org/about-us/                                                                                                                  & Finbarr Murray (Managing Director)                    & 1000 to 4999   & 2GETHER SUPPORT SOLUTIONS LIMITED                    & 0 & 2020/04/05 00:00:00 & 2020/03/24 14:58:53 &  7.4\\\\\n\t 3 WAY CLEANING LIMITED                               & 17503 & Unit 7 Capstan Centre,, Thurrock Park Way, Tilbury, Essex, RM18 7HH                                          & RM18 7HH & 03457928 & 81210                         &  1.1 &  0.0 &    0.0 &    0.0 & ⋯ & 38.9 & 61.1 &                                                                                                                                                                & Sue Hawkins (Finance Manager)                         & 250 to 499     & 3 WAY CLEANING LIMITED                               & 0 & 2020/04/05 00:00:00 & 2021/07/01 08:25:27 &  2.2\\\\\n\t 3663 TRANSPORT LIMITED                               &   697 & 814 Leigh Road, Slough, England, SL1 4BD                                                                     & SL1 4BD  & 00456846 & 52290                         &  1.4 &  7.1 &   47.4 &   52.5 & ⋯ & 96.0 &  4.0 & https://www.bidfood.co.uk/gender-pay-gap-reports/                                                                                                              & Heather Angus (HR \\& Sustainability Director)          & 1000 to 4999   & 3663 TRANSPORT LIMITED                               & 0 & 2020/04/05 00:00:00 & 2020/05/14 16:07:39 &  2.8\\\\\n\t 3M UNITED KINGDOM PUBLIC LIMITED COMPANY             &   293 & 3m Centre, Cain Road, Bracknell, Berkshire, RG12 8HT                                                         & RG12 8HT & 01123045 & 20301,\n23910,\n32990         & 10.0 &  8.0 &   18.0 &   28.0 & ⋯ & 71.0 & 29.0 &                                                                                                                                                                & Katherine Parks (PR\\& I Leader, North Europe)          & 1000 to 4999   & 3M UNITED KINGDOM PUBLIC LIMITED COMPANY             & 0 & 2020/04/05 00:00:00 & 2020/03/17 13:02:54 & 20.0\\\\\n\t 46 BERKELEY SQUARE LTD                               & 19122 & 26-28 Conway Street, London, England, W1T 6BQ                                                                & W1T 6BQ  & 09497091 & 94990                         &  5.8 &  9.5 &   40.0 &   23.4 & ⋯ & 84.0 & 16.0 &                                                                                                                                                                & Alyson Park (HR Director)                             & 250 to 499     & 46 BERKELEY SQUARE LTD                               & 0 & 2020/04/05 00:00:00 & 2020/04/02 10:43:02 & 11.6\\\\\n\t 8X8 UK LIMITED                                       & 19714 & Oxford House, Bell Business Park, Smeaton Close, Aylesbury, Buckinghamshire, HP19 8JR                        & HP19 8JR & 05083841 & 62020                         & 26.0 & 35.0 &   46.0 &   63.0 & ⋯ & 64.0 & 36.0 & https://assets.contentstack.io/v3/assets/blt4f29123a87c48c8b/blt7e149900887ac409/5e870542ca20f06480e5f157/8X8\\_uk\\_gender\\_pay\\_report\\_2020.pdf?disposition=inline & Anthony Shore (Senior Manager; Human Resources)       & 250 to 499     & 8X8 UK LIMITED                                       & 0 & 2020/04/05 00:00:00 & 2020/04/03 16:08:58 & 52.0\\\\\n\t A B GRAPHIC INTERNATIONAL LIMITED                    & 19166 & Celebration House, Stanley, Street, Burton-On-Trent, Staffordshire, DE14 1DY                                 & DE14 1DY & 00538043 & 28290                         & 13.5 & 14.8 &   77.7 &  -15.4 & ⋯ & 95.0 &  5.0 & https://abgint.com/gender-pay-reporting                                                                                                                        & Richard Knight (CEO)                                  & 250 to 499     & A B GRAPHIC INTERNATIONAL LIMITED                    & 0 & 2020/04/05 00:00:00 & 2020/03/30 14:28:05 & 27.0\\\\\n\t A H WORTH LIMITED                                    &   430 & Fleet Estate Office, Manor Farm, Holbeach Hurn, Holbeach, Spalding, Lincolnshire, PE12 8LR                   & PE12 8LR & 02267537 & 10390                         & 12.3 & 10.2 &     NA &     NA & ⋯ & 70.3 & 29.7 & http://ahworth.co.uk                                                                                                                                           & Gill Bartlett (HR Manager)                            & 250 to 499     & A H WORTH LIMITED                                    & 0 & 2020/04/05 00:00:00 & 2020/03/26 14:51:45 & 24.6\\\\\n\t A-DAY CONSULTANTS LIMITED                            & 15592 & Kingston House Towers Business Park, Wilmslow Road, Manchester, England, M20 2LD                             & M20 2LD  & 04493101 & 78109                         & 14.8 & 17.9 &   52.5 &   28.0 & ⋯ & 38.9 & 61.1 & https://www.academicsltd.co.uk/                                                                                                                                & Claire Tyrrell (Group HR Director)                    & 1000 to 4999   & A-DAY CONSULTANTS LIMITED                            & 0 & 2020/04/05 00:00:00 & 2020/03/25 16:19:41 & 29.6\\\\\n\t A-PLAN HOLDINGS                                      &  1330 & 2 Des Roches Square, Witney, Oxfordshire, OX28 4LE                                                           & OX28 4LE & 00750484 & 66220                         & 18.2 &  8.6 &    9.9 &   13.0 & ⋯ & 71.0 & 29.0 & https://www.aplan.co.uk/                                                                                                                                       & Andrew Galbraith (Group Chief Financial Officer)      & 1000 to 4999   & A-PLAN HOLDINGS                                      & 0 & 2020/04/05 00:00:00 & 2020/03/09 09:08:57 & 36.4\\\\\n\t A. \\& B. GLASS COMPANY LIMITED                        &   729 & Addison Road, Chilton Industrial Estate, Sudbury, Suffolk, CO10 2YW                                          & CO10 2YW & 01543721 & 43342                         & 19.0 &  4.0 &   42.0 &   45.0 & ⋯ & 90.0 & 10.0 &                                                                                                                                                                & PHILIP FARNELL (GROUP HR MANAGER)                     & 250 to 499     & A. \\& B. GLASS COMPANY LIMITED                        & 0 & 2020/04/05 00:00:00 & 2019/05/20 16:34:42 & 38.0\\\\\n\t A. SHARE \\& SONS LIMITED                              &   124 & 45-49 Villiers Street, Sunderland, SR1 1HA                                                                   & SR1 1HA  & 00323778 & 47530,\n47599                 & 25.0 & 31.0 &   40.0 &   85.0 & ⋯ & 84.0 & 16.0 & https://www.scsplc.co.uk/                                                                                                                                      & Marie Liston (Corporate Services Director)            & 1000 to 4999   & A. SHARE \\& SONS LIMITED                              & 0 & 2020/04/05 00:00:00 & 2020/06/11 11:19:46 & 50.0\\\\\n\t A.B.M. CATERING LIMITED                              &   733 & Eagle Court, 63-67 Saltisford, Warwick, Warwickshire, CV34 4AF                                               & CV34 4AF & 04168334 & 56290,\n70100                 & 21.7 & 16.5 &  -70.3 &   61.5 & ⋯ & 33.9 & 66.1 & http://www.abmcatering.co.uk/wp-content/uploads/2019/07/Gender-Pay-Gap-Report-2018.pdf                                                                         & Sue Hill (Finance \\& HR Director - Operations)         & 1000 to 4999   & A.B.M. CATERING LIMITED                              & 0 & 2020/04/05 00:00:00 & 2020/01/29 12:20:31 & 43.4\\\\\n\t A.C. GOATHAM AND SON LIMITED                         & 19074 & Flanders Farm Ratcliffe Highway, Hoo, Rochester, Kent, England, ME3 8QE                                      & ME3 8QE  & 09732369 & 1240                          & 11.7 & 20.3 &   -7.0 & -200.0 & ⋯ & 69.2 & 30.8 &                                                                                                                                                                & Ross Goatham (Managing Director)                      & 250 to 499     & A.C. GOATHAM AND SON LIMITED                         & 0 & 2020/04/05 00:00:00 & 2020/03/09 17:03:00 & 23.4\\\\\n\t A.CLARKE \\& CO.(SMETHWICK)LIMITED                     &   736 & PO BOX 9837 Station Road, Oldbury, West Midlands, B69 4WD                                                    & B69 4WD  & 00580331 & 49410                         &  3.1 & 21.2 &   69.9 &    0.0 & ⋯ & 91.0 &  9.0 & https://www.clarketransport.co.uk/gender-pay-reports                                                                                                           & Bill Clarke (Commercial Director)                     & 500 to 999     & A.CLARKE \\& CO.(SMETHWICK)LIMITED                     & 0 & 2020/04/05 00:00:00 & 2021/10/04 15:39:17 &  6.2\\\\\n\t A.F.BLAKEMORE AND SON LIMITED                        &   737 & Long Acres Ind Est, Rosehill, Willenhall, West Midlands, WV13 2JP                                            & WV13 2JP & 00391135 & 46390                         & 18.0 &  6.0 &   52.0 &   53.0 & ⋯ & 73.0 & 27.0 &                                                                                                                                                                & Pamela Watts (Group HR Operations Director)           & 5000 to 19,999 & A.F.BLAKEMORE AND SON LIMITED                        & 0 & 2020/04/05 00:00:00 & 2021/10/03 20:00:58 & 36.0\\\\\n\t A.G. BARR P.L.C.                                     &  1838 & Westfield House, 4 Mollins Road, Cumbernauld, G68 9HD                                                        & G68 9HD  & SC005653 & 11070                         &  2.7 & -7.4 &   42.9 &   -2.5 & ⋯ & 66.0 & 34.0 & https://www.agbarr.co.uk/responsibility/we-act-with-integrity/                                                                                                 & Doug Brown (Head of Human Resources)                  & 500 to 999     & A.G. BARR P.L.C.                                     & 0 & 2020/04/05 00:00:00 & 2021/03/25 16:40:28 &  5.4\\\\\n\t A.J.N. STEELSTOCK LTD.                               & 14835 & Icknield Way, Kentford, Newmarket, Suffolk, CB8 7QT                                                          & CB8 7QT  & 00689647 & 46720                         & 10.3 &  0.0 &  -29.1 &  -16.3 & ⋯ & 87.1 & 12.9 & https://www.ajnsteelstock.co.uk/downloads-resources/                                                                                                           & Courtney Bell (Finance Director)                      & 250 to 499     & A.J.N. STEELSTOCK LTD.                               & 0 & 2020/04/05 00:00:00 & 2020/03/10 12:46:34 & 20.6\\\\\n\t A.W. \\& D. HAMMOND LIMITED                            & 16958 & Norwich Road, Halesworth, Suffolk, IP19 8BU                                                                  & IP19 8BU & 00989239 & 45111,\n45112,\n45200,\n45310 & 16.6 & 27.9 &   50.3 &   66.0 & ⋯ & 97.0 &  3.0 & https://www.hammondgroup.co.uk/exclusive/aw-and-d-hammond-limiteds-gender-pay-gap-data/67588                                                                   & Victor Maycock (HR Manager)                           & Not Provided   & A.W. \\& D. HAMMOND LIMITED                            & 0 & 2020/04/05 00:00:00 & 2021/09/27 17:29:33 & 33.2\\\\\n\t A2DOMINION HOUSING GROUP LIMITED                     &   751 & The Point, 37 North Wharf Road, London, United Kingdom, W2 1BD                                               & W2 1BD   & IP28985R &                               & 25.4 & 20.3 &   53.1 &    0.0 & ⋯ & 55.1 & 44.9 & https://www.a2dominiongroup.co.uk/content/doclib/60.pdf                                                                                                        & Penny St Martin (Director of HR)                      & 500 to 999     & A2DOMINION HOUSING GROUP LIMITED                     & 0 & 2020/04/05 00:00:00 & 2020/04/03 12:47:00 & 50.8\\\\\n\t AAH PHARMACEUTICALS LIMITED                          &   757 & Sapphire Court, Walsgrave Triangle, Coventry, CV2 2TX                                                        & CV2 2TX  & 00123458 & 21100,\n46460                 & 10.7 & -0.4 &   48.0 &  -28.0 & ⋯ & 61.0 & 39.0 & https://mckesson.uk/wp-content/uploads/2020/03/Gender-Pay-Gap-Report-2019-Final.pdf                                                                            & Jane Davies (HR Director)                             & 1000 to 4999   & AAH PHARMACEUTICALS LIMITED                          & 0 & 2020/04/05 00:00:00 & 2020/03/18 11:11:39 & 21.4\\\\\n\t ⋮ & ⋮ & ⋮ & ⋮ & ⋮ & ⋮ & ⋮ & ⋮ & ⋮ & ⋮ & ⋱ & ⋮ & ⋮ & ⋮ & ⋮ & ⋮ & ⋮ & ⋮ & ⋮ & ⋮ & ⋮\\\\\n\t York Teaching Hospital Nhs Foundation Trust & 14029 & Wigginton Road, York, North Yorkshire, YO31 8HE                                               & YO31 8HE &          & 1,\n86210                     &  33.4 &  18.9 &   94.5 &   33.3 & ⋯ & 33.7 & 66.3 & https://www.yorkhospitals.nhs.uk/seecmsfile/?id=4194                                                                                                       &                                                 & 5000 to 19,999 & York Teaching Hospital Nhs Foundation Trust & 0 & 2020/03/31 00:00:00 & 2020/02/21 14:19:27 &  66.8\\\\\n\t YORKARE HOMES LIMITED                       & 17644 & Brantingham Thorpe Hall Thorpe Drive, Brantingham, Brough, England, HU15 1QG                  & HU15 1QG & 04755842 & 87100                         &   1.0 &   0.0 &     NA &     NA & ⋯ &  6.0 & 94.0 & https://yorkarehomes.co.uk                                                                                                                                 & Elizabeth Garton (Director)                     & 250 to 499     & YORKARE HOMES LIMITED                       & 0 & 2020/04/05 00:00:00 & 2020/01/20 11:37:08 &   2.0\\\\\n\t Yorkshire Ambulance Service Nhs Trust       & 14030 & Springhill 2, Brindley Way, Wakefield 41 Business Park, Wakefield, WF2 0XQ                    & WF2 0XQ  &          & 1,\n86210                     &   5.2 &   4.6 &   15.9 &    0.0 & ⋯ & 56.9 & 43.1 & https://www.yas.nhs.uk/publications/gender-pay-gap-report/                                                                                                 &                                                 & 5000 to 19,999 & Yorkshire Ambulance Service Nhs Trust       & 0 & 2020/03/31 00:00:00 & 2020/03/26 13:27:33 &  10.4\\\\\n\t Yorkshire Building Society                  & 14480 & Yorkshire House, Yorkshire Drive, Bradford, BD5 8LJ                                           & BD5 8LJ  & MUT00001 & 64192                         &  30.5 &  27.9 &   47.9 &   34.1 & ⋯ & 56.2 & 43.8 & https://www.ybs.co.uk/your-society/inside-your-society/corporate-governance/policies/gender-pay-gap.html                                                   & Stephen White (Chief Operating Officer)         & 1000 to 4999   & Yorkshire Building Society                  & 0 & 2020/04/05 00:00:00 & 2019/12/19 06:06:39 &  61.0\\\\\n\t YORKSHIRE CAUSEWAY SCHOOLS TRUST            & 14031 & St Aidan's Church Of England High School, Oatlands Drive, Harrogate, North Yorkshire, HG2 8JR & HG2 8JR  & 07663935 & 85200,\n85310                 &  29.0 &  54.0 &     NA &     NA & ⋯ & 34.0 & 66.0 & http://yorkshirecauseway.co.uk/policies/                                                                                                                   &                                                 & 500 to 999     & YORKSHIRE CAUSEWAY SCHOOLS TRUST            & 0 & 2020/03/31 00:00:00 & 2020/01/21 14:30:20 &  58.0\\\\\n\t YORKSHIRE HOUSING LIMITED                   &   372 & Dysons Chambers, 12-14 Briggate, Leeds, United Kingdom, LS1 6ER                               & LS1 6ER  & IP030443 &                               &   9.5 &  14.7 &   -1.8 &  -12.5 & ⋯ & 65.0 & 35.0 &                                                                                                                                                            & Nick Atkin (Chief Executive)                    & 500 to 999     & YORKSHIRE HOUSING LIMITED                   & 0 & 2020/04/05 00:00:00 & 2020/02/28 08:47:47 &  19.0\\\\\n\t YORKSHIRE TIGER LIMITED                     & 14034 & ARRIVA PLC, 1 Admiral Way, Doxford International Business Park, Sunderland, SR3 3XP           & SR3 3XP  & 04166041 & 49390                         &  -2.9 &   0.2 &  -25.5 &    0.0 & ⋯ & 89.1 & 10.9 & https://www.arriva.co.uk/\\textasciitilde{}/media/Files/A/Arriva-Corporate-V2/documents/arriva-uks-2019-gender-pay-gap-report.pdf                                           & Alison O'Connor (Director of Corporate Affairs) & 500 to 999     & YORKSHIRE TIGER LIMITED                     & 0 & 2020/04/05 00:00:00 & 2020/03/04 10:43:31 &  -5.8\\\\\n\t YORKSHIRE WATER SERVICES LIMITED            & 15780 & Western House, Halifax Road, Bradford, West Yorkshire, BD6 2SZ                                & BD6 2SZ  & 02366682 & 36000                         &   1.5 &   0.1 &   13.6 &    5.7 & ⋯ & 78.5 & 21.5 & https://www.yorkshirewater.com/careers/working-for-yorkshire-water/diversity-inclusion/                                                                    & Liz Barber (Chief Executive Officer)            & 1000 to 4999   & YORKSHIRE WATER SERVICES LIMITED            & 0 & 2020/04/05 00:00:00 & 2020/04/02 08:00:46 &   3.0\\\\\n\t YORWASTE LIMITED                            & 17551 & Mount View, Standard Way, Northallerton, North Yorkshire, DL6 2YD                             & DL6 2YD  & 02666908 & 38110,\n38210,\n38320         &  -0.6 &  -2.4 & -210.3 & -377.0 & ⋯ & 72.5 & 27.5 &                                                                                                                                                            & Alexander Boyle (MD)                            & 250 to 499     & YORWASTE LIMITED                            & 0 & 2020/04/05 00:00:00 & 2021/03/24 16:48:43 &  -1.2\\\\\n\t YOUGOV PLC                                  & 14035 & 50 Featherstone Street, London, EC1Y 8RT                                                      & EC1Y 8RT & 03607311 & 73200                         &  23.0 &  25.0 &   51.0 &   39.0 & ⋯ & 77.0 & 23.0 & https://corporate.yougov.com/governance/uk-gender-pay-gap-reporting/                                                                                       & Stephan Shakespeare (CEO)                       & 250 to 499     & YOUGOV PLC                                  & 0 & 2020/04/05 00:00:00 & 2020/05/01 14:41:42 &  46.0\\\\\n\t YOUNG \\& CO'S BREWERY PLC                    & 14036 & Copper House, 5 Garratt Lane, Wandsworth, London, SW18 4AQ                                    & SW18 4AQ & 00032762 & 55100,\n56302                 &   9.6 &   6.8 &   24.6 &    8.3 & ⋯ & 70.5 & 29.5 & https://www.youngs.co.uk/youngs/uploads/sites/2/2020/03/Youngs-gender-pay-gap-2020.pdf                                                                     & Patrick Dardis (Chief Executive)                & 1000 to 4999   & YOUNG \\& CO'S BREWERY PLC                    & 0 & 2020/04/05 00:00:00 & 2020/03/20 16:08:39 &  19.2\\\\\n\t YOUNG'S SEAFOOD LIMITED                     &   606 & Young's House, Wickham Road, Grimsby, England, DN31 3SW                                       & DN31 3SW & 03751665 & 10200                         &  19.0 &   6.0 &   59.0 &   26.0 & ⋯ & 68.0 & 32.0 & https://youngsseafood.co.uk/youngs-gender-pay-gap-report/                                                                                                  & Dominic Kerrigan (HR Director)                  & 1000 to 4999   & YOUNG'S SEAFOOD LIMITED                     & 0 & 2020/04/05 00:00:00 & 2020/03/19 11:25:18 &  38.0\\\\\n\t YOUR HOMES NEWCASTLE LIMITED                & 14040 & Civic Centre, Barras Bridge, Newcastle Upon Tyne, Tyne \\& Wear, NE1 8PR                        & NE1 8PR  & 05076256 & 68201                         &  -5.6 & -17.1 &     NA &     NA & ⋯ & 47.0 & 53.0 &                                                                                                                                                            & Christina Drury (YHN Managing Director)         & 500 to 999     & YOUR HOMES NEWCASTLE LIMITED                & 0 & 2020/04/05 00:00:00 & 2019/07/23 10:41:53 & -11.2\\\\\n\t YOUR LEISURE KENT LIMITED                   & 14105 & Northdown House, Northdown Park Road, Margate, CT9 3TP                                        & CT9 3TP  & IP28889R &                               & -12.1 &  -0.4 &     NA &     NA & ⋯ & 31.0 & 69.0 &                                                                                                                                                            & Debbie Barker (HR Manager)                      & 500 to 999     & YOUR LEISURE KENT LIMITED                   & 0 & 2020/04/05 00:00:00 & 2019/12/02 08:09:30 & -24.2\\\\\n\t YOUR-MOVE.CO.UK LIMITED                     & 14043 & Newcastle House Albany Court, Newcastle Business Park, Newcastle Upon Tyne, NE4 7YB           & NE4 7YB  & 01864469 & 68310                         &  22.7 &  16.9 &   47.9 &   37.1 & ⋯ & 54.9 & 45.1 & https://d3qd5ly540y1aa.cloudfront.net/your-move/uploads/media\\_file/Your-Move-Gender-Pay-Gap-Report-2019-Final.pdf                                          & Helen Buck (Executive Director, Estate Agency)  & 500 to 999     & YOUR-MOVE.CO.UK LIMITED                     & 0 & 2020/04/05 00:00:00 & 2020/04/06 16:56:43 &  45.4\\\\\n\t YOURLIFE MANAGEMENT SERVICES LIMITED        & 14042 & Fourth Floor, 100 Holdenhurst Road, Bournemouth, Dorset, BH8 8AQ                              & BH8 8AQ  & 07153519 & 68320,\n96090                 &  18.5 &   3.9 &   50.0 &   26.9 & ⋯ & 14.1 & 85.9 & https://www.mccarthyandstonegroup.co.uk/making-a-difference/gender-pay-gap-report-2019                                                                     & Paula Jordan (Group HR Director)                & 1000 to 4999   & YOURLIFE MANAGEMENT SERVICES LIMITED        & 0 & 2020/04/05 00:00:00 & 2020/07/01 11:23:55 &  37.0\\\\\n\t YOURS CLOTHING LIMITED                      & 14044 & Newcombe House, Bakewell Road, Orton Southgate, Peterborough, United Kingdom, PE2 6XU         & PE2 6XU  & 02886196 & 47710                         &  59.0 &  57.0 &   88.0 &   73.0 & ⋯ & 11.2 & 88.8 & https://www.yoursclothing.co.uk/gender-pay-gap                                                                                                             & Anna Heather (Finance Director)                 & 1000 to 4999   & YOURS CLOTHING LIMITED                      & 0 & 2020/04/05 00:00:00 & 2020/04/28 15:59:05 & 118.0\\\\\n\t YPO                                         & 15098 & Kenmore Rd, 41 Industrial Estate, Wakefield, WF2 0XE                                          & WF2 0XE  &          & 1                             &  -5.1 & -10.0 &   12.8 &    0.0 & ⋯ & 44.6 & 55.4 & https://www.ypo.co.uk/-/media/about-ypo/governance/2020-documents/gender-pay-gap-2020\\_website.ashx?la=en                                                   &                                                 & 500 to 999     & YPO                                         & 0 & 2020/03/31 00:00:00 & 2020/03/12 11:02:47 & -10.2\\\\\n\t YUSEN LOGISTICS (UK) LIMITED                & 14051 & Grange Park 1, Cheaney Drive, Grange Park, Northampton, NN4 5FB                               & NN4 5FB  & 02548297 & 49410,\n50200,\n51210,\n52103 &   4.7 &  -2.1 &  -86.4 &    0.0 & ⋯ & 71.0 & 29.0 &                                                                                                                                                            & Suzanne Mercer (HR Director)                    & 1000 to 4999   & YUSEN LOGISTICS (UK) LIMITED                & 0 & 2020/04/05 00:00:00 & 2020/03/30 10:19:10 &   9.4\\\\\n\t ZAHA HADID LIMITED                          & 14053 & 101 Goswell Road, London, United Kingdom, EC1V 7EZ                                            & EC1V 7EZ & 03749443 & 71111                         &  20.5 &  22.8 &   72.9 &   45.9 & ⋯ & 74.2 & 25.8 & https://www.zaha-hadid.com/archive/\\#reports                                                                                                                & Mouzhan Majidi (CEO)                            & 250 to 499     & ZAHA HADID LIMITED                          & 0 & 2020/04/05 00:00:00 & 2020/03/23 14:09:39 &  41.0\\\\\n\t ZEBRA TECHNOLOGIES EUROPE LIMITED           &   557 & Dukes Meadow, Millboard Road, Bourne End, Buckinghamshire, SL8 5XF                            & SL8 5XF  & 02881068 & 62012                         &  12.4 &  19.1 &   31.1 &   37.7 & ⋯ & 83.3 & 16.7 & https://www.zebra.com/content/dam/zebra\\_new\\_ia/en-us/corporate-and-brand/compliance/uk-gender-pay-report.pdf                                               & Kally Kang-Kersey (VP Human Resources)          & 500 to 999     & ZEBRA TECHNOLOGIES EUROPE LIMITED           & 0 & 2020/04/05 00:00:00 & 2020/03/09 15:59:48 &  24.8\\\\\n\t ZELLIS UK LIMITED                           &  9144 & 740 Waterside Drive Aztec West, Almondsbury, Bristol, England, BS32 4UF                       & BS32 4UF & 01587537 & 58290,\n63110                 &  18.8 &  27.6 &   29.8 &   28.6 & ⋯ & 63.9 & 36.1 &                                                                                                                                                            & Caroline Drake (Chief People Officer)           & 1000 to 4999   & ZELLIS UK LIMITED                           & 0 & 2020/04/05 00:00:00 & 2020/07/10 08:26:03 &  37.6\\\\\n\t ZEN INTERNET LIMITED                        & 14058 & Sandbrook House Sandbrook Park, Sandbrook Way, Rochdale, Lancashire, OL11 1RY                 & OL11 1RY & 03101568 & 61100                         &  21.9 &  18.7 &   66.0 &   60.0 & ⋯ & 85.9 & 14.1 & https://www.zen.co.uk/resources/docs/default-source/document-library/global-documents/zen-gender-pay-gap-report-2019.pdf?sfvrsn=9f741c65\\_4                 & Richard Tang (Founder \\& Chairman)               & 500 to 999     & ZEN INTERNET LIMITED                        & 0 & 2020/04/05 00:00:00 & 2019/07/30 11:18:45 &  43.8\\\\\n\t ZENITH VEHICLE CONTRACTS LIMITED            & 14062 & Number One, Great Exhibition Way, Kirkstall Forge, Leeds, United Kingdom, LS5 3BF             & LS5 3BF  & 02267701 & 77110                         &  19.3 &   8.8 &   11.9 &   12.3 & ⋯ & 59.8 & 40.2 & https://www.zenith.co.uk/gender-pay-gap/                                                                                                                   & Marisa Waddington (HR Director)                 & 250 to 499     & ZENITH VEHICLE CONTRACTS LIMITED            & 0 & 2020/04/05 00:00:00 & 2020/04/03 09:43:25 &  38.6\\\\\n\t ZF SERVICES UK LIMITED                      & 19391 & Abbeyfield Road, Lenton, Nottingham, NG7 2SX                                                  & NG7 2SX  & 01137722 & 45310                         &   7.6 &  11.3 &   23.6 &   11.3 & ⋯ & 87.5 & 12.5 & https://www.zf.com/mobile/en/company/company\\_profile\\_zf/locations\\_worldwide/europe/greatbritain\\_locations/great\\_britain\\_zfworldwide.html                   & Christopher Adcock (Managing Director)          & 250 to 499     & ZF SERVICES UK LIMITED                      & 0 & 2020/04/05 00:00:00 & 2020/02/04 08:47:44 &  15.2\\\\\n\t ZING LEISURE LIMITED                        & 14068 & 5 New Street Square, London, United Kingdom, EC4A 3TW                                         & EC4A 3TW & 05175354 & 56102                         &  10.0 &   0.2 &   31.9 &    0.0 & ⋯ & 57.1 & 42.9 &                                                                                                                                                            & Timothy Doubleday (CFO)                         & 250 to 499     & ZING LEISURE LIMITED                        & 0 & 2020/04/05 00:00:00 & 2021/08/18 09:29:16 &  20.0\\\\\n\t ZOPA LIMITED                                & 18767 & Frobisher House, Southbrook Road, Southampton, England, SO15 1GX                              & SO15 1GX & 05197592 & 64929                         &  25.5 &  38.8 &   40.5 &   50.0 & ⋯ & 82.0 & 18.0 & https://blog.zopa.com/2019/09/30/gender-diversity-at-zopa/                                                                                                 & Jaidev Janardana (CEO)                          & 250 to 499     & PLATA FINANCE LIMITED                       & 0 & 2020/04/05 00:00:00 & 2020/02/27 13:32:25 &  51.0\\\\\n\t ZOTEFOAMS PLC                               & 14074 & 675 Mitcham Road, Croydon, CR9 3AL                                                            & CR9 3AL  & 02714645 & 22290,\n70100                 &   3.8 &  -2.7 &   20.7 &    8.6 & ⋯ & 84.2 & 15.8 &                                                                                                                                                            & Jill Breingan (HR Director)                     & 250 to 499     & ZOTEFOAMS PLC                               & 0 & 2020/04/05 00:00:00 & 2020/05/04 16:05:24 &   7.6\\\\\n\t ZURICH EMPLOYMENT SERVICES LIMITED          & 14076 & Unity Place, 1 Carfax Close, Swindon, Wiltshire, United Kingdom, SN1 1AP                      & SN1 1AP  & 00243883 & 78300,\n82990                 &  23.4 &  27.6 &   48.8 &   49.9 & ⋯ & 70.3 & 29.7 & https://www.zurich.co.uk/-/media/project/zwp/united-kingdom/docs/about-us/cr/zurich-uk-gender-pay-gap-2019.pdf?la=en\\&hash=B63A743DC6127FCD767B739EA2A1DCEB & Steve Collinson (Head of The People Team)       & 1000 to 4999   & ZURICH EMPLOYMENT SERVICES LIMITED          & 0 & 2020/04/05 00:00:00 & 2020/04/09 12:19:18 &  46.8\\\\\n\t ZURICH UK GENERAL SERVICES LIMITED          & 14078 & The Zurich Centre 3000 Parkway, Whiteley, Fareham, Hampshire, PO15 7JZ                        & PO15 7JZ & 03843124 & 82990                         &  21.5 &  21.9 &   54.0 &   36.3 & ⋯ & 70.0 & 30.0 & https://www.zurich.co.uk/-/media/project/zwp/united-kingdom/docs/about-us/cr/zurich-uk-gender-pay-gap-2019.pdf?la=en\\&hash=B63A743DC6127FCD767B739EA2A1DCEB & Steve Collinson (Head of The People Team)       & 1000 to 4999   & ZURICH UK GENERAL SERVICES LIMITED          & 0 & 2020/04/05 00:00:00 & 2020/04/09 12:24:11 &  43.0\\\\\n\\end{tabular}\n",
            "text/plain": [
              "     EmployerName                                         EmployerId\n",
              "1    'PRIFYSGOL ABERYSTWYTH' AND 'ABERYSTWYTH UNIVERSITY' 19070     \n",
              "2    10 TRINITY SQUARE HOTEL LIMITED                      19455     \n",
              "3    1LIFE MANAGEMENT SOLUTIONS LIMITED                     687     \n",
              "4    1ST CHOICE STAFF RECRUITMENT LIMITED                 18136     \n",
              "5    1ST HOME CARE LTD.                                   17484     \n",
              "6    2 SISTERS FOOD GROUP LIMITED                            77     \n",
              "7    23.5 DEGREES LIMITED                                   694     \n",
              "8    24 X 7 LTD.                                            695     \n",
              "9    24-7 EMPLOYMENT SOLUTIONS LIMITED                    17921     \n",
              "10   2GETHER SUPPORT SOLUTIONS LIMITED                    19676     \n",
              "11   3 WAY CLEANING LIMITED                               17503     \n",
              "12   3663 TRANSPORT LIMITED                                 697     \n",
              "13   3M UNITED KINGDOM PUBLIC LIMITED COMPANY               293     \n",
              "14   46 BERKELEY SQUARE LTD                               19122     \n",
              "15   8X8 UK LIMITED                                       19714     \n",
              "16   A B GRAPHIC INTERNATIONAL LIMITED                    19166     \n",
              "17   A H WORTH LIMITED                                      430     \n",
              "18   A-DAY CONSULTANTS LIMITED                            15592     \n",
              "19   A-PLAN HOLDINGS                                       1330     \n",
              "20   A. & B. GLASS COMPANY LIMITED                          729     \n",
              "21   A. SHARE & SONS LIMITED                                124     \n",
              "22   A.B.M. CATERING LIMITED                                733     \n",
              "23   A.C. GOATHAM AND SON LIMITED                         19074     \n",
              "24   A.CLARKE & CO.(SMETHWICK)LIMITED                       736     \n",
              "25   A.F.BLAKEMORE AND SON LIMITED                          737     \n",
              "26   A.G. BARR P.L.C.                                      1838     \n",
              "27   A.J.N. STEELSTOCK LTD.                               14835     \n",
              "28   A.W. & D. HAMMOND LIMITED                            16958     \n",
              "29   A2DOMINION HOUSING GROUP LIMITED                       751     \n",
              "30   AAH PHARMACEUTICALS LIMITED                            757     \n",
              "⋮    ⋮                                                    ⋮         \n",
              "6892 York Teaching Hospital Nhs Foundation Trust          14029     \n",
              "6893 YORKARE HOMES LIMITED                                17644     \n",
              "6894 Yorkshire Ambulance Service Nhs Trust                14030     \n",
              "6895 Yorkshire Building Society                           14480     \n",
              "6896 YORKSHIRE CAUSEWAY SCHOOLS TRUST                     14031     \n",
              "6897 YORKSHIRE HOUSING LIMITED                              372     \n",
              "6898 YORKSHIRE TIGER LIMITED                              14034     \n",
              "6899 YORKSHIRE WATER SERVICES LIMITED                     15780     \n",
              "6900 YORWASTE LIMITED                                     17551     \n",
              "6901 YOUGOV PLC                                           14035     \n",
              "6902 YOUNG & CO'S BREWERY PLC                             14036     \n",
              "6903 YOUNG'S SEAFOOD LIMITED                                606     \n",
              "6904 YOUR HOMES NEWCASTLE LIMITED                         14040     \n",
              "6905 YOUR LEISURE KENT LIMITED                            14105     \n",
              "6906 YOUR-MOVE.CO.UK LIMITED                              14043     \n",
              "6907 YOURLIFE MANAGEMENT SERVICES LIMITED                 14042     \n",
              "6908 YOURS CLOTHING LIMITED                               14044     \n",
              "6909 YPO                                                  15098     \n",
              "6910 YUSEN LOGISTICS (UK) LIMITED                         14051     \n",
              "6911 ZAHA HADID LIMITED                                   14053     \n",
              "6912 ZEBRA TECHNOLOGIES EUROPE LIMITED                      557     \n",
              "6913 ZELLIS UK LIMITED                                     9144     \n",
              "6914 ZEN INTERNET LIMITED                                 14058     \n",
              "6915 ZENITH VEHICLE CONTRACTS LIMITED                     14062     \n",
              "6916 ZF SERVICES UK LIMITED                               19391     \n",
              "6917 ZING LEISURE LIMITED                                 14068     \n",
              "6918 ZOPA LIMITED                                         18767     \n",
              "6919 ZOTEFOAMS PLC                                        14074     \n",
              "6920 ZURICH EMPLOYMENT SERVICES LIMITED                   14076     \n",
              "6921 ZURICH UK GENERAL SERVICES LIMITED                   14078     \n",
              "     Address                                                                                                     \n",
              "1    Aberystwyth University, Penglais, Ceredigion, SY23 3FL                                                      \n",
              "2    5 Market Yard Mews, 194-204 Bermondsey Street, London, United Kingdom, SE1 3TQ                              \n",
              "3    Ldh House St Ives Business Park, Parsons Green, St. Ives, Cambridgeshire, PE27 4AA                          \n",
              "4    1ST CHOICE RECRUITMENT, 8 St. Loyes Street, Bedford, MK40 1EP                                               \n",
              "5    Real Life Options, 35 East Port, Dunfermline, Fife, Scotland, KY12 7LG                                      \n",
              "6    Trinity Park House Trinity Business Park, Fox Way, Wakefield, West Yorkshire, WF2 8EE                       \n",
              "7    Unit 3 Hedge End Retail Park, Charles Watts Way, Hedge End, Southampton, Hampshire, England, SO30 4RT       \n",
              "8    Little Easton Manor Park Road, Little Easton, Dunmow, Essex, England, CM6 2JN                               \n",
              "9    198 Parrock Street, Gravesend, England, DA12 1EW                                                            \n",
              "10   Management Offices William Harvey Hospital, Kennington Road, Willesborough, Ashford, Kent, England, TN24 0LZ\n",
              "11   Unit 7 Capstan Centre,, Thurrock Park Way, Tilbury, Essex, RM18 7HH                                         \n",
              "12   814 Leigh Road, Slough, England, SL1 4BD                                                                    \n",
              "13   3m Centre, Cain Road, Bracknell, Berkshire, RG12 8HT                                                        \n",
              "14   26-28 Conway Street, London, England, W1T 6BQ                                                               \n",
              "15   Oxford House, Bell Business Park, Smeaton Close, Aylesbury, Buckinghamshire, HP19 8JR                       \n",
              "16   Celebration House, Stanley, Street, Burton-On-Trent, Staffordshire, DE14 1DY                                \n",
              "17   Fleet Estate Office, Manor Farm, Holbeach Hurn, Holbeach, Spalding, Lincolnshire, PE12 8LR                  \n",
              "18   Kingston House Towers Business Park, Wilmslow Road, Manchester, England, M20 2LD                            \n",
              "19   2 Des Roches Square, Witney, Oxfordshire, OX28 4LE                                                          \n",
              "20   Addison Road, Chilton Industrial Estate, Sudbury, Suffolk, CO10 2YW                                         \n",
              "21   45-49 Villiers Street, Sunderland, SR1 1HA                                                                  \n",
              "22   Eagle Court, 63-67 Saltisford, Warwick, Warwickshire, CV34 4AF                                              \n",
              "23   Flanders Farm Ratcliffe Highway, Hoo, Rochester, Kent, England, ME3 8QE                                     \n",
              "24   PO BOX 9837 Station Road, Oldbury, West Midlands, B69 4WD                                                   \n",
              "25   Long Acres Ind Est, Rosehill, Willenhall, West Midlands, WV13 2JP                                           \n",
              "26   Westfield House, 4 Mollins Road, Cumbernauld, G68 9HD                                                       \n",
              "27   Icknield Way, Kentford, Newmarket, Suffolk, CB8 7QT                                                         \n",
              "28   Norwich Road, Halesworth, Suffolk, IP19 8BU                                                                 \n",
              "29   The Point, 37 North Wharf Road, London, United Kingdom, W2 1BD                                              \n",
              "30   Sapphire Court, Walsgrave Triangle, Coventry, CV2 2TX                                                       \n",
              "⋮    ⋮                                                                                                           \n",
              "6892 Wigginton Road, York, North Yorkshire, YO31 8HE                                                             \n",
              "6893 Brantingham Thorpe Hall Thorpe Drive, Brantingham, Brough, England, HU15 1QG                                \n",
              "6894 Springhill 2, Brindley Way, Wakefield 41 Business Park, Wakefield, WF2 0XQ                                  \n",
              "6895 Yorkshire House, Yorkshire Drive, Bradford, BD5 8LJ                                                         \n",
              "6896 St Aidan's Church Of England High School, Oatlands Drive, Harrogate, North Yorkshire, HG2 8JR               \n",
              "6897 Dysons Chambers, 12-14 Briggate, Leeds, United Kingdom, LS1 6ER                                             \n",
              "6898 ARRIVA PLC, 1 Admiral Way, Doxford International Business Park, Sunderland, SR3 3XP                         \n",
              "6899 Western House, Halifax Road, Bradford, West Yorkshire, BD6 2SZ                                              \n",
              "6900 Mount View, Standard Way, Northallerton, North Yorkshire, DL6 2YD                                           \n",
              "6901 50 Featherstone Street, London, EC1Y 8RT                                                                    \n",
              "6902 Copper House, 5 Garratt Lane, Wandsworth, London, SW18 4AQ                                                  \n",
              "6903 Young's House, Wickham Road, Grimsby, England, DN31 3SW                                                     \n",
              "6904 Civic Centre, Barras Bridge, Newcastle Upon Tyne, Tyne & Wear, NE1 8PR                                      \n",
              "6905 Northdown House, Northdown Park Road, Margate, CT9 3TP                                                      \n",
              "6906 Newcastle House Albany Court, Newcastle Business Park, Newcastle Upon Tyne, NE4 7YB                         \n",
              "6907 Fourth Floor, 100 Holdenhurst Road, Bournemouth, Dorset, BH8 8AQ                                            \n",
              "6908 Newcombe House, Bakewell Road, Orton Southgate, Peterborough, United Kingdom, PE2 6XU                       \n",
              "6909 Kenmore Rd, 41 Industrial Estate, Wakefield, WF2 0XE                                                        \n",
              "6910 Grange Park 1, Cheaney Drive, Grange Park, Northampton, NN4 5FB                                             \n",
              "6911 101 Goswell Road, London, United Kingdom, EC1V 7EZ                                                          \n",
              "6912 Dukes Meadow, Millboard Road, Bourne End, Buckinghamshire, SL8 5XF                                          \n",
              "6913 740 Waterside Drive Aztec West, Almondsbury, Bristol, England, BS32 4UF                                     \n",
              "6914 Sandbrook House Sandbrook Park, Sandbrook Way, Rochdale, Lancashire, OL11 1RY                               \n",
              "6915 Number One, Great Exhibition Way, Kirkstall Forge, Leeds, United Kingdom, LS5 3BF                           \n",
              "6916 Abbeyfield Road, Lenton, Nottingham, NG7 2SX                                                                \n",
              "6917 5 New Street Square, London, United Kingdom, EC4A 3TW                                                       \n",
              "6918 Frobisher House, Southbrook Road, Southampton, England, SO15 1GX                                            \n",
              "6919 675 Mitcham Road, Croydon, CR9 3AL                                                                          \n",
              "6920 Unity Place, 1 Carfax Close, Swindon, Wiltshire, United Kingdom, SN1 1AP                                    \n",
              "6921 The Zurich Centre 3000 Parkway, Whiteley, Fareham, Hampshire, PO15 7JZ                                      \n",
              "     PostCode compnum  SicCodes                      DiffMeanHourlyPercent\n",
              "1    SY23 3FL RC000641                               11.5                 \n",
              "2    SE1 3TQ  08064685 82990                          8.7                 \n",
              "3    PE27 4AA 02566586 93110,\\n93130,\\n93290         11.0                 \n",
              "4    MK40 1EP 07972006 78109                         -2.3                 \n",
              "5    KY12 7LG SC272838 86900,\\n88100                 -2.0                 \n",
              "6    WF2 8EE  02826929 10120                         25.0                 \n",
              "7    SO30 4RT 08014079 56103                         10.0                 \n",
              "8    CM6 2JN  04142000 52290                          0.2                 \n",
              "9    DA12 1EW 07431144 78200                          0.0                 \n",
              "10   TN24 0LZ 11385580 81100                          3.7                 \n",
              "11   RM18 7HH 03457928 81210                          1.1                 \n",
              "12   SL1 4BD  00456846 52290                          1.4                 \n",
              "13   RG12 8HT 01123045 20301,\\n23910,\\n32990         10.0                 \n",
              "14   W1T 6BQ  09497091 94990                          5.8                 \n",
              "15   HP19 8JR 05083841 62020                         26.0                 \n",
              "16   DE14 1DY 00538043 28290                         13.5                 \n",
              "17   PE12 8LR 02267537 10390                         12.3                 \n",
              "18   M20 2LD  04493101 78109                         14.8                 \n",
              "19   OX28 4LE 00750484 66220                         18.2                 \n",
              "20   CO10 2YW 01543721 43342                         19.0                 \n",
              "21   SR1 1HA  00323778 47530,\\n47599                 25.0                 \n",
              "22   CV34 4AF 04168334 56290,\\n70100                 21.7                 \n",
              "23   ME3 8QE  09732369 1240                          11.7                 \n",
              "24   B69 4WD  00580331 49410                          3.1                 \n",
              "25   WV13 2JP 00391135 46390                         18.0                 \n",
              "26   G68 9HD  SC005653 11070                          2.7                 \n",
              "27   CB8 7QT  00689647 46720                         10.3                 \n",
              "28   IP19 8BU 00989239 45111,\\n45112,\\n45200,\\n45310 16.6                 \n",
              "29   W2 1BD   IP28985R                               25.4                 \n",
              "30   CV2 2TX  00123458 21100,\\n46460                 10.7                 \n",
              "⋮    ⋮        ⋮        ⋮                             ⋮                    \n",
              "6892 YO31 8HE          1,\\n86210                      33.4                \n",
              "6893 HU15 1QG 04755842 87100                           1.0                \n",
              "6894 WF2 0XQ           1,\\n86210                       5.2                \n",
              "6895 BD5 8LJ  MUT00001 64192                          30.5                \n",
              "6896 HG2 8JR  07663935 85200,\\n85310                  29.0                \n",
              "6897 LS1 6ER  IP030443                                 9.5                \n",
              "6898 SR3 3XP  04166041 49390                          -2.9                \n",
              "6899 BD6 2SZ  02366682 36000                           1.5                \n",
              "6900 DL6 2YD  02666908 38110,\\n38210,\\n38320          -0.6                \n",
              "6901 EC1Y 8RT 03607311 73200                          23.0                \n",
              "6902 SW18 4AQ 00032762 55100,\\n56302                   9.6                \n",
              "6903 DN31 3SW 03751665 10200                          19.0                \n",
              "6904 NE1 8PR  05076256 68201                          -5.6                \n",
              "6905 CT9 3TP  IP28889R                               -12.1                \n",
              "6906 NE4 7YB  01864469 68310                          22.7                \n",
              "6907 BH8 8AQ  07153519 68320,\\n96090                  18.5                \n",
              "6908 PE2 6XU  02886196 47710                          59.0                \n",
              "6909 WF2 0XE           1                              -5.1                \n",
              "6910 NN4 5FB  02548297 49410,\\n50200,\\n51210,\\n52103   4.7                \n",
              "6911 EC1V 7EZ 03749443 71111                          20.5                \n",
              "6912 SL8 5XF  02881068 62012                          12.4                \n",
              "6913 BS32 4UF 01587537 58290,\\n63110                  18.8                \n",
              "6914 OL11 1RY 03101568 61100                          21.9                \n",
              "6915 LS5 3BF  02267701 77110                          19.3                \n",
              "6916 NG7 2SX  01137722 45310                           7.6                \n",
              "6917 EC4A 3TW 05175354 56102                          10.0                \n",
              "6918 SO15 1GX 05197592 64929                          25.5                \n",
              "6919 CR9 3AL  02714645 22290,\\n70100                   3.8                \n",
              "6920 SN1 1AP  00243883 78300,\\n82990                  23.4                \n",
              "6921 PO15 7JZ 03843124 82990                          21.5                \n",
              "     DiffMedianHourlyPercent DiffMeanBonusPercent DiffMedianBonusPercent ⋯\n",
              "1    10.3                        NA                   NA                 ⋯\n",
              "2    10.3                      29.6                 54.5                 ⋯\n",
              "3    -0.5                      81.5                 94.2                 ⋯\n",
              "4     0.0                    -114.8               -249.3                 ⋯\n",
              "5     0.5                        NA                   NA                 ⋯\n",
              "6     7.3                      65.0                  7.6                 ⋯\n",
              "7     0.0                      79.0                 35.0                 ⋯\n",
              "8     0.0                        NA                   NA                 ⋯\n",
              "9     0.0                        NA                   NA                 ⋯\n",
              "10    0.0                        NA                   NA                 ⋯\n",
              "11    0.0                       0.0                  0.0                 ⋯\n",
              "12    7.1                      47.4                 52.5                 ⋯\n",
              "13    8.0                      18.0                 28.0                 ⋯\n",
              "14    9.5                      40.0                 23.4                 ⋯\n",
              "15   35.0                      46.0                 63.0                 ⋯\n",
              "16   14.8                      77.7                -15.4                 ⋯\n",
              "17   10.2                        NA                   NA                 ⋯\n",
              "18   17.9                      52.5                 28.0                 ⋯\n",
              "19    8.6                       9.9                 13.0                 ⋯\n",
              "20    4.0                      42.0                 45.0                 ⋯\n",
              "21   31.0                      40.0                 85.0                 ⋯\n",
              "22   16.5                     -70.3                 61.5                 ⋯\n",
              "23   20.3                      -7.0               -200.0                 ⋯\n",
              "24   21.2                      69.9                  0.0                 ⋯\n",
              "25    6.0                      52.0                 53.0                 ⋯\n",
              "26   -7.4                      42.9                 -2.5                 ⋯\n",
              "27    0.0                     -29.1                -16.3                 ⋯\n",
              "28   27.9                      50.3                 66.0                 ⋯\n",
              "29   20.3                      53.1                  0.0                 ⋯\n",
              "30   -0.4                      48.0                -28.0                 ⋯\n",
              "⋮    ⋮                       ⋮                    ⋮                      ⋱\n",
              "6892  18.9                     94.5                 33.3                 ⋯\n",
              "6893   0.0                       NA                   NA                 ⋯\n",
              "6894   4.6                     15.9                  0.0                 ⋯\n",
              "6895  27.9                     47.9                 34.1                 ⋯\n",
              "6896  54.0                       NA                   NA                 ⋯\n",
              "6897  14.7                     -1.8                -12.5                 ⋯\n",
              "6898   0.2                    -25.5                  0.0                 ⋯\n",
              "6899   0.1                     13.6                  5.7                 ⋯\n",
              "6900  -2.4                   -210.3               -377.0                 ⋯\n",
              "6901  25.0                     51.0                 39.0                 ⋯\n",
              "6902   6.8                     24.6                  8.3                 ⋯\n",
              "6903   6.0                     59.0                 26.0                 ⋯\n",
              "6904 -17.1                       NA                   NA                 ⋯\n",
              "6905  -0.4                       NA                   NA                 ⋯\n",
              "6906  16.9                     47.9                 37.1                 ⋯\n",
              "6907   3.9                     50.0                 26.9                 ⋯\n",
              "6908  57.0                     88.0                 73.0                 ⋯\n",
              "6909 -10.0                     12.8                  0.0                 ⋯\n",
              "6910  -2.1                    -86.4                  0.0                 ⋯\n",
              "6911  22.8                     72.9                 45.9                 ⋯\n",
              "6912  19.1                     31.1                 37.7                 ⋯\n",
              "6913  27.6                     29.8                 28.6                 ⋯\n",
              "6914  18.7                     66.0                 60.0                 ⋯\n",
              "6915   8.8                     11.9                 12.3                 ⋯\n",
              "6916  11.3                     23.6                 11.3                 ⋯\n",
              "6917   0.2                     31.9                  0.0                 ⋯\n",
              "6918  38.8                     40.5                 50.0                 ⋯\n",
              "6919  -2.7                     20.7                  8.6                 ⋯\n",
              "6920  27.6                     48.8                 49.9                 ⋯\n",
              "6921  21.9                     54.0                 36.3                 ⋯\n",
              "     MaleTopQuartile FemaleTopQuartile\n",
              "1    62.0            38.0             \n",
              "2    66.7            33.3             \n",
              "3    44.2            55.8             \n",
              "4    50.0            50.0             \n",
              "5     9.0            91.0             \n",
              "6    65.9            34.1             \n",
              "7    31.0            69.0             \n",
              "8    44.0            56.0             \n",
              "9    53.3            46.7             \n",
              "10   53.5            46.5             \n",
              "11   38.9            61.1             \n",
              "12   96.0             4.0             \n",
              "13   71.0            29.0             \n",
              "14   84.0            16.0             \n",
              "15   64.0            36.0             \n",
              "16   95.0             5.0             \n",
              "17   70.3            29.7             \n",
              "18   38.9            61.1             \n",
              "19   71.0            29.0             \n",
              "20   90.0            10.0             \n",
              "21   84.0            16.0             \n",
              "22   33.9            66.1             \n",
              "23   69.2            30.8             \n",
              "24   91.0             9.0             \n",
              "25   73.0            27.0             \n",
              "26   66.0            34.0             \n",
              "27   87.1            12.9             \n",
              "28   97.0             3.0             \n",
              "29   55.1            44.9             \n",
              "30   61.0            39.0             \n",
              "⋮    ⋮               ⋮                \n",
              "6892 33.7            66.3             \n",
              "6893  6.0            94.0             \n",
              "6894 56.9            43.1             \n",
              "6895 56.2            43.8             \n",
              "6896 34.0            66.0             \n",
              "6897 65.0            35.0             \n",
              "6898 89.1            10.9             \n",
              "6899 78.5            21.5             \n",
              "6900 72.5            27.5             \n",
              "6901 77.0            23.0             \n",
              "6902 70.5            29.5             \n",
              "6903 68.0            32.0             \n",
              "6904 47.0            53.0             \n",
              "6905 31.0            69.0             \n",
              "6906 54.9            45.1             \n",
              "6907 14.1            85.9             \n",
              "6908 11.2            88.8             \n",
              "6909 44.6            55.4             \n",
              "6910 71.0            29.0             \n",
              "6911 74.2            25.8             \n",
              "6912 83.3            16.7             \n",
              "6913 63.9            36.1             \n",
              "6914 85.9            14.1             \n",
              "6915 59.8            40.2             \n",
              "6916 87.5            12.5             \n",
              "6917 57.1            42.9             \n",
              "6918 82.0            18.0             \n",
              "6919 84.2            15.8             \n",
              "6920 70.3            29.7             \n",
              "6921 70.0            30.0             \n",
              "     CompanyLinkToGPGInfo                                                                                                                                          \n",
              "1    https://www.aber.ac.uk/en/equality/genderpaygapreporting2019/ \\n\\nhttps://www.aber.ac.uk/cy/equality/gender-pay-gap/                                          \n",
              "2                                                                                                                                                                  \n",
              "3    https://www.1life.co.uk/gender-pay-gap                                                                                                                        \n",
              "4    https://www.1stchoice.net/gender-pay-gap-report-2019/                                                                                                         \n",
              "5    https://reallifeoptions.org/                                                                                                                                  \n",
              "6    https://www.2sfg.com/PDF/2sfg-GenderPay-2020.pdf                                                                                                              \n",
              "7    https://www.23-5degrees.com/gender-pay-gap                                                                                                                    \n",
              "8                                                                                                                                                                  \n",
              "9    http://www.247esl.co.uk/gender-pay-gap/                                                                                                                       \n",
              "10   https://2gethersupportsolutions.org/about-us/                                                                                                                 \n",
              "11                                                                                                                                                                 \n",
              "12   https://www.bidfood.co.uk/gender-pay-gap-reports/                                                                                                             \n",
              "13                                                                                                                                                                 \n",
              "14                                                                                                                                                                 \n",
              "15   https://assets.contentstack.io/v3/assets/blt4f29123a87c48c8b/blt7e149900887ac409/5e870542ca20f06480e5f157/8X8_uk_gender_pay_report_2020.pdf?disposition=inline\n",
              "16   https://abgint.com/gender-pay-reporting                                                                                                                       \n",
              "17   http://ahworth.co.uk                                                                                                                                          \n",
              "18   https://www.academicsltd.co.uk/                                                                                                                               \n",
              "19   https://www.aplan.co.uk/                                                                                                                                      \n",
              "20                                                                                                                                                                 \n",
              "21   https://www.scsplc.co.uk/                                                                                                                                     \n",
              "22   http://www.abmcatering.co.uk/wp-content/uploads/2019/07/Gender-Pay-Gap-Report-2018.pdf                                                                        \n",
              "23                                                                                                                                                                 \n",
              "24   https://www.clarketransport.co.uk/gender-pay-reports                                                                                                          \n",
              "25                                                                                                                                                                 \n",
              "26   https://www.agbarr.co.uk/responsibility/we-act-with-integrity/                                                                                                \n",
              "27   https://www.ajnsteelstock.co.uk/downloads-resources/                                                                                                          \n",
              "28   https://www.hammondgroup.co.uk/exclusive/aw-and-d-hammond-limiteds-gender-pay-gap-data/67588                                                                  \n",
              "29   https://www.a2dominiongroup.co.uk/content/doclib/60.pdf                                                                                                       \n",
              "30   https://mckesson.uk/wp-content/uploads/2020/03/Gender-Pay-Gap-Report-2019-Final.pdf                                                                           \n",
              "⋮    ⋮                                                                                                                                                             \n",
              "6892 https://www.yorkhospitals.nhs.uk/seecmsfile/?id=4194                                                                                                          \n",
              "6893 https://yorkarehomes.co.uk                                                                                                                                    \n",
              "6894 https://www.yas.nhs.uk/publications/gender-pay-gap-report/                                                                                                    \n",
              "6895 https://www.ybs.co.uk/your-society/inside-your-society/corporate-governance/policies/gender-pay-gap.html                                                      \n",
              "6896 http://yorkshirecauseway.co.uk/policies/                                                                                                                      \n",
              "6897                                                                                                                                                               \n",
              "6898 https://www.arriva.co.uk/~/media/Files/A/Arriva-Corporate-V2/documents/arriva-uks-2019-gender-pay-gap-report.pdf                                              \n",
              "6899 https://www.yorkshirewater.com/careers/working-for-yorkshire-water/diversity-inclusion/                                                                       \n",
              "6900                                                                                                                                                               \n",
              "6901 https://corporate.yougov.com/governance/uk-gender-pay-gap-reporting/                                                                                          \n",
              "6902 https://www.youngs.co.uk/youngs/uploads/sites/2/2020/03/Youngs-gender-pay-gap-2020.pdf                                                                        \n",
              "6903 https://youngsseafood.co.uk/youngs-gender-pay-gap-report/                                                                                                     \n",
              "6904                                                                                                                                                               \n",
              "6905                                                                                                                                                               \n",
              "6906 https://d3qd5ly540y1aa.cloudfront.net/your-move/uploads/media_file/Your-Move-Gender-Pay-Gap-Report-2019-Final.pdf                                             \n",
              "6907 https://www.mccarthyandstonegroup.co.uk/making-a-difference/gender-pay-gap-report-2019                                                                        \n",
              "6908 https://www.yoursclothing.co.uk/gender-pay-gap                                                                                                                \n",
              "6909 https://www.ypo.co.uk/-/media/about-ypo/governance/2020-documents/gender-pay-gap-2020_website.ashx?la=en                                                      \n",
              "6910                                                                                                                                                               \n",
              "6911 https://www.zaha-hadid.com/archive/#reports                                                                                                                   \n",
              "6912 https://www.zebra.com/content/dam/zebra_new_ia/en-us/corporate-and-brand/compliance/uk-gender-pay-report.pdf                                                  \n",
              "6913                                                                                                                                                               \n",
              "6914 https://www.zen.co.uk/resources/docs/default-source/document-library/global-documents/zen-gender-pay-gap-report-2019.pdf?sfvrsn=9f741c65_4                    \n",
              "6915 https://www.zenith.co.uk/gender-pay-gap/                                                                                                                      \n",
              "6916 https://www.zf.com/mobile/en/company/company_profile_zf/locations_worldwide/europe/greatbritain_locations/great_britain_zfworldwide.html                      \n",
              "6917                                                                                                                                                               \n",
              "6918 https://blog.zopa.com/2019/09/30/gender-diversity-at-zopa/                                                                                                    \n",
              "6919                                                                                                                                                               \n",
              "6920 https://www.zurich.co.uk/-/media/project/zwp/united-kingdom/docs/about-us/cr/zurich-uk-gender-pay-gap-2019.pdf?la=en&hash=B63A743DC6127FCD767B739EA2A1DCEB    \n",
              "6921 https://www.zurich.co.uk/-/media/project/zwp/united-kingdom/docs/about-us/cr/zurich-uk-gender-pay-gap-2019.pdf?la=en&hash=B63A743DC6127FCD767B739EA2A1DCEB    \n",
              "     responsible_person                                    EmployerSize  \n",
              "1    Elizabeth Treasure (Vice-Chancellor)                  1000 to 4999  \n",
              "2    Linda Stigter (Director of People and Culture)        250 to 499    \n",
              "3    Mark Braithwaite (Managing Director)                  250 to 499    \n",
              "4    Gill Knight (MD)                                      250 to 499    \n",
              "5    Ian Hardcastle (Chief Operating Officer)              250 to 499    \n",
              "6    Lee Greenbury (Group Director of People & Compliance) 1000 to 4999  \n",
              "7    Luca Contardo (CFO)                                   500 to 999    \n",
              "8    lisa hyem (fd)                                        1000 to 4999  \n",
              "9    Riju Sharma Adhikari (Director)                       Less than 250 \n",
              "10   Finbarr Murray (Managing Director)                    1000 to 4999  \n",
              "11   Sue Hawkins (Finance Manager)                         250 to 499    \n",
              "12   Heather Angus (HR & Sustainability Director)          1000 to 4999  \n",
              "13   Katherine Parks (PR& I Leader, North Europe)          1000 to 4999  \n",
              "14   Alyson Park (HR Director)                             250 to 499    \n",
              "15   Anthony Shore (Senior Manager; Human Resources)       250 to 499    \n",
              "16   Richard Knight (CEO)                                  250 to 499    \n",
              "17   Gill Bartlett (HR Manager)                            250 to 499    \n",
              "18   Claire Tyrrell (Group HR Director)                    1000 to 4999  \n",
              "19   Andrew Galbraith (Group Chief Financial Officer)      1000 to 4999  \n",
              "20   PHILIP FARNELL (GROUP HR MANAGER)                     250 to 499    \n",
              "21   Marie Liston (Corporate Services Director)            1000 to 4999  \n",
              "22   Sue Hill (Finance & HR Director - Operations)         1000 to 4999  \n",
              "23   Ross Goatham (Managing Director)                      250 to 499    \n",
              "24   Bill Clarke (Commercial Director)                     500 to 999    \n",
              "25   Pamela Watts (Group HR Operations Director)           5000 to 19,999\n",
              "26   Doug Brown (Head of Human Resources)                  500 to 999    \n",
              "27   Courtney Bell (Finance Director)                      250 to 499    \n",
              "28   Victor Maycock (HR Manager)                           Not Provided  \n",
              "29   Penny St Martin (Director of HR)                      500 to 999    \n",
              "30   Jane Davies (HR Director)                             1000 to 4999  \n",
              "⋮    ⋮                                                     ⋮             \n",
              "6892                                                       5000 to 19,999\n",
              "6893 Elizabeth Garton (Director)                           250 to 499    \n",
              "6894                                                       5000 to 19,999\n",
              "6895 Stephen White (Chief Operating Officer)               1000 to 4999  \n",
              "6896                                                       500 to 999    \n",
              "6897 Nick Atkin (Chief Executive)                          500 to 999    \n",
              "6898 Alison O'Connor (Director of Corporate Affairs)       500 to 999    \n",
              "6899 Liz Barber (Chief Executive Officer)                  1000 to 4999  \n",
              "6900 Alexander Boyle (MD)                                  250 to 499    \n",
              "6901 Stephan Shakespeare (CEO)                             250 to 499    \n",
              "6902 Patrick Dardis (Chief Executive)                      1000 to 4999  \n",
              "6903 Dominic Kerrigan (HR Director)                        1000 to 4999  \n",
              "6904 Christina Drury (YHN Managing Director)               500 to 999    \n",
              "6905 Debbie Barker (HR Manager)                            500 to 999    \n",
              "6906 Helen Buck (Executive Director, Estate Agency)        500 to 999    \n",
              "6907 Paula Jordan (Group HR Director)                      1000 to 4999  \n",
              "6908 Anna Heather (Finance Director)                       1000 to 4999  \n",
              "6909                                                       500 to 999    \n",
              "6910 Suzanne Mercer (HR Director)                          1000 to 4999  \n",
              "6911 Mouzhan Majidi (CEO)                                  250 to 499    \n",
              "6912 Kally Kang-Kersey (VP Human Resources)                500 to 999    \n",
              "6913 Caroline Drake (Chief People Officer)                 1000 to 4999  \n",
              "6914 Richard Tang (Founder & Chairman)                     500 to 999    \n",
              "6915 Marisa Waddington (HR Director)                       250 to 499    \n",
              "6916 Christopher Adcock (Managing Director)                250 to 499    \n",
              "6917 Timothy Doubleday (CFO)                               250 to 499    \n",
              "6918 Jaidev Janardana (CEO)                                250 to 499    \n",
              "6919 Jill Breingan (HR Director)                           250 to 499    \n",
              "6920 Steve Collinson (Head of The People Team)             1000 to 4999  \n",
              "6921 Steve Collinson (Head of The People Team)             1000 to 4999  \n",
              "     CurrentName                                         \n",
              "1    'PRIFYSGOL ABERYSTWYTH' AND 'ABERYSTWYTH UNIVERSITY'\n",
              "2    10 TRINITY SQUARE HOTEL LIMITED                     \n",
              "3    1LIFE MANAGEMENT SOLUTIONS LIMITED                  \n",
              "4    1ST CHOICE STAFF RECRUITMENT LIMITED                \n",
              "5    1ST HOME CARE LTD.                                  \n",
              "6    2 SISTERS FOOD GROUP LIMITED                        \n",
              "7    23.5 DEGREES LIMITED                                \n",
              "8    24 X 7 LTD.                                         \n",
              "9    24-7 EMPLOYMENT SOLUTIONS LIMITED                   \n",
              "10   2GETHER SUPPORT SOLUTIONS LIMITED                   \n",
              "11   3 WAY CLEANING LIMITED                              \n",
              "12   3663 TRANSPORT LIMITED                              \n",
              "13   3M UNITED KINGDOM PUBLIC LIMITED COMPANY            \n",
              "14   46 BERKELEY SQUARE LTD                              \n",
              "15   8X8 UK LIMITED                                      \n",
              "16   A B GRAPHIC INTERNATIONAL LIMITED                   \n",
              "17   A H WORTH LIMITED                                   \n",
              "18   A-DAY CONSULTANTS LIMITED                           \n",
              "19   A-PLAN HOLDINGS                                     \n",
              "20   A. & B. GLASS COMPANY LIMITED                       \n",
              "21   A. SHARE & SONS LIMITED                             \n",
              "22   A.B.M. CATERING LIMITED                             \n",
              "23   A.C. GOATHAM AND SON LIMITED                        \n",
              "24   A.CLARKE & CO.(SMETHWICK)LIMITED                    \n",
              "25   A.F.BLAKEMORE AND SON LIMITED                       \n",
              "26   A.G. BARR P.L.C.                                    \n",
              "27   A.J.N. STEELSTOCK LTD.                              \n",
              "28   A.W. & D. HAMMOND LIMITED                           \n",
              "29   A2DOMINION HOUSING GROUP LIMITED                    \n",
              "30   AAH PHARMACEUTICALS LIMITED                         \n",
              "⋮    ⋮                                                   \n",
              "6892 York Teaching Hospital Nhs Foundation Trust         \n",
              "6893 YORKARE HOMES LIMITED                               \n",
              "6894 Yorkshire Ambulance Service Nhs Trust               \n",
              "6895 Yorkshire Building Society                          \n",
              "6896 YORKSHIRE CAUSEWAY SCHOOLS TRUST                    \n",
              "6897 YORKSHIRE HOUSING LIMITED                           \n",
              "6898 YORKSHIRE TIGER LIMITED                             \n",
              "6899 YORKSHIRE WATER SERVICES LIMITED                    \n",
              "6900 YORWASTE LIMITED                                    \n",
              "6901 YOUGOV PLC                                          \n",
              "6902 YOUNG & CO'S BREWERY PLC                            \n",
              "6903 YOUNG'S SEAFOOD LIMITED                             \n",
              "6904 YOUR HOMES NEWCASTLE LIMITED                        \n",
              "6905 YOUR LEISURE KENT LIMITED                           \n",
              "6906 YOUR-MOVE.CO.UK LIMITED                             \n",
              "6907 YOURLIFE MANAGEMENT SERVICES LIMITED                \n",
              "6908 YOURS CLOTHING LIMITED                              \n",
              "6909 YPO                                                 \n",
              "6910 YUSEN LOGISTICS (UK) LIMITED                        \n",
              "6911 ZAHA HADID LIMITED                                  \n",
              "6912 ZEBRA TECHNOLOGIES EUROPE LIMITED                   \n",
              "6913 ZELLIS UK LIMITED                                   \n",
              "6914 ZEN INTERNET LIMITED                                \n",
              "6915 ZENITH VEHICLE CONTRACTS LIMITED                    \n",
              "6916 ZF SERVICES UK LIMITED                              \n",
              "6917 ZING LEISURE LIMITED                                \n",
              "6918 PLATA FINANCE LIMITED                               \n",
              "6919 ZOTEFOAMS PLC                                       \n",
              "6920 ZURICH EMPLOYMENT SERVICES LIMITED                  \n",
              "6921 ZURICH UK GENERAL SERVICES LIMITED                  \n",
              "     SubmittedAfterTheDeadline DueDate             DateSubmitted      \n",
              "1    0                         2020/04/05 00:00:00 2020/04/03 14:47:45\n",
              "2    0                         2020/04/05 00:00:00 2020/03/19 15:51:20\n",
              "3    0                         2020/04/05 00:00:00 2020/03/10 17:03:17\n",
              "4    0                         2020/04/05 00:00:00 2020/01/24 09:37:01\n",
              "5    0                         2020/04/05 00:00:00 2020/03/12 08:21:06\n",
              "6    0                         2020/04/05 00:00:00 2021/09/30 12:54:30\n",
              "7    0                         2020/04/05 00:00:00 2019/11/11 15:33:45\n",
              "8    0                         2020/04/05 00:00:00 2021/10/12 09:31:56\n",
              "9    0                         2020/04/05 00:00:00 2020/04/06 15:24:41\n",
              "10   0                         2020/04/05 00:00:00 2020/03/24 14:58:53\n",
              "11   0                         2020/04/05 00:00:00 2021/07/01 08:25:27\n",
              "12   0                         2020/04/05 00:00:00 2020/05/14 16:07:39\n",
              "13   0                         2020/04/05 00:00:00 2020/03/17 13:02:54\n",
              "14   0                         2020/04/05 00:00:00 2020/04/02 10:43:02\n",
              "15   0                         2020/04/05 00:00:00 2020/04/03 16:08:58\n",
              "16   0                         2020/04/05 00:00:00 2020/03/30 14:28:05\n",
              "17   0                         2020/04/05 00:00:00 2020/03/26 14:51:45\n",
              "18   0                         2020/04/05 00:00:00 2020/03/25 16:19:41\n",
              "19   0                         2020/04/05 00:00:00 2020/03/09 09:08:57\n",
              "20   0                         2020/04/05 00:00:00 2019/05/20 16:34:42\n",
              "21   0                         2020/04/05 00:00:00 2020/06/11 11:19:46\n",
              "22   0                         2020/04/05 00:00:00 2020/01/29 12:20:31\n",
              "23   0                         2020/04/05 00:00:00 2020/03/09 17:03:00\n",
              "24   0                         2020/04/05 00:00:00 2021/10/04 15:39:17\n",
              "25   0                         2020/04/05 00:00:00 2021/10/03 20:00:58\n",
              "26   0                         2020/04/05 00:00:00 2021/03/25 16:40:28\n",
              "27   0                         2020/04/05 00:00:00 2020/03/10 12:46:34\n",
              "28   0                         2020/04/05 00:00:00 2021/09/27 17:29:33\n",
              "29   0                         2020/04/05 00:00:00 2020/04/03 12:47:00\n",
              "30   0                         2020/04/05 00:00:00 2020/03/18 11:11:39\n",
              "⋮    ⋮                         ⋮                   ⋮                  \n",
              "6892 0                         2020/03/31 00:00:00 2020/02/21 14:19:27\n",
              "6893 0                         2020/04/05 00:00:00 2020/01/20 11:37:08\n",
              "6894 0                         2020/03/31 00:00:00 2020/03/26 13:27:33\n",
              "6895 0                         2020/04/05 00:00:00 2019/12/19 06:06:39\n",
              "6896 0                         2020/03/31 00:00:00 2020/01/21 14:30:20\n",
              "6897 0                         2020/04/05 00:00:00 2020/02/28 08:47:47\n",
              "6898 0                         2020/04/05 00:00:00 2020/03/04 10:43:31\n",
              "6899 0                         2020/04/05 00:00:00 2020/04/02 08:00:46\n",
              "6900 0                         2020/04/05 00:00:00 2021/03/24 16:48:43\n",
              "6901 0                         2020/04/05 00:00:00 2020/05/01 14:41:42\n",
              "6902 0                         2020/04/05 00:00:00 2020/03/20 16:08:39\n",
              "6903 0                         2020/04/05 00:00:00 2020/03/19 11:25:18\n",
              "6904 0                         2020/04/05 00:00:00 2019/07/23 10:41:53\n",
              "6905 0                         2020/04/05 00:00:00 2019/12/02 08:09:30\n",
              "6906 0                         2020/04/05 00:00:00 2020/04/06 16:56:43\n",
              "6907 0                         2020/04/05 00:00:00 2020/07/01 11:23:55\n",
              "6908 0                         2020/04/05 00:00:00 2020/04/28 15:59:05\n",
              "6909 0                         2020/03/31 00:00:00 2020/03/12 11:02:47\n",
              "6910 0                         2020/04/05 00:00:00 2020/03/30 10:19:10\n",
              "6911 0                         2020/04/05 00:00:00 2020/03/23 14:09:39\n",
              "6912 0                         2020/04/05 00:00:00 2020/03/09 15:59:48\n",
              "6913 0                         2020/04/05 00:00:00 2020/07/10 08:26:03\n",
              "6914 0                         2020/04/05 00:00:00 2019/07/30 11:18:45\n",
              "6915 0                         2020/04/05 00:00:00 2020/04/03 09:43:25\n",
              "6916 0                         2020/04/05 00:00:00 2020/02/04 08:47:44\n",
              "6917 0                         2020/04/05 00:00:00 2021/08/18 09:29:16\n",
              "6918 0                         2020/04/05 00:00:00 2020/02/27 13:32:25\n",
              "6919 0                         2020/04/05 00:00:00 2020/05/04 16:05:24\n",
              "6920 0                         2020/04/05 00:00:00 2020/04/09 12:19:18\n",
              "6921 0                         2020/04/05 00:00:00 2020/04/09 12:24:11\n",
              "     twicediffmeanhourlyprecent\n",
              "1    23.0                      \n",
              "2    17.4                      \n",
              "3    22.0                      \n",
              "4    -4.6                      \n",
              "5    -4.0                      \n",
              "6    50.0                      \n",
              "7    20.0                      \n",
              "8     0.4                      \n",
              "9     0.0                      \n",
              "10    7.4                      \n",
              "11    2.2                      \n",
              "12    2.8                      \n",
              "13   20.0                      \n",
              "14   11.6                      \n",
              "15   52.0                      \n",
              "16   27.0                      \n",
              "17   24.6                      \n",
              "18   29.6                      \n",
              "19   36.4                      \n",
              "20   38.0                      \n",
              "21   50.0                      \n",
              "22   43.4                      \n",
              "23   23.4                      \n",
              "24    6.2                      \n",
              "25   36.0                      \n",
              "26    5.4                      \n",
              "27   20.6                      \n",
              "28   33.2                      \n",
              "29   50.8                      \n",
              "30   21.4                      \n",
              "⋮    ⋮                         \n",
              "6892  66.8                     \n",
              "6893   2.0                     \n",
              "6894  10.4                     \n",
              "6895  61.0                     \n",
              "6896  58.0                     \n",
              "6897  19.0                     \n",
              "6898  -5.8                     \n",
              "6899   3.0                     \n",
              "6900  -1.2                     \n",
              "6901  46.0                     \n",
              "6902  19.2                     \n",
              "6903  38.0                     \n",
              "6904 -11.2                     \n",
              "6905 -24.2                     \n",
              "6906  45.4                     \n",
              "6907  37.0                     \n",
              "6908 118.0                     \n",
              "6909 -10.2                     \n",
              "6910   9.4                     \n",
              "6911  41.0                     \n",
              "6912  24.8                     \n",
              "6913  37.6                     \n",
              "6914  43.8                     \n",
              "6915  38.6                     \n",
              "6916  15.2                     \n",
              "6917  20.0                     \n",
              "6918  51.0                     \n",
              "6919   7.6                     \n",
              "6920  46.8                     \n",
              "6921  43.0                     "
            ]
          },
          "metadata": {}
        }
      ]
    },
    {
      "cell_type": "markdown",
      "source": [
        "## Piping"
      ],
      "metadata": {
        "id": "NXPj1KSflVuQ"
      }
    },
    {
      "cell_type": "markdown",
      "source": [
        "The pipe operator, %>%, is useful for performing functions simultaneously.\n",
        "\n",
        "Theoretically: say you have an object, x, and you want to perform three functions on it: f(), g(), and h(). You could do:\n",
        "\n",
        "- f(x)\n",
        "- g(x)\n",
        "- h(x)\n",
        "\n",
        "Running these three lines of code sequentially would the run x through f(), then run the result through g(), then run that result through h(). A cleaner way to do this is by running it all in one ‘pipe’:\n",
        "\n",
        "x %>% f() %>% g() %>% h()\n",
        "\n",
        "In short, the pipe operator forwards (‘pipes’) the values on its left hand side into the expression(s) on its right hand side.\n",
        "\n",
        "E.g. say you want to take a cardiac dataset, filter for females, drop the column gender, and add a new column calculating body temperature in Kelvin:\n",
        "\n",
        "- cardiacdata <- cardiacdata %>%\n",
        "- filter(gender == 'Female') %>%\n",
        "- select(-gender) %>%\n",
        "- mutate(bodytemp_Kelvin = bodytemp_degC + 273)"
      ],
      "metadata": {
        "id": "NKVPkLrXlddS"
      }
    },
    {
      "cell_type": "code",
      "source": [
        "paygap <- paygap %>%\n",
        "  filter(SubmittedAfterTheDeadline == '1') %>%\n",
        "  select(-SubmittedAfterTheDeadline) %>%\n",
        "  mutate(twicediffmeanbonuspercent = DiffMeanBonusPercent * 2)"
      ],
      "metadata": {
        "id": "bu9vnGmol_mt"
      },
      "execution_count": null,
      "outputs": []
    },
    {
      "cell_type": "markdown",
      "source": [
        "## Aggregating Data"
      ],
      "metadata": {
        "id": "yxURI0xglrFc"
      }
    },
    {
      "cell_type": "markdown",
      "source": [
        "Aggregating data is useful if you want to find summary statistics across particular categories in the data. When aggregating data you must specify your grouping variable (which should be categorical), and you must perform some function (usually a sum or mean) on the non-grouping variables (which should be numeric).\n",
        "\n",
        "There are many ways to aggregate data. One way is using group_by() to specify the grouping variable(s) and summarize() to specify the function you want to perform on the non-grouping variable(s).1\n",
        "\n",
        "E.g. to compare averages across gender, use gender as the grouping variable and calculate means for the other variables:"
      ],
      "metadata": {
        "id": "YgnE3Ms3muYu"
      }
    },
    {
      "cell_type": "code",
      "source": [
        "paygap_bydeadline <- paygap %>%\n",
        "  group_by(SubmittedAfterTheDeadline) %>%                                  # group by 'SubmittedAfterTheDeadline'\n",
        "  summarize(avg_diffmeanhourlypercent = mean(DiffMeanHourlyPercent),                       # aggregate using means\n",
        "            avg_diffmeanbonuspercent = mean(DiffMeanBonusPercent), \n",
        "            avg_malebonuspercent = mean(MaleBonusPercent),\n",
        "            avg_femalebonuspercent = mean(FemaleBonusPercent))  "
      ],
      "metadata": {
        "id": "M7rUn75hlQXy"
      },
      "execution_count": 80,
      "outputs": []
    },
    {
      "cell_type": "markdown",
      "source": [
        "## Dealing with Missing Data"
      ],
      "metadata": {
        "id": "61lwLwARm8gI"
      }
    },
    {
      "cell_type": "markdown",
      "source": [
        "If your data contains missing values (NA values), some functions may not run as expected:"
      ],
      "metadata": {
        "id": "PtbZuxvNm_o9"
      }
    },
    {
      "cell_type": "code",
      "source": [
        "some_numbers <- c(4,5,6,7,NA,8)\n",
        "\n",
        "mean(some_numbers)"
      ],
      "metadata": {
        "colab": {
          "base_uri": "https://localhost:8080/",
          "height": 34
        },
        "id": "NBJYhl37m9ih",
        "outputId": "3dbcf141-188f-4bc3-bd78-0e592c7fe872"
      },
      "execution_count": null,
      "outputs": [
        {
          "output_type": "display_data",
          "data": {
            "text/html": [
              "&lt;NA&gt;"
            ],
            "text/markdown": "&lt;NA&gt;",
            "text/latex": "<NA>",
            "text/plain": [
              "[1] NA"
            ]
          },
          "metadata": {}
        }
      ]
    },
    {
      "cell_type": "markdown",
      "source": [
        "If you want the function to skip all missing values, you should specify the argument na.rm = TRUE (by default it is set to FALSE for most functions):"
      ],
      "metadata": {
        "id": "3AbvnBySnDwr"
      }
    },
    {
      "cell_type": "code",
      "source": [
        "mean(some_numbers, na.rm = TRUE)"
      ],
      "metadata": {
        "colab": {
          "base_uri": "https://localhost:8080/",
          "height": 34
        },
        "id": "CMzoKIC6nBIT",
        "outputId": "42fc20d9-d9be-4eb7-dc84-9114ce1a66d5"
      },
      "execution_count": null,
      "outputs": [
        {
          "output_type": "display_data",
          "data": {
            "text/html": [
              "6"
            ],
            "text/markdown": "6",
            "text/latex": "6",
            "text/plain": [
              "[1] 6"
            ]
          },
          "metadata": {}
        }
      ]
    },
    {
      "cell_type": "markdown",
      "source": [
        "## Visualizing Data"
      ],
      "metadata": {
        "id": "XuiM4e0XnH5B"
      }
    },
    {
      "cell_type": "markdown",
      "source": [
        "ggplot2 is the main plotting library in R. Note although the package name is ggplot2, the function call is simply ggplot(). To make a plot you need to provide ggplot() with two arguments, data and mapping:\n",
        "\n",
        "- data – the data frame you want to plot\n",
        "- mapping – an aesthetic mapping for variable(s) go on which axes\n",
        "\n",
        "The following examples will demonstrate how to use ggplot(). Here is a ggplot cheatsheet: https://bookdown.org/vaabe/bookdown-demo/base64%20data"
      ],
      "metadata": {
        "id": "bdoqgGz6nLzA"
      }
    },
    {
      "cell_type": "markdown",
      "source": [
        "## Histograms"
      ],
      "metadata": {
        "id": "SzTZH41rnUUE"
      }
    },
    {
      "cell_type": "markdown",
      "source": [
        "Histograms are a good way to visualize the distribution of data, since they display the frequency (or relative frequency) of observations within specified intervals or ‘bins’.\n",
        "\n",
        "To plot a histogram you must specify + geom_histogram() after the main function call. Histograms only require one variable (for the  \n",
        "x\n",
        " -axis; the  \n",
        "y\n",
        " -axis is simply frequency).\n",
        "\n",
        "The following code plots a histogram of the variable diff mean hourly percent:"
      ],
      "metadata": {
        "id": "Hcu3KMclnagb"
      }
    },
    {
      "cell_type": "code",
      "source": [
        "ggplot(data = paygap, mapping = aes(x = DiffMeanHourlyPercent)) + \n",
        "  geom_histogram(bins = 20)"
      ],
      "metadata": {
        "colab": {
          "base_uri": "https://localhost:8080/",
          "height": 437
        },
        "id": "HfVVN0s9nFne",
        "outputId": "ef535d73-d01b-4da9-e273-a736e9216462"
      },
      "execution_count": 81,
      "outputs": [
        {
          "output_type": "display_data",
          "data": {
            "text/plain": [
              "plot without title"
            ],
            "image/png": "[encoded data removed]"
          },
          "metadata": {
            "image/png": {
              "width": 420,
              "height": 420
            }
          }
        }
      ]
    },
    {
      "cell_type": "markdown",
      "source": [
        "If you want relative frequency on the  \n",
        "y\n",
        " -axis (a density plot) you can specify the aesthetic mapping y = ..density.. in geom_histogram():"
      ],
      "metadata": {
        "id": "-hEdqJ5cnfZd"
      }
    },
    {
      "cell_type": "code",
      "source": [
        "ggplot(data = paygap, mapping = aes(x = DiffMeanHourlyPercent)) + \n",
        "  geom_histogram(bins = 20, aes(y = ..density..))"
      ],
      "metadata": {
        "id": "l3qTERRrnY9G",
        "colab": {
          "base_uri": "https://localhost:8080/",
          "height": 437
        },
        "outputId": "5da6270c-9aea-4541-9b8d-5b26f27b1f12"
      },
      "execution_count": 82,
      "outputs": [
        {
          "output_type": "display_data",
          "data": {
            "text/plain": [
              "plot without title"
            ],
            "image/png": "[encoded data removed]"
          },
          "metadata": {
            "image/png": {
              "width": 420,
              "height": 420
            }
          }
        }
      ]
    },
    {
      "cell_type": "markdown",
      "source": [
        "You can make the plot prettier by adding axis labels and changing the colors and theme:"
      ],
      "metadata": {
        "id": "oQ1yD7Vbnh_E"
      }
    },
    {
      "cell_type": "code",
      "source": [
        "ggplot(data = paygap, mapping = aes(x = DiffMeanHourlyPercent)) + \n",
        "  geom_histogram(bins = 20, aes(y = ..density..), fill = 'lightblue') +\n",
        "  xlab('diff mean hourly percents') +\n",
        "  ggtitle('distribution of diff mean hourly percents') +\n",
        "  theme_light()"
      ],
      "metadata": {
        "id": "sqsk3TnInmCQ",
        "colab": {
          "base_uri": "https://localhost:8080/",
          "height": 437
        },
        "outputId": "f7b6ec32-0808-478f-8971-d1cd43d522e6"
      },
      "execution_count": 85,
      "outputs": [
        {
          "output_type": "display_data",
          "data": {
            "text/plain": [
              "plot without title"
            ],
            "image/png": "[encoded data removed]"
          },
          "metadata": {
            "image/png": {
              "width": 420,
              "height": 420
            }
          }
        }
      ]
    },
    {
      "cell_type": "markdown",
      "source": [
        "## Scatterplots"
      ],
      "metadata": {
        "id": "J9k6WAC_nosw"
      }
    },
    {
      "cell_type": "markdown",
      "source": [
        "Scatterplots require two variables–one for  \n",
        "x\n",
        "  and one for  \n",
        "y\n",
        " . To make a scatterplot you must specify + geom_point() after the main function call.\n",
        "\n",
        "Below is a scatterplot of heart rate on body temperature:"
      ],
      "metadata": {
        "id": "B2oIMUqonmu9"
      }
    },
    {
      "cell_type": "code",
      "source": [
        "ggplot(data = paygap, mapping = aes(x = EmployerSize, y = DiffMeanBonusPercent)) + \n",
        "  geom_point() +\n",
        "  theme_light()"
      ],
      "metadata": {
        "id": "u_aRHiDwnsaY",
        "colab": {
          "base_uri": "https://localhost:8080/",
          "height": 473
        },
        "outputId": "b8c601c8-601a-42af-e55e-b26d57f5c0ed"
      },
      "execution_count": 86,
      "outputs": [
        {
          "output_type": "stream",
          "name": "stderr",
          "text": [
            "Warning message:\n",
            "“Removed 1716 rows containing missing values (geom_point).”\n"
          ]
        },
        {
          "output_type": "display_data",
          "data": {
            "text/plain": [
              "plot without title"
            ],
            "image/png": "[encoded data removed]"
          },
          "metadata": {
            "image/png": {
              "width": 420,
              "height": 420
            }
          }
        }
      ]
    },
    {
      "cell_type": "markdown",
      "source": [
        "To distinguish between females and males, you can add another argument to the aesthetic mapping, color = gender. This will use different colors for data points corresponding to each gender:"
      ],
      "metadata": {
        "id": "QX1-_UwBnuN3"
      }
    },
    {
      "cell_type": "code",
      "source": [
        "ggplot(data = paygap, mapping = aes(x = EmployerSize, y = DiffMeanBonusPercent, color = SubmittedAfterTheDeadline)) + \n",
        "  geom_point() +\n",
        "  theme_light()"
      ],
      "metadata": {
        "id": "CljKsAIDny6n",
        "colab": {
          "base_uri": "https://localhost:8080/",
          "height": 473
        },
        "outputId": "7c9f4878-0777-426a-c98b-fa16721f42df"
      },
      "execution_count": 87,
      "outputs": [
        {
          "output_type": "stream",
          "name": "stderr",
          "text": [
            "Warning message:\n",
            "“Removed 1716 rows containing missing values (geom_point).”\n"
          ]
        },
        {
          "output_type": "display_data",
          "data": {
            "text/plain": [
              "plot without title"
            ],
            "image/png": "[encoded data removed]"
          },
          "metadata": {
            "image/png": {
              "width": 420,
              "height": 420
            }
          }
        }
      ]
    },
    {
      "cell_type": "markdown",
      "source": [
        "## Box and Whisker Plots"
      ],
      "metadata": {
        "id": "LMjD9L6Gn1nk"
      }
    },
    {
      "cell_type": "markdown",
      "source": [
        "Box and whisker plots require two variables; one should be categorical and the other should be numeric. To make a box and whisker plot you must specify + geom_boxplot() after the main function call.\n",
        "\n",
        "Below is a box and whisker plot of body temperature (continuous) on gender (categorical):"
      ],
      "metadata": {
        "id": "arO9nbWZn4MJ"
      }
    },
    {
      "cell_type": "code",
      "source": [
        "ggplot(data = cardiacdata, mapping = aes(x = gender, y = bodytemp_degC)) +\n",
        "  geom_boxplot() +\n",
        "  xlab('gender') +\n",
        "  ylab('body temperature (celsius)') +\n",
        "  theme_light()"
      ],
      "metadata": {
        "id": "ywzWG6XQn2gn",
        "colab": {
          "base_uri": "https://localhost:8080/",
          "height": 151
        },
        "outputId": "9f5246dc-8a23-4295-de4d-a493ecd10df0"
      },
      "execution_count": 89,
      "outputs": [
        {
          "output_type": "error",
          "ename": "ERROR",
          "evalue": "ignored",
          "traceback": [
            "Error in parse(text = x, srcfile = src): <text>:5:0: unexpected end of input\n3:   xlab('submitted after the deadline') +\n4:   ylab('diff mean bonus percent') + theme_light()\n  ^\nTraceback:\n"
          ]
        }
      ]
    },
    {
      "cell_type": "markdown",
      "source": [
        "You can see R marks outliers (values substantially outside the interquartile range) as separate points."
      ],
      "metadata": {
        "id": "KMoH-0tVn6Kd"
      }
    },
    {
      "cell_type": "markdown",
      "source": [
        "Notes:\n",
        "\n",
        "1. _Another way is using the aggregate() function._\n",
        "\n",
        "2. _For obvious reasons, the color mapping requires a categorical variable. A different color will be used for each category._"
      ],
      "metadata": {
        "id": "MQSzOSKln-OW"
      }
    }
  ]
}